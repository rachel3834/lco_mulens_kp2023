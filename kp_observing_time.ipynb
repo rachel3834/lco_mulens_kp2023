{
 "cells": [
  {
   "cell_type": "markdown",
   "id": "b993eec4",
   "metadata": {},
   "source": [
    "# Estimate Time Request for Key Project Proposal\n",
    "\n",
    "This notebook summarizes the results of simulating the proposed follow-up strategy for targets from the different surveys, and computes the overal total observing time requested on LCO facilities. \n",
    "\n",
    "For details of the calculations of total numbers of targets selected from each survey, and the corresponding observing time calculations, please see notebooks:\n",
    "* ./gaia/estimated_number_gaia_events.ipynb\n",
    "* ./ztf/estimated_number_ztf_events.ipynb\n",
    "* ./ogle/estimated_number_bulge_events.ipynb"
   ]
  },
  {
   "cell_type": "markdown",
   "id": "5e7c44a8",
   "metadata": {},
   "source": [
    "## Summary of time for each element of observations\n",
    "\n",
    "Here we summarize the findings of the above notebooks, in terms of the expected numbers of targets and the observing time required to complete the proposed strategy on each instrument class, as required by the proposal.  \n",
    "\n",
    "Note that there may be slight differences in the total time estimated, as the previous notebooks allowed decimal numbers of targets whereas here we require integers. "
   ]
  },
  {
   "cell_type": "code",
   "execution_count": 1,
   "id": "fdc7379a",
   "metadata": {},
   "outputs": [],
   "source": [
    "class TargetSet:\n",
    "    def __init__(self):\n",
    "        self.survey = None\n",
    "        self.n_survey_years = 0\n",
    "        self.n_planet_events_per_year = 0\n",
    "        self.n_stellar_events_per_year = 0\n",
    "        self.n_bh_events_per_year = 0\n",
    "        \n",
    "        self.sinistro_time_per_planet = 0\n",
    "        self.sinistro_time_per_star = 0\n",
    "        self.sinistro_time_per_bh = 0\n",
    "        \n",
    "        self.floyds_frac = 0.0\n",
    "        self.floyds_time_per_target = 3.83 # hrs\n",
    "        \n",
    "        self.time_per_caustic = 6.0*2.0 # hrs, with two caustic crossings per event\n",
    "        self.time_per_anomaly = 4.0 # hrs\n",
    "        self.vis_fraction = 0.0\n",
    "    \n",
    "    def calc_total_n_events(self):\n",
    "        \"\"\"Calculate the total number of events over the lifetime of the survey operations\"\"\"\n",
    "        self.n_planet_events = self.n_planet_events_per_year * self.n_survey_years \n",
    "        self.n_stellar_events = self.n_stellar_events_per_year * self.n_survey_years \n",
    "        self.n_bh_events = self.n_bh_events_per_year * self.n_survey_years \n",
    "        \n",
    "        print('Expect ~'+str(self.n_planet_events_per_year)+' planetary events per year, and '+str(self.n_planet_events)+' over the remaining survey lifetime')\n",
    "        print('Expect ~'+str(self.n_stellar_events_per_year)+' stellar events per year, and '+str(self.n_stellar_events)+' over the remaining survey lifetime')\n",
    "        print('Expect ~'+str(self.n_bh_events_per_year)+' stellar remnant events per year, and '+str(self.n_bh_events)+' over the remaining survey lifetime')\n",
    "      \n",
    "    def calc_sinistro_time(self):\n",
    "        \"\"\"Calculate the time required on the 1m/Sinistro network for different categories of events\"\"\"\n",
    "        \n",
    "        self.sinistro_time_planet_per_year = self.sinistro_time_per_planet * self.n_planet_events_per_year\n",
    "        self.sinistro_time_planet = self.sinistro_time_planet_per_year * self.n_survey_years\n",
    "        self.sinistro_time_stellar_per_year = self.sinistro_time_per_star * self.n_stellar_events_per_year\n",
    "        self.sinistro_time_stellar = self.sinistro_time_stellar_per_year * self.n_survey_years\n",
    "        self.sinistro_time_bh_per_year = self.sinistro_time_per_bh * self.n_bh_events_per_year\n",
    "        self.sinistro_time_bh = self.sinistro_time_bh_per_year * self.n_survey_years\n",
    "\n",
    "        print('Time on 1m/Sinistro network required for planetary events per year = '+str(self.sinistro_time_planet_per_year)+'hrs')\n",
    "        print('Total time on 1m/Sinistro network required for planetary events = '+str(self.sinistro_time_planet)+'hrs')\n",
    "        print('Time on 1m/Sinistro network required for stellar events per year = '+str(self.sinistro_time_stellar_per_year)+'hrs')\n",
    "        print('Total time on 1m/Sinistro network required for stellar events = '+str(self.sinistro_time_stellar)+'hrs')\n",
    "        print('Time on 1m/Sinistro network required for stellar remnant events per year = '+str(self.sinistro_time_bh_per_year)+'hrs')\n",
    "        print('Total time on 1m/Sinistro network required for stellar remnant events = '+str(self.sinistro_time_bh)+'hrs')\n",
    "\n",
    "    def calc_floyds_time(self):\n",
    "        \"\"\"Calculate the time required for 2m/FLOYDS spectroscopy\"\"\"\n",
    "        \n",
    "        self.floyds_planet_events_per_year = int(round(self.floyds_frac*self.n_planet_events_per_year,0))\n",
    "        self.floyds_stellar_events_per_year = int(round(self.floyds_frac*self.n_stellar_events_per_year,0))\n",
    "        self.floyds_bh_events_per_year = int(round(self.floyds_frac*self.n_bh_events_per_year,0))\n",
    "        print('Number of planetary events bright enough for FLOYDS per year = '+str(self.floyds_planet_events_per_year))\n",
    "        print('Number of stellar events bright enough for FLOYDS per year = '+str(self.floyds_stellar_events_per_year))\n",
    "        print('Number of stellar remnant events bright enough for FLOYDS per year = '+str(self.floyds_bh_events_per_year))\n",
    "        \n",
    "        self.floyds_time_planet_per_year = self.floyds_planet_events_per_year * self.floyds_time_per_target\n",
    "        self.floyds_time_planet = self.floyds_time_planet_per_year * self.n_survey_years\n",
    "        self.floyds_time_stellar_per_year = self.floyds_stellar_events_per_year * self.floyds_time_per_target\n",
    "        self.floyds_time_stellar = self.floyds_time_stellar_per_year * self.n_survey_years\n",
    "        self.floyds_time_bh_per_year = self.floyds_bh_events_per_year * self.floyds_time_per_target\n",
    "        self.floyds_time_bh = self.floyds_time_bh_per_year * self.n_survey_years\n",
    "        print('Time on 2m/FLOYDS network required for planetary events per year = '+str(self.floyds_time_planet_per_year)+'hrs')\n",
    "        print('Total time on 2m/FLOYDS network required for planetary events = '+str(self.floyds_time_planet)+'hrs')\n",
    "        print('Time on 2m/FLOYDS network required for stellar events per year = '+str(self.floyds_time_stellar_per_year)+'hrs')\n",
    "        print('Total time on 2m/FLOYDS network required for stellar events = '+str(self.floyds_time_stellar)+'hrs')\n",
    "        print('Time on 2m/FLOYDS network required for stellar remnant events per year = '+str(self.floyds_time_bh_per_year)+'hrs')\n",
    "        print('Total time on 2m/FLOYDS network required for stellar remnant events = '+str(self.floyds_time_bh)+'hrs')\n",
    "\n",
    "\n",
    "    def calc_2m_imagers_time(self):\n",
    "        \"\"\"Estimate of time required in hours on the 2m/MusCAT or 2m/Spectral network to \n",
    "        observe caustic crossings for stellar binary events in RAPID RESPONSE MODE\"\"\"\n",
    "\n",
    "        self.time_rr_stellar_events_per_year = self.n_stellar_events_per_year * self.time_per_caustic\n",
    "        self.time_rr_stellar_events = self.time_rr_stellar_events_per_year * self.n_survey_years\n",
    "        self.time_rr_planet_events_per_year = self.n_planet_events_per_year * self.time_per_anomaly\n",
    "        self.time_rr_planet_events = self.time_rr_planet_events_per_year * self.n_survey_years\n",
    "\n",
    "        self.time_2m_imagers_planet_per_year = self.time_rr_planet_events_per_year * self.vis_fraction\n",
    "        self.time_2m_imagers_planet = self.time_rr_planet_events * self.vis_fraction\n",
    "        print('Time on 2m imagers in Rapid Response mode for planetary events per year = '+str(self.time_2m_imagers_planet_per_year))\n",
    "        print('Total time on 2m imagers in Rapid Response mode for planetary events = '+str(self.time_2m_imagers_planet))\n",
    "        \n",
    "        self.time_2m_imagers_stellar_per_year = self.time_rr_stellar_events_per_year * self.vis_fraction\n",
    "        self.time_2m_imagers_stellar = self.time_rr_stellar_events * self.vis_fraction\n",
    "        print('Time on 2m imagers in Rapid Response mode for stellar events per year = '+str(self.time_2m_imagers_stellar_per_year))\n",
    "        print('Total time on 2m imagers in Rapid Response mode for stellar events = '+str(self.time_2m_imagers_stellar))\n",
    "    \n",
    "    def calc_time_totals(self):\n",
    "        \n",
    "        self.sinistro_time_per_year = self.sinistro_time_planet_per_year \\\n",
    "                                        + self.sinistro_time_stellar_per_year \\\n",
    "                                        + self.sinistro_time_bh_per_year\n",
    "        self.sinistro_time = self.sinistro_time_planet + self.sinistro_time_stellar + self.sinistro_time_bh\n",
    "\n",
    "        \n",
    "        self.floyds_time_per_year = self.floyds_time_planet_per_year \\\n",
    "                                    + self.floyds_time_stellar_per_year \\\n",
    "                                    + self.floyds_time_bh_per_year\n",
    "        self.floyds_time = self.floyds_time_planet + self.floyds_time_stellar + self.floyds_time_bh\n",
    "\n",
    "        self.time_2m_imagers_per_year = self.time_2m_imagers_planet_per_year \\\n",
    "                                            + self.time_2m_imagers_stellar_per_year\n",
    "        self.time_2m_imagers = self.time_2m_imagers_planet + self.time_2m_imagers_stellar\n",
    "        "
   ]
  },
  {
   "cell_type": "markdown",
   "id": "a0518b75",
   "metadata": {},
   "source": [
    "### Gaia Targets\n",
    "\n",
    "The simulation considers LCO observations of stellar remnant and stellar (most likely single-lens) events detected by Gaia over its last two years of operation (2023-2025). \n",
    "\n",
    "Note that this does not preclude observing a stellar or planetary binary of interest if one is discovered, but for the purpose of the proposal I have aimed to be conservative. "
   ]
  },
  {
   "cell_type": "code",
   "execution_count": 22,
   "id": "818a4edd",
   "metadata": {},
   "outputs": [],
   "source": [
    "gaia_targets = TargetSet()"
   ]
  },
  {
   "cell_type": "code",
   "execution_count": 23,
   "id": "fc126213",
   "metadata": {},
   "outputs": [
    {
     "name": "stdout",
     "output_type": "stream",
     "text": [
      "Expect ~0 planetary events per year, and 0.0 over the remaining survey lifetime\n",
      "Expect ~10 stellar events per year, and 20.0 over the remaining survey lifetime\n",
      "Expect ~8 stellar remnant events per year, and 16.0 over the remaining survey lifetime\n"
     ]
    }
   ],
   "source": [
    "gaia_targets.n_survey_years = 2.0\n",
    "gaia_targets.n_stellar_events_per_year = int(round(0.1*100,0))\n",
    "gaia_targets.n_bh_events_per_year = int(round(0.079*100,0))\n",
    "gaia_targets.calc_total_n_events()      \n"
   ]
  },
  {
   "cell_type": "code",
   "execution_count": 24,
   "id": "6648ce21",
   "metadata": {},
   "outputs": [
    {
     "name": "stdout",
     "output_type": "stream",
     "text": [
      "Time on 1m/Sinistro network required for planetary events per year = 0hrs\n",
      "Total time on 1m/Sinistro network required for planetary events = 0.0hrs\n",
      "Time on 1m/Sinistro network required for stellar events per year = 103.05hrs\n",
      "Total time on 1m/Sinistro network required for stellar events = 206.1hrs\n",
      "Time on 1m/Sinistro network required for stellar remnant events per year = 218.4hrs\n",
      "Total time on 1m/Sinistro network required for stellar remnant events = 436.8hrs\n"
     ]
    }
   ],
   "source": [
    "# Estimates of time required in hours on the 1m/Sinistro network to observe the different categories of events\n",
    "gaia_targets.sinistro_time_per_star = 10.305\n",
    "gaia_targets.sinistro_time_per_bh = 27.3\n",
    "gaia_targets.calc_sinistro_time()\n"
   ]
  },
  {
   "cell_type": "code",
   "execution_count": 25,
   "id": "ea8ff838",
   "metadata": {},
   "outputs": [
    {
     "name": "stdout",
     "output_type": "stream",
     "text": [
      "Number of planetary events bright enough for FLOYDS per year = 0\n",
      "Number of stellar events bright enough for FLOYDS per year = 2\n",
      "Number of stellar remnant events bright enough for FLOYDS per year = 2\n",
      "Time on 2m/FLOYDS network required for planetary events per year = 0.0hrs\n",
      "Total time on 2m/FLOYDS network required for planetary events = 0.0hrs\n",
      "Time on 2m/FLOYDS network required for stellar events per year = 7.66hrs\n",
      "Total time on 2m/FLOYDS network required for stellar events = 15.32hrs\n",
      "Time on 2m/FLOYDS network required for stellar remnant events per year = 7.66hrs\n",
      "Total time on 2m/FLOYDS network required for stellar remnant events = 15.32hrs\n"
     ]
    }
   ],
   "source": [
    "# Estimates of time required in hours on the 2m/FLOYDS network to observe the different categories of events\n",
    "gaia_targets.floyds_frac = 0.2 # Fraction of events likely to be bright enough for FLOYDS\n",
    "gaia_targets.calc_floyds_time()\n"
   ]
  },
  {
   "cell_type": "code",
   "execution_count": 26,
   "id": "add864f9",
   "metadata": {},
   "outputs": [
    {
     "name": "stdout",
     "output_type": "stream",
     "text": [
      "Time on 2m imagers in Rapid Response mode for planetary events per year = 0.0\n",
      "Total time on 2m imagers in Rapid Response mode for planetary events = 0.0\n",
      "Time on 2m imagers in Rapid Response mode for stellar events per year = 40.0\n",
      "Total time on 2m imagers in Rapid Response mode for stellar events = 80.0\n"
     ]
    }
   ],
   "source": [
    "# Estimate of time required in hours on the 2m/MusCAT or 2m/Spectral network to \n",
    "# observe caustic crossings for stellar binary events in RAPID RESPONSE MODE\n",
    "gaia_targets.vis_fraction = 8.0 / 24.0\n",
    "gaia_targets.calc_2m_imagers_time()\n"
   ]
  },
  {
   "cell_type": "markdown",
   "id": "5a3871d4",
   "metadata": {},
   "source": [
    "### ZTF Targets\n",
    "\n",
    "Similarly to Gaia events, the simulation assumes that ZTF is most likely to detect stellar remnant and single-lens stellar events.  "
   ]
  },
  {
   "cell_type": "code",
   "execution_count": 27,
   "id": "e358dbd9",
   "metadata": {},
   "outputs": [],
   "source": [
    "ztf_targets = TargetSet()"
   ]
  },
  {
   "cell_type": "code",
   "execution_count": 28,
   "id": "1d71b443",
   "metadata": {},
   "outputs": [
    {
     "name": "stdout",
     "output_type": "stream",
     "text": [
      "Expect ~0 planetary events per year, and 0.0 over the remaining survey lifetime\n",
      "Expect ~8 stellar events per year, and 24.0 over the remaining survey lifetime\n",
      "Expect ~2 stellar remnant events per year, and 6.0 over the remaining survey lifetime\n"
     ]
    }
   ],
   "source": [
    "ztf_targets.n_survey_years = 3.0\n",
    "ztf_targets.n_stellar_events_per_year = 8\n",
    "ztf_targets.n_bh_events_per_year = 2\n",
    "ztf_targets.calc_total_n_events()"
   ]
  },
  {
   "cell_type": "code",
   "execution_count": 29,
   "id": "5b7ebbb7",
   "metadata": {},
   "outputs": [
    {
     "name": "stdout",
     "output_type": "stream",
     "text": [
      "Time on 1m/Sinistro network required for planetary events per year = 0hrs\n",
      "Total time on 1m/Sinistro network required for planetary events = 0.0hrs\n",
      "Time on 1m/Sinistro network required for stellar events per year = 27.36hrs\n",
      "Total time on 1m/Sinistro network required for stellar events = 82.08hrs\n",
      "Time on 1m/Sinistro network required for stellar remnant events per year = 18.64hrs\n",
      "Total time on 1m/Sinistro network required for stellar remnant events = 55.92hrs\n"
     ]
    }
   ],
   "source": [
    "# Estimates of time required in hours on the 1m/Sinistro network to observe the different categories of events\n",
    "ztf_targets.sinistro_time_per_star = 3.42\n",
    "ztf_targets.sinistro_time_per_bh = 9.32\n",
    "ztf_targets.calc_sinistro_time()\n"
   ]
  },
  {
   "cell_type": "code",
   "execution_count": 30,
   "id": "2e29fed5",
   "metadata": {},
   "outputs": [
    {
     "name": "stdout",
     "output_type": "stream",
     "text": [
      "Number of planetary events bright enough for FLOYDS per year = 0\n",
      "Number of stellar events bright enough for FLOYDS per year = 8\n",
      "Number of stellar remnant events bright enough for FLOYDS per year = 2\n",
      "Time on 2m/FLOYDS network required for planetary events per year = 0.0hrs\n",
      "Total time on 2m/FLOYDS network required for planetary events = 0.0hrs\n",
      "Time on 2m/FLOYDS network required for stellar events per year = 30.64hrs\n",
      "Total time on 2m/FLOYDS network required for stellar events = 91.92hrs\n",
      "Time on 2m/FLOYDS network required for stellar remnant events per year = 7.66hrs\n",
      "Total time on 2m/FLOYDS network required for stellar remnant events = 22.98hrs\n"
     ]
    }
   ],
   "source": [
    "# Estimates of time required in hours on the 2m/FLOYDS network to observe the different categories of events\n",
    "ztf_targets.floyds_frac = 0.98 # Fraction of events likely to be bright enough for FLOYDS\n",
    "ztf_targets.calc_floyds_time()"
   ]
  },
  {
   "cell_type": "code",
   "execution_count": 31,
   "id": "8238b8cd",
   "metadata": {},
   "outputs": [
    {
     "name": "stdout",
     "output_type": "stream",
     "text": [
      "Time on 2m imagers in Rapid Response mode for planetary events per year = 0.0\n",
      "Total time on 2m imagers in Rapid Response mode for planetary events = 0.0\n",
      "Time on 2m imagers in Rapid Response mode for stellar events per year = 32.0\n",
      "Total time on 2m imagers in Rapid Response mode for stellar events = 96.0\n"
     ]
    }
   ],
   "source": [
    "# Estimate of time required in hours on the FTN 2m/MusCAT to \n",
    "# observe caustic crossings for stellar binary events in RAPID RESPONSE MODE\n",
    "ztf_targets.vis_fraction = 8.0 / 24.0\n",
    "ztf_targets.calc_2m_imagers_time()"
   ]
  },
  {
   "cell_type": "markdown",
   "id": "691066e5",
   "metadata": {},
   "source": [
    "### Bulge Targets from the extended survey region only\n",
    "\n",
    "The simulation considers only events from a rough annulus around the central Bulge, within the OGLE extended survey region but not including those fields covered by KMTNet at high cadence.  It is hard to justify time for follow-up observations within that high cadence zone. \n",
    "\n",
    "The Bulge simulation considers planetary and stellar binary events only and long-timescale (>100d) single-lens events. "
   ]
  },
  {
   "cell_type": "code",
   "execution_count": 32,
   "id": "f50424c2",
   "metadata": {},
   "outputs": [],
   "source": [
    "bulge_targets = TargetSet()"
   ]
  },
  {
   "cell_type": "code",
   "execution_count": 33,
   "id": "20469fa7",
   "metadata": {},
   "outputs": [
    {
     "name": "stdout",
     "output_type": "stream",
     "text": [
      "Expect ~2 planetary events per year, and 6.0 over the remaining survey lifetime\n",
      "Expect ~8 stellar events per year, and 24.0 over the remaining survey lifetime\n",
      "Expect ~8 stellar remnant events per year, and 24.0 over the remaining survey lifetime\n"
     ]
    }
   ],
   "source": [
    "bulge_targets.n_survey_years = 3.0\n",
    "bulge_targets.n_stellar_events_per_year = 8\n",
    "bulge_targets.n_planet_events_per_year = 2\n",
    "bulge_targets.n_bh_events_per_year = 8\n",
    "bulge_targets.calc_total_n_events()\n"
   ]
  },
  {
   "cell_type": "code",
   "execution_count": 34,
   "id": "ad86c615",
   "metadata": {},
   "outputs": [
    {
     "name": "stdout",
     "output_type": "stream",
     "text": [
      "Time on 1m/Sinistro network required for planetary events per year = 28.8hrs\n",
      "Total time on 1m/Sinistro network required for planetary events = 86.4hrs\n",
      "Time on 1m/Sinistro network required for stellar events per year = 115.2hrs\n",
      "Total time on 1m/Sinistro network required for stellar events = 345.6hrs\n",
      "Time on 1m/Sinistro network required for stellar remnant events per year = 77.6hrs\n",
      "Total time on 1m/Sinistro network required for stellar remnant events = 232.79999999999998hrs\n"
     ]
    }
   ],
   "source": [
    "# Estimates of time required in hours on the 1m/Sinistro network to observe the different categories of events\n",
    "bulge_targets.sinistro_time_per_planet = 14.4\n",
    "bulge_targets.sinistro_time_per_star = 14.4\n",
    "bulge_targets.sinistro_time_per_bh = 9.7\n",
    "bulge_targets.calc_sinistro_time()"
   ]
  },
  {
   "cell_type": "code",
   "execution_count": 35,
   "id": "d33b2206",
   "metadata": {},
   "outputs": [
    {
     "name": "stdout",
     "output_type": "stream",
     "text": [
      "Number of planetary events bright enough for FLOYDS per year = 0\n",
      "Number of stellar events bright enough for FLOYDS per year = 1\n",
      "Number of stellar remnant events bright enough for FLOYDS per year = 1\n",
      "Time on 2m/FLOYDS network required for planetary events per year = 0.0hrs\n",
      "Total time on 2m/FLOYDS network required for planetary events = 0.0hrs\n",
      "Time on 2m/FLOYDS network required for stellar events per year = 3.83hrs\n",
      "Total time on 2m/FLOYDS network required for stellar events = 11.49hrs\n",
      "Time on 2m/FLOYDS network required for stellar remnant events per year = 3.83hrs\n",
      "Total time on 2m/FLOYDS network required for stellar remnant events = 11.49hrs\n"
     ]
    }
   ],
   "source": [
    "# Estimates of time required in hours on the 2m/FLOYDS network to observe the different categories of events\n",
    "bulge_targets.floyds_frac = 0.082 # Fraction of events likely to be bright enough for FLOYDS\n",
    "bulge_targets.calc_floyds_time()"
   ]
  },
  {
   "cell_type": "code",
   "execution_count": 36,
   "id": "0942ea32",
   "metadata": {},
   "outputs": [
    {
     "name": "stdout",
     "output_type": "stream",
     "text": [
      "Time on 2m imagers in Rapid Response mode for planetary events per year = 3.36\n",
      "Total time on 2m imagers in Rapid Response mode for planetary events = 10.08\n",
      "Time on 2m imagers in Rapid Response mode for stellar events per year = 40.32\n",
      "Total time on 2m imagers in Rapid Response mode for stellar events = 120.96\n"
     ]
    }
   ],
   "source": [
    "# Estimate of time required in hours on the FTS 2m/Spectral or MusCAT to \n",
    "# observe caustic crossings for planetary and stellar binary events in RAPID RESPONSE MODE\n",
    "bulge_targets.vis_fraction = 0.42\n",
    "bulge_targets.calc_2m_imagers_time()\n"
   ]
  },
  {
   "cell_type": "markdown",
   "id": "e6f236c0",
   "metadata": {},
   "source": [
    "## Maximal targets observed\n",
    "\n",
    "If all planned observations execute completely, we should characterize the following target set over the whole project lifetime.  \n",
    "\n",
    "Note that stellar remnant events are sufficiently long in timescale that Gaia and ZTF may both detect the same candidates.  For that reason, I've avoided double-counting them, though potentially this may be an under-estimate.  \n"
   ]
  },
  {
   "cell_type": "code",
   "execution_count": 37,
   "id": "f65e5c63",
   "metadata": {},
   "outputs": [
    {
     "name": "stdout",
     "output_type": "stream",
     "text": [
      "6.0 planetary events\n",
      "68.0 stellar binary events\n",
      "24.0 stellar remnant event candidates\n"
     ]
    }
   ],
   "source": [
    "total_planets = gaia_targets.n_planet_events + ztf_targets.n_planet_events + bulge_targets.n_planet_events\n",
    "total_stars = gaia_targets.n_stellar_events + ztf_targets.n_stellar_events + bulge_targets.n_stellar_events\n",
    "total_bh = max(gaia_targets.n_bh_events, ztf_targets.n_bh_events)\n",
    "total_bh = max(total_bh, bulge_targets.n_bh_events)\n",
    "\n",
    "print(str(total_planets)+' planetary events')\n",
    "print(str(total_stars)+' stellar binary events')\n",
    "print(str(total_bh)+' stellar remnant event candidates')\n"
   ]
  },
  {
   "cell_type": "markdown",
   "id": "cf5bd038",
   "metadata": {},
   "source": [
    "## Total Observing Time Required\n",
    "\n",
    "Various alternative strategies are considered here, as the total is determined by the full range of the targets we expect to study.   "
   ]
  },
  {
   "cell_type": "code",
   "execution_count": 38,
   "id": "ecc825e5",
   "metadata": {},
   "outputs": [],
   "source": [
    "# Calculate the time required in total for each instrument class for each TargetSet\n",
    "gaia_targets.calc_time_totals()\n",
    "ztf_targets.calc_time_totals()\n",
    "bulge_targets.calc_time_totals()"
   ]
  },
  {
   "cell_type": "markdown",
   "id": "936fd38c",
   "metadata": {},
   "source": [
    "### Maximal Strategy\n",
    "\n",
    "Queue-mode photometry and spectroscopy of all observable stellar and stellar remnant lenses from Gaia, ZTF and the Bulge as well as planetary events from the extended survey region in the Bulge (outside the KMTNet high cadence zone).\n",
    "\n",
    "Rapid response observations on the 2m imagers including MusCAT for planetary anomalies and stellar caustic crossings."
   ]
  },
  {
   "cell_type": "code",
   "execution_count": 39,
   "id": "854d52c0",
   "metadata": {},
   "outputs": [
    {
     "name": "stdout",
     "output_type": "stream",
     "text": [
      "Time per instrument class per year:\n",
      "1m/Sinistro: 589.05hrs\n",
      "2m/FLOYDS: 61.28hrs\n",
      "2m/imagers: 115.68hrs\n",
      "\n",
      "Time per instrument over project lifetime:\n",
      "1m/Sinistro: 1445.6999999999998hrs\n",
      "2m/FLOYDS: 168.52hrs\n",
      "2m/imagers: 307.03999999999996hrs (Rapid Response mode)\n",
      "\n",
      "Overall project request = 1921.2599999999998hrs\n"
     ]
    }
   ],
   "source": [
    "sinistro_time_per_year = gaia_targets.sinistro_time_per_year \\\n",
    "                            + ztf_targets.sinistro_time_per_year \\\n",
    "                            + bulge_targets.sinistro_time_per_year\n",
    "sinistro_time_total = gaia_targets.sinistro_time \\\n",
    "                            + ztf_targets.sinistro_time \\\n",
    "                            + bulge_targets.sinistro_time\n",
    "\n",
    "floyds_time_per_year = gaia_targets.floyds_time_per_year \\\n",
    "                            + ztf_targets.floyds_time_per_year \\\n",
    "                            + bulge_targets.floyds_time_per_year\n",
    "floyds_time_total = gaia_targets.floyds_time \\\n",
    "                            + ztf_targets.floyds_time \\\n",
    "                            + bulge_targets.floyds_time\n",
    "\n",
    "FT_imagers_time_per_year = gaia_targets.time_2m_imagers_per_year \\\n",
    "                            + ztf_targets.time_2m_imagers_per_year \\\n",
    "                            + bulge_targets.time_2m_imagers_per_year\n",
    "FT_imagers_time_total = gaia_targets.time_2m_imagers \\\n",
    "                            + ztf_targets.time_2m_imagers \\\n",
    "                            + bulge_targets.time_2m_imagers\n",
    "\n",
    "project_total = sinistro_time_total + floyds_time_total + FT_imagers_time_total\n",
    "print('Time per instrument class per year:')\n",
    "print('1m/Sinistro: '+str(sinistro_time_per_year)+'hrs')\n",
    "print('2m/FLOYDS: '+str(floyds_time_per_year)+'hrs')\n",
    "print('2m/imagers: '+str(FT_imagers_time_per_year)+'hrs\\n')\n",
    "\n",
    "print('Time per instrument over project lifetime:')\n",
    "print('1m/Sinistro: '+str(sinistro_time_total)+'hrs')\n",
    "print('2m/FLOYDS: '+str(floyds_time_total)+'hrs')\n",
    "print('2m/imagers: '+str(FT_imagers_time_total)+'hrs (Rapid Response mode)\\n')\n",
    "\n",
    "print('Overall project request = '+str(project_total)+'hrs')"
   ]
  },
  {
   "cell_type": "markdown",
   "id": "0aaf294d",
   "metadata": {},
   "source": [
    "### Stellar remnant candidate observations only\n",
    "\n",
    "Queue-mode photometry of stellar remnant candidates from Gaia, ZTF and the Bulge using the 1m network, plus FLOYDS spectroscopy of those that reach bright enough peak magnitudes. \n",
    "\n",
    "No rapid response observations.  No 2m imaging observations. "
   ]
  },
  {
   "cell_type": "code",
   "execution_count": 40,
   "id": "8bf5d556",
   "metadata": {},
   "outputs": [
    {
     "name": "stdout",
     "output_type": "stream",
     "text": [
      "Time per instrument class per year:\n",
      "1m/Sinistro: 314.64hrs\n",
      "2m/FLOYDS: 19.15hrs\n",
      "Time per instrument over project lifetime:\n",
      "1m/Sinistro: 725.52hrs\n",
      "2m/FLOYDS: 49.79hrs\n",
      "Overall project request = 775.31hrs\n"
     ]
    }
   ],
   "source": [
    "sinistro_time_per_year = gaia_targets.sinistro_time_bh_per_year \\\n",
    "                            + ztf_targets.sinistro_time_bh_per_year \\\n",
    "                            + bulge_targets.sinistro_time_bh_per_year\n",
    "sinistro_time_total = gaia_targets.sinistro_time_bh \\\n",
    "                            + ztf_targets.sinistro_time_bh \\\n",
    "                            + bulge_targets.sinistro_time_bh\n",
    "\n",
    "floyds_time_per_year = gaia_targets.floyds_time_bh_per_year \\\n",
    "                            + ztf_targets.floyds_time_bh_per_year \\\n",
    "                            + bulge_targets.floyds_time_bh_per_year\n",
    "floyds_time_total = gaia_targets.floyds_time_bh \\\n",
    "                            + ztf_targets.floyds_time_bh \\\n",
    "                            + bulge_targets.floyds_time_bh\n",
    "\n",
    "project_total = sinistro_time_total + floyds_time_total\n",
    "print('Time per instrument class per year:')\n",
    "print('1m/Sinistro: '+str(sinistro_time_per_year)+'hrs')\n",
    "print('2m/FLOYDS: '+str(floyds_time_per_year)+'hrs')\n",
    "\n",
    "print('Time per instrument over project lifetime:')\n",
    "print('1m/Sinistro: '+str(sinistro_time_total)+'hrs')\n",
    "print('2m/FLOYDS: '+str(floyds_time_total)+'hrs')\n",
    "\n",
    "print('Overall project request = '+str(project_total)+'hrs')"
   ]
  },
  {
   "cell_type": "markdown",
   "id": "32b88623",
   "metadata": {},
   "source": [
    "## Stellar remnant and planet candidate observations only\n",
    "\n",
    "Photometry of stellar remnant candidates from Gaia, ZTF and the Bulge using the 1m network. \n",
    "\n",
    "Photometry of planetary events in the Bulge extended survey region. \n",
    "\n",
    "FLOYDS spectroscopy of those that reach bright enough peak magnitudes.\n",
    "\n",
    "Rapid response imaging from 2m network for planetary anomalies. "
   ]
  },
  {
   "cell_type": "code",
   "execution_count": 41,
   "id": "53917866",
   "metadata": {},
   "outputs": [
    {
     "name": "stdout",
     "output_type": "stream",
     "text": [
      "Time per instrument class per year:\n",
      "1m/Sinistro: 343.44000000000005hrs\n",
      "2m/FLOYDS: 19.15hrs\n",
      "2m/imagers: 3.36hrs\n",
      "\n",
      "Time per instrument over project lifetime:\n",
      "1m/Sinistro: 811.92hrs\n",
      "2m/FLOYDS: 49.79hrs\n",
      "2m/imagers: 10.08hrs (Rapid Response mode)\n",
      "\n",
      "Overall project request = 871.79hrs\n"
     ]
    }
   ],
   "source": [
    "sinistro_time_per_year = gaia_targets.sinistro_time_planet_per_year + gaia_targets.sinistro_time_bh_per_year\\\n",
    "                            + ztf_targets.sinistro_time_planet_per_year + ztf_targets.sinistro_time_bh_per_year \\\n",
    "                            + bulge_targets.sinistro_time_planet_per_year + bulge_targets.sinistro_time_bh_per_year\n",
    "sinistro_time_total = gaia_targets.sinistro_time_planet +  gaia_targets.sinistro_time_bh\\\n",
    "                            + ztf_targets.sinistro_time_planet + ztf_targets.sinistro_time_bh\\\n",
    "                            + bulge_targets.sinistro_time_planet + bulge_targets.sinistro_time_bh\n",
    "\n",
    "floyds_time_per_year = gaia_targets.floyds_time_bh_per_year + gaia_targets.floyds_time_planet_per_year\\\n",
    "                            + ztf_targets.floyds_time_bh_per_year + ztf_targets.floyds_time_planet_per_year\\\n",
    "                            + bulge_targets.floyds_time_bh_per_year + bulge_targets.floyds_time_planet_per_year\n",
    "floyds_time_total = gaia_targets.floyds_time_bh + gaia_targets.floyds_time_planet \\\n",
    "                            + ztf_targets.floyds_time_bh + ztf_targets.floyds_time_planet \\\n",
    "                            + bulge_targets.floyds_time_bh + bulge_targets.floyds_time_planet\n",
    "\n",
    "# 2m imagers are only used for planetary anomalies\n",
    "FT_imagers_time_per_year = gaia_targets.time_2m_imagers_planet_per_year \\\n",
    "                            + ztf_targets.time_2m_imagers_planet_per_year  \\\n",
    "                            + bulge_targets.time_2m_imagers_planet_per_year \n",
    "FT_imagers_time_total = gaia_targets.time_2m_imagers_planet  \\\n",
    "                            + ztf_targets.time_2m_imagers_planet \\\n",
    "                            + bulge_targets.time_2m_imagers_planet\n",
    "\n",
    "project_total = sinistro_time_total + floyds_time_total + FT_imagers_time_total\n",
    "print('Time per instrument class per year:')\n",
    "print('1m/Sinistro: '+str(sinistro_time_per_year)+'hrs')\n",
    "print('2m/FLOYDS: '+str(floyds_time_per_year)+'hrs')\n",
    "print('2m/imagers: '+str(FT_imagers_time_per_year)+'hrs\\n')\n",
    "\n",
    "print('Time per instrument over project lifetime:')\n",
    "print('1m/Sinistro: '+str(sinistro_time_total)+'hrs')\n",
    "print('2m/FLOYDS: '+str(floyds_time_total)+'hrs')\n",
    "print('2m/imagers: '+str(FT_imagers_time_total)+'hrs (Rapid Response mode)\\n')\n",
    "\n",
    "print('Overall project request = '+str(project_total)+'hrs')"
   ]
  },
  {
   "cell_type": "code",
   "execution_count": null,
   "id": "2306138f",
   "metadata": {},
   "outputs": [],
   "source": []
  },
  {
   "cell_type": "code",
   "execution_count": null,
   "id": "19873be0",
   "metadata": {},
   "outputs": [],
   "source": []
  },
  {
   "cell_type": "code",
   "execution_count": null,
   "id": "7bdf7083",
   "metadata": {},
   "outputs": [],
   "source": []
  }
 ],
 "metadata": {
  "kernelspec": {
   "display_name": "Python 3 (ipykernel)",
   "language": "python",
   "name": "python3"
  },
  "language_info": {
   "codemirror_mode": {
    "name": "ipython",
    "version": 3
   },
   "file_extension": ".py",
   "mimetype": "text/x-python",
   "name": "python",
   "nbconvert_exporter": "python",
   "pygments_lexer": "ipython3",
   "version": "3.9.5"
  }
 },
 "nbformat": 4,
 "nbformat_minor": 5
}
