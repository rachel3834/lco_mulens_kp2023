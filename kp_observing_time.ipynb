{
 "cells": [
  {
   "cell_type": "markdown",
   "id": "b993eec4",
   "metadata": {},
   "source": [
    "# Estimate Time Request for Key Project Proposal\n",
    "\n",
    "This notebook summarizes the results of simulating the proposed follow-up strategy for targets from the different surveys, and computes the overal total observing time requested on LCO facilities. \n",
    "\n",
    "For details of the calculations of total numbers of targets selected from each survey, and the corresponding observing time calculations, please see notebooks:\n",
    "* ./gaia/estimated_number_gaia_events2.ipynb\n",
    "* ./ztf/estimated_number_ztf_events2.ipynb\n",
    "* ./ogle/estimated_number_bulge_events2.ipynb"
   ]
  },
  {
   "cell_type": "markdown",
   "id": "5e7c44a8",
   "metadata": {},
   "source": [
    "## Summary of time for each element of observations\n",
    "\n",
    "Here we summarize the findings of the above notebooks, in terms of the expected numbers of targets and the observing time required to complete the proposed strategy on each instrument class, as required by the proposal.  \n",
    "\n",
    "Note that there may be slight differences in the total time estimated, as the previous notebooks allowed decimal numbers of targets whereas here we require integers. "
   ]
  },
  {
   "cell_type": "code",
   "execution_count": 15,
   "id": "11f16374",
   "metadata": {},
   "outputs": [],
   "source": [
    "import numpy as np"
   ]
  },
  {
   "cell_type": "code",
   "execution_count": 16,
   "id": "fdc7379a",
   "metadata": {},
   "outputs": [],
   "source": [
    "class TargetSet:\n",
    "    def __init__(self):\n",
    "        self.survey = None\n",
    "        self.survey_years = []\n",
    "        self.n_planet_events_per_year = 0\n",
    "        self.n_stellar_events_per_year = 0\n",
    "        self.n_bh_events_per_year = 0\n",
    "        \n",
    "        self.sinistro_time_per_planet = 0\n",
    "        self.sinistro_time_per_star = 0\n",
    "        self.sinistro_time_per_bh = 0\n",
    "        \n",
    "        self.floyds_frac = 0.0\n",
    "        self.floyds_time_per_target = 3.83 # hrs\n",
    "        \n",
    "        self.time_per_caustic = 6.0*2.0 # hrs, with two caustic crossings per event\n",
    "        self.time_per_anomaly = 4.0 # hrs\n",
    "        self.vis_fraction = 0.0\n",
    "    \n",
    "    def calc_total_n_events(self):\n",
    "        \"\"\"Calculate the total number of events over the lifetime of the survey operations\"\"\"\n",
    "        self.n_planet_events = self.n_planet_events_per_year * len(self.survey_years)\n",
    "        self.n_stellar_events = self.n_stellar_events_per_year * len(self.survey_years)\n",
    "        self.n_bh_events = self.n_bh_events_per_year * len(self.survey_years) \n",
    "        \n",
    "        print('Expect ~'+str(self.n_planet_events_per_year)+' planetary events per year, and '+str(self.n_planet_events)+' over the remaining survey lifetime')\n",
    "        print('Expect ~'+str(self.n_stellar_events_per_year)+' stellar events per year, and '+str(self.n_stellar_events)+' over the remaining survey lifetime')\n",
    "        print('Expect ~'+str(self.n_bh_events_per_year)+' stellar remnant events per year, and '+str(self.n_bh_events)+' over the remaining survey lifetime')\n",
    "      \n",
    "    def calc_sinistro_time(self):\n",
    "        \"\"\"Calculate the time required on the 1m/Sinistro network for different categories of events\"\"\"\n",
    "        \n",
    "        self.sinistro_time_planet_per_year = self.sinistro_time_per_planet * self.n_planet_events_per_year\n",
    "        self.sinistro_time_stellar_per_year = self.sinistro_time_per_star * self.n_stellar_events_per_year\n",
    "        self.sinistro_time_bh_per_year = self.sinistro_time_per_bh * self.n_bh_events_per_year\n",
    "        print('Time on 1m/Sinistro network required for planetary events per year = '+str(self.sinistro_time_planet_per_year)+'hrs')\n",
    "        print('Time on 1m/Sinistro network required for stellar events per year = '+str(self.sinistro_time_stellar_per_year)+'hrs')\n",
    "        print('Time on 1m/Sinistro network required for stellar remnant events per year = '+str(self.sinistro_time_bh_per_year)+'hrs')\n",
    "        \n",
    "        self.sinistro_time_planet = []\n",
    "        self.sinistro_time_stellar = []\n",
    "        self.sinistro_time_bh = []\n",
    "        self.sinistro_time = []\n",
    "        for i,year in enumerate(self.survey_years):\n",
    "            self.sinistro_time_planet.append(self.sinistro_time_planet_per_year)\n",
    "            self.sinistro_time_stellar.append(self.sinistro_time_stellar_per_year)\n",
    "            self.sinistro_time_bh.append(self.sinistro_time_bh_per_year)\n",
    "            \n",
    "            time_year = self.sinistro_time_planet_per_year \\\n",
    "                        + self.sinistro_time_stellar_per_year \\\n",
    "                        + self.sinistro_time_bh_per_year\n",
    "            print('Total time on 1m/Sinistro in year '+str(year)+': '+str(time_year))\n",
    "            self.sinistro_time.append(time_year)\n",
    "            \n",
    "    def calc_floyds_time(self, planets=True, stellar=True):\n",
    "        \"\"\"Calculate the time required for 2m/FLOYDS spectroscopy\"\"\"\n",
    "        \n",
    "        self.floyds_bh_events_per_year = int(round(self.floyds_frac*self.n_bh_events_per_year,0))\n",
    "        print('Number of stellar remnant events bright enough for FLOYDS per year = '+str(self.floyds_bh_events_per_year))\n",
    "        self.floyds_time_bh_per_year = int(round((self.floyds_bh_events_per_year * self.floyds_time_per_target),0))\n",
    "        print('Time on 2m/FLOYDS network required for stellar remnant events per year = '+str(self.floyds_time_bh_per_year)+'hrs')\n",
    "\n",
    "        if planets:\n",
    "            self.floyds_planet_events_per_year = int(round(self.floyds_frac*self.n_planet_events_per_year,0))\n",
    "            print('Number of planetary events bright enough for FLOYDS per year = '+str(self.floyds_planet_events_per_year))\n",
    "            \n",
    "            self.floyds_time_planet_per_year = int(round((self.floyds_planet_events_per_year * self.floyds_time_per_target),0))\n",
    "            print('Time on 2m/FLOYDS network required for planetary events per year = '+str(self.floyds_time_planet_per_year)+'hrs')\n",
    "        \n",
    "        if stellar:\n",
    "            self.floyds_stellar_events_per_year = int(round(self.floyds_frac*self.n_stellar_events_per_year,0))\n",
    "            print('Number of stellar events bright enough for FLOYDS per year = '+str(self.floyds_stellar_events_per_year))\n",
    "        \n",
    "            self.floyds_time_stellar_per_year = int(round((self.floyds_stellar_events_per_year * self.floyds_time_per_target),0))\n",
    "            print('Time on 2m/FLOYDS network required for stellar events per year = '+str(self.floyds_time_stellar_per_year)+'hrs')\n",
    "    \n",
    "        self.floyds_time_planet = []\n",
    "        self.floyds_time_stellar = []\n",
    "        self.floyds_time_bh = []\n",
    "        self.floyds_time = []\n",
    "        for i,year in enumerate(self.survey_years):\n",
    "            if planets:\n",
    "                self.floyds_time_planet.append(self.floyds_time_planet_per_year)\n",
    "            else:\n",
    "                self.floyds_time_planet.append(0.0)\n",
    "            \n",
    "            if stellar:\n",
    "                self.floyds_time_stellar.append(self.floyds_time_stellar_per_year)\n",
    "            else:\n",
    "                self.floyds_time_stellar.append(0.0)\n",
    "                                                \n",
    "            self.floyds_time_bh.append(self.floyds_time_bh_per_year)\n",
    "            \n",
    "            time_year = self.floyds_time_bh_per_year\n",
    "            if planets:\n",
    "                time_year += self.floyds_time_planet_per_year\n",
    "            if stellar:\n",
    "                time_year += self.floyds_time_stellar_per_year\n",
    "                \n",
    "            self.floyds_time.append(time_year)\n",
    "            print('Total time on 2m/FLOYDS in year '+str(year)+': '+str(time_year))\n",
    "\n",
    "    def calc_2m_imagers_time(self, planets=True, stellar=True):\n",
    "        \"\"\"Estimate of time required in hours on the 2m/MusCAT or 2m/Spectral network to \n",
    "        observe caustic crossings for stellar & planetary binary events in RAPID RESPONSE MODE\"\"\"\n",
    "\n",
    "        self.time_rr_stellar_events = []\n",
    "        self.time_rr_planet_events = []\n",
    "        self.time_2m_imagers = []\n",
    "        for i,year in enumerate(self.survey_years):\n",
    "            time_year = 0.0\n",
    "            if stellar:\n",
    "                n_stellar_per_year = int(round((self.n_stellar_events_per_year * self.vis_fraction),0))\n",
    "                time_stellar_year = n_stellar_per_year * self.time_per_caustic\n",
    "                self.time_rr_stellar_events.append(time_stellar_year)\n",
    "                time_year += time_stellar_year\n",
    "                print('Time on 2m/imagers for '+str(n_stellar_per_year)+' stellar events in year '+str(year)+': '+str(time_stellar_year))\n",
    "            else:\n",
    "                self.time_rr_stellar_events.append(0.0)\n",
    "            \n",
    "            if planets:\n",
    "                n_planet_per_year = int(round((self.n_planet_events_per_year * self.vis_fraction),0))\n",
    "                time_planet_year = n_planet_per_year * self.time_per_caustic\n",
    "                self.time_rr_planet_events.append(time_planet_year)\n",
    "                time_year += time_planet_year\n",
    "                print('Time on 2m/imagers for '+str(n_planet_per_year)+' planetary events in year '+str(year)+': '+str(time_planet_year))\n",
    "            else:\n",
    "                self.time_rr_planet_events.append(0.0)\n",
    "                \n",
    "            self.time_2m_imagers.append(time_year)\n",
    "            print('Total time on 2m/imagers in RR mode in year '+str(year)+': '+str(time_year))\n",
    "    \n",
    "    def calc_1m_rr_time(self, planets=True, stellar=True):\n",
    "        \"\"\"Time required in Rapid Reponse mode from the 1m network is equivalent to the fraction of the time \n",
    "        dedicated to observing anomalies and caustic crossings that isn't already covered by the 2m. \n",
    "        \n",
    "        It is only calculated for the planetary and stellar binary events to be followed from each survey. \n",
    "        \n",
    "        \"\"\"\n",
    "        \n",
    "        # The fraction of the Rapid Response time from the 1m network\n",
    "        rr_fraction = 1.0 - self.vis_fraction\n",
    "        \n",
    "        self.time_rr_stellar_events_1m = []\n",
    "        self.time_rr_planet_events_1m = []\n",
    "        self.time_rr_1m_imagers = []\n",
    "        for i,year in enumerate(self.survey_years):\n",
    "            time_year = 0.0\n",
    "            if stellar:\n",
    "                n_stellar_per_year = int(round((self.n_stellar_events_per_year * rr_fraction),0))\n",
    "                time_stellar_year = n_stellar_per_year * self.time_per_caustic\n",
    "                self.time_rr_stellar_events_1m.append(time_stellar_year)\n",
    "                time_year += time_stellar_year\n",
    "                print('Rapid response time on 1m/imagers for '+str(n_stellar_per_year)+' stellar events in year '+str(year)+': '+str(time_stellar_year))\n",
    "            else:\n",
    "                self.time_rr_stellar_events_1m.append(0.0)\n",
    "            \n",
    "            if planets:\n",
    "                n_planet_per_year = int(round((self.n_planet_events_per_year * rr_fraction),0))\n",
    "                time_planet_year = n_planet_per_year * self.time_per_caustic\n",
    "                self.time_rr_planet_events_1m.append(time_planet_year)\n",
    "                time_year += time_planet_year\n",
    "                print('Rapid response time on 1m/imagers for '+str(n_planet_per_year)+' planetary events in year '+str(year)+': '+str(time_planet_year))\n",
    "            else:\n",
    "                self.time_rr_planet_events_1m.append(0.0)\n",
    "                \n",
    "            self.time_rr_1m_imagers.append(time_year)\n",
    "            print('Total time on 1m/imagers in RR mode in year '+str(year)+': '+str(time_year))\n",
    "        \n",
    "        \n",
    "    def calc_time_totals(self):\n",
    "        self.sinistro_time_total = np.array(self.sinistro_time).sum()\n",
    "        self.floyds_time_total = np.array(self.floyds_time).sum()\n",
    "        self.time_2m_imagers_total = np.array(self.time_2m_imagers).sum()\n",
    "        \n",
    "        self.sinistro_1m_queue = np.zeros(3)\n",
    "        for i,year in enumerate(self.survey_years):\n",
    "            self.sinistro_1m_queue[i] = self.sinistro_time[i] - self.time_rr_1m_imagers[i]\n",
    "            print('Year '+str(year)+' Sinistro total '+str(self.sinistro_time[i]))\n",
    "            print(' -> Sinistro queue mode '+str(self.sinistro_1m_queue[i]))\n",
    "            print(' -> Sinistro RR mode '+str(self.time_rr_1m_imagers[i]))\n",
    "        "
   ]
  },
  {
   "cell_type": "markdown",
   "id": "a0518b75",
   "metadata": {},
   "source": [
    "### Gaia Targets\n",
    "\n",
    "The simulation considers LCO observations of stellar remnant and stellar (most likely single-lens) events detected by Gaia over its last two years of operation (2023-2025). \n",
    "\n",
    "Note that this does not preclude observing a stellar or planetary binary of interest if one is discovered, but for the purpose of the proposal I have aimed to be conservative. "
   ]
  },
  {
   "cell_type": "code",
   "execution_count": 17,
   "id": "818a4edd",
   "metadata": {},
   "outputs": [],
   "source": [
    "gaia_targets = TargetSet()"
   ]
  },
  {
   "cell_type": "code",
   "execution_count": 18,
   "id": "fc126213",
   "metadata": {},
   "outputs": [
    {
     "name": "stdout",
     "output_type": "stream",
     "text": [
      "Expect ~9 planetary events per year, and 18 over the remaining survey lifetime\n",
      "Expect ~83 stellar events per year, and 166 over the remaining survey lifetime\n",
      "Expect ~7 stellar remnant events per year, and 14 over the remaining survey lifetime\n"
     ]
    }
   ],
   "source": [
    "# Note the 'planets' category here is used to refer to any binary event, since Gaia binaries are likely to be outside\n",
    "# the Bulge and therefore high priority, while the stellar category here refers to single-lens stellar mass lenses. \n",
    "# The 'planet' events per year are subtracted from the overall total number of events expected per year to avoid \n",
    "# double counting\n",
    "gaia_targets.survey_years = [2023, 2024]\n",
    "gaia_targets.n_planet_events_per_year = 9\n",
    "gaia_targets.n_stellar_events_per_year = 92 - gaia_targets.n_planet_events_per_year\n",
    "gaia_targets.n_bh_events_per_year = 7\n",
    "gaia_targets.calc_total_n_events()      \n"
   ]
  },
  {
   "cell_type": "code",
   "execution_count": 19,
   "id": "6648ce21",
   "metadata": {},
   "outputs": [
    {
     "name": "stdout",
     "output_type": "stream",
     "text": [
      "Time on 1m/Sinistro network required for planetary events per year = 180hrs\n",
      "Time on 1m/Sinistro network required for stellar events per year = 373.5hrs\n",
      "Time on 1m/Sinistro network required for stellar remnant events per year = 43.4hrs\n",
      "Total time on 1m/Sinistro in year 2023: 596.9\n",
      "Total time on 1m/Sinistro in year 2024: 596.9\n"
     ]
    }
   ],
   "source": [
    "# Estimates of time required in hours on the 1m/Sinistro network to observe the different categories of events\n",
    "gaia_targets.sinistro_time_per_planet = 8+12\n",
    "gaia_targets.sinistro_time_per_star = 4.5\n",
    "gaia_targets.sinistro_time_per_bh = 6.2\n",
    "gaia_targets.calc_sinistro_time()\n"
   ]
  },
  {
   "cell_type": "code",
   "execution_count": 20,
   "id": "ea8ff838",
   "metadata": {},
   "outputs": [
    {
     "name": "stdout",
     "output_type": "stream",
     "text": [
      "Number of stellar remnant events bright enough for FLOYDS per year = 7\n",
      "Time on 2m/FLOYDS network required for stellar remnant events per year = 27hrs\n",
      "Number of planetary events bright enough for FLOYDS per year = 9\n",
      "Time on 2m/FLOYDS network required for planetary events per year = 34hrs\n",
      "Total time on 2m/FLOYDS in year 2023: 61\n",
      "Total time on 2m/FLOYDS in year 2024: 61\n"
     ]
    }
   ],
   "source": [
    "# Estimates of time required in hours on the 2m/FLOYDS network to observe the different categories of events\n",
    "gaia_targets.floyds_frac = 0.994 # Fraction of events likely to be bright enough for FLOYDS\n",
    "gaia_targets.calc_floyds_time(stellar=False)\n"
   ]
  },
  {
   "cell_type": "code",
   "execution_count": 21,
   "id": "add864f9",
   "metadata": {},
   "outputs": [
    {
     "name": "stdout",
     "output_type": "stream",
     "text": [
      "Time on 2m/imagers for 3 planetary events in year 2023: 36.0\n",
      "Total time on 2m/imagers in RR mode in year 2023: 36.0\n",
      "Time on 2m/imagers for 3 planetary events in year 2024: 36.0\n",
      "Total time on 2m/imagers in RR mode in year 2024: 36.0\n"
     ]
    }
   ],
   "source": [
    "# Estimate of time required in hours on the 2m/MusCAT or 2m/Spectral network to \n",
    "# observe caustic crossings for stellar binary events in RAPID RESPONSE MODE\n",
    "# Note 'stellar' for this function refers to all single stellar events\n",
    "gaia_targets.vis_fraction = 8.0 / 24.0\n",
    "gaia_targets.calc_2m_imagers_time(stellar=False)\n",
    "\n"
   ]
  },
  {
   "cell_type": "code",
   "execution_count": 22,
   "id": "f9ebe31e",
   "metadata": {},
   "outputs": [
    {
     "name": "stdout",
     "output_type": "stream",
     "text": [
      "Rapid response time on 1m/imagers for 6 planetary events in year 2023: 72.0\n",
      "Total time on 1m/imagers in RR mode in year 2023: 72.0\n",
      "Rapid response time on 1m/imagers for 6 planetary events in year 2024: 72.0\n",
      "Total time on 1m/imagers in RR mode in year 2024: 72.0\n"
     ]
    }
   ],
   "source": [
    "# Estimate the remaining Rapid Response time required from the 1m network\n",
    "gaia_targets.calc_1m_rr_time(stellar=False)"
   ]
  },
  {
   "cell_type": "markdown",
   "id": "5a3871d4",
   "metadata": {},
   "source": [
    "### ZTF Targets\n",
    "\n",
    "Similarly to Gaia events, the simulation assumes that ZTF is most likely to detect stellar remnant and single-lens stellar events.  "
   ]
  },
  {
   "cell_type": "code",
   "execution_count": 23,
   "id": "e358dbd9",
   "metadata": {},
   "outputs": [],
   "source": [
    "ztf_targets = TargetSet()"
   ]
  },
  {
   "cell_type": "code",
   "execution_count": 46,
   "id": "1d71b443",
   "metadata": {},
   "outputs": [
    {
     "name": "stdout",
     "output_type": "stream",
     "text": [
      "Expect ~0.34 planetary events per year, and 1.02 over the remaining survey lifetime\n",
      "Expect ~14 stellar events per year, and 42 over the remaining survey lifetime\n",
      "Expect ~1 stellar remnant events per year, and 3 over the remaining survey lifetime\n"
     ]
    }
   ],
   "source": [
    "ztf_targets.survey_years = [2023, 2024, 2025]\n",
    "ztf_targets.n_planet_events_per_year = 0.34\n",
    "ztf_targets.n_stellar_events_per_year = 14\n",
    "ztf_targets.n_bh_events_per_year = 1\n",
    "ztf_targets.calc_total_n_events()"
   ]
  },
  {
   "cell_type": "code",
   "execution_count": 47,
   "id": "5b7ebbb7",
   "metadata": {},
   "outputs": [
    {
     "name": "stdout",
     "output_type": "stream",
     "text": [
      "Time on 1m/Sinistro network required for planetary events per year = 6.800000000000001hrs\n",
      "Time on 1m/Sinistro network required for stellar events per year = 84hrs\n",
      "Time on 1m/Sinistro network required for stellar remnant events per year = 10hrs\n",
      "Total time on 1m/Sinistro in year 2023: 100.8\n",
      "Total time on 1m/Sinistro in year 2024: 100.8\n",
      "Total time on 1m/Sinistro in year 2025: 100.8\n"
     ]
    }
   ],
   "source": [
    "# Estimates of time required in hours on the 1m/Sinistro network to observe the different categories of events\n",
    "ztf_targets.sinistro_time_per_planet = 8+12\n",
    "ztf_targets.sinistro_time_per_star = 6\n",
    "ztf_targets.sinistro_time_per_bh = 10\n",
    "ztf_targets.calc_sinistro_time()\n"
   ]
  },
  {
   "cell_type": "code",
   "execution_count": 48,
   "id": "2e29fed5",
   "metadata": {},
   "outputs": [
    {
     "name": "stdout",
     "output_type": "stream",
     "text": [
      "Number of stellar remnant events bright enough for FLOYDS per year = 1\n",
      "Time on 2m/FLOYDS network required for stellar remnant events per year = 4hrs\n",
      "Number of planetary events bright enough for FLOYDS per year = 0\n",
      "Time on 2m/FLOYDS network required for planetary events per year = 0hrs\n",
      "Number of stellar events bright enough for FLOYDS per year = 14\n",
      "Time on 2m/FLOYDS network required for stellar events per year = 54hrs\n",
      "Total time on 2m/FLOYDS in year 2023: 58\n",
      "Total time on 2m/FLOYDS in year 2024: 58\n",
      "Total time on 2m/FLOYDS in year 2025: 58\n"
     ]
    }
   ],
   "source": [
    "# Estimates of time required in hours on the 2m/FLOYDS network to observe the different categories of events\n",
    "ztf_targets.floyds_frac = 0.98 # Fraction of events likely to be bright enough for FLOYDS\n",
    "ztf_targets.calc_floyds_time()"
   ]
  },
  {
   "cell_type": "code",
   "execution_count": 49,
   "id": "8238b8cd",
   "metadata": {},
   "outputs": [
    {
     "name": "stdout",
     "output_type": "stream",
     "text": [
      "Time on 2m/imagers for 0 planetary events in year 2023: 0.0\n",
      "Total time on 2m/imagers in RR mode in year 2023: 0.0\n",
      "Time on 2m/imagers for 0 planetary events in year 2024: 0.0\n",
      "Total time on 2m/imagers in RR mode in year 2024: 0.0\n",
      "Time on 2m/imagers for 0 planetary events in year 2025: 0.0\n",
      "Total time on 2m/imagers in RR mode in year 2025: 0.0\n"
     ]
    }
   ],
   "source": [
    "# Estimate of time required in hours on the FTN 2m/MusCAT to \n",
    "# observe caustic crossings for stellar binary events in RAPID RESPONSE MODE\n",
    "ztf_targets.vis_fraction = 8.0 / 24.0\n",
    "ztf_targets.calc_2m_imagers_time(stellar=False)"
   ]
  },
  {
   "cell_type": "code",
   "execution_count": 50,
   "id": "7fc6e0f4",
   "metadata": {},
   "outputs": [
    {
     "name": "stdout",
     "output_type": "stream",
     "text": [
      "Rapid response time on 1m/imagers for 0 planetary events in year 2023: 0.0\n",
      "Total time on 1m/imagers in RR mode in year 2023: 0.0\n",
      "Rapid response time on 1m/imagers for 0 planetary events in year 2024: 0.0\n",
      "Total time on 1m/imagers in RR mode in year 2024: 0.0\n",
      "Rapid response time on 1m/imagers for 0 planetary events in year 2025: 0.0\n",
      "Total time on 1m/imagers in RR mode in year 2025: 0.0\n"
     ]
    }
   ],
   "source": [
    "# Estimate the remaining Rapid Response time required from the 1m network\n",
    "ztf_targets.calc_1m_rr_time(stellar=False)"
   ]
  },
  {
   "cell_type": "markdown",
   "id": "691066e5",
   "metadata": {},
   "source": [
    "### Bulge Targets from the extended survey region only\n",
    "\n",
    "The simulation considers only events from a rough annulus around the central Bulge, within the OGLE extended survey region but not including those fields covered by KMTNet at high cadence.  It is hard to justify time for follow-up observations within that high cadence zone. \n",
    "\n",
    "The Bulge simulation considers planetary and stellar binary events only and long-timescale (>100d) single-lens events. "
   ]
  },
  {
   "cell_type": "code",
   "execution_count": 51,
   "id": "f50424c2",
   "metadata": {},
   "outputs": [],
   "source": [
    "bulge_targets = TargetSet()"
   ]
  },
  {
   "cell_type": "code",
   "execution_count": 52,
   "id": "20469fa7",
   "metadata": {},
   "outputs": [
    {
     "name": "stdout",
     "output_type": "stream",
     "text": [
      "Expect ~2 planetary events per year, and 6 over the remaining survey lifetime\n",
      "Expect ~7 stellar events per year, and 21 over the remaining survey lifetime\n",
      "Expect ~6 stellar remnant events per year, and 18 over the remaining survey lifetime\n"
     ]
    }
   ],
   "source": [
    "bulge_targets.survey_years = [2023, 2024, 2025]\n",
    "bulge_targets.n_stellar_events_per_year = 7\n",
    "bulge_targets.n_planet_events_per_year = 2\n",
    "bulge_targets.n_bh_events_per_year = 6\n",
    "bulge_targets.calc_total_n_events()\n"
   ]
  },
  {
   "cell_type": "code",
   "execution_count": 53,
   "id": "ad86c615",
   "metadata": {},
   "outputs": [
    {
     "name": "stdout",
     "output_type": "stream",
     "text": [
      "Time on 1m/Sinistro network required for planetary events per year = 36hrs\n",
      "Time on 1m/Sinistro network required for stellar events per year = 126hrs\n",
      "Time on 1m/Sinistro network required for stellar remnant events per year = 108.0hrs\n",
      "Total time on 1m/Sinistro in year 2023: 270.0\n",
      "Total time on 1m/Sinistro in year 2024: 270.0\n",
      "Total time on 1m/Sinistro in year 2025: 270.0\n"
     ]
    }
   ],
   "source": [
    "# Estimates of time required in hours on the 1m/Sinistro network to observe the different categories of events\n",
    "bulge_targets.sinistro_time_per_planet = 18\n",
    "bulge_targets.sinistro_time_per_star = 18\n",
    "bulge_targets.sinistro_time_per_bh = 18.0\n",
    "bulge_targets.calc_sinistro_time()"
   ]
  },
  {
   "cell_type": "code",
   "execution_count": 54,
   "id": "d33b2206",
   "metadata": {},
   "outputs": [
    {
     "name": "stdout",
     "output_type": "stream",
     "text": [
      "Number of stellar remnant events bright enough for FLOYDS per year = 1\n",
      "Time on 2m/FLOYDS network required for stellar remnant events per year = 4hrs\n",
      "Number of planetary events bright enough for FLOYDS per year = 0\n",
      "Time on 2m/FLOYDS network required for planetary events per year = 0hrs\n",
      "Number of stellar events bright enough for FLOYDS per year = 1\n",
      "Time on 2m/FLOYDS network required for stellar events per year = 4hrs\n",
      "Total time on 2m/FLOYDS in year 2023: 8\n",
      "Total time on 2m/FLOYDS in year 2024: 8\n",
      "Total time on 2m/FLOYDS in year 2025: 8\n"
     ]
    }
   ],
   "source": [
    "# Estimates of time required in hours on the 2m/FLOYDS network to observe the different categories of events\n",
    "bulge_targets.floyds_frac = 0.121 # Fraction of events likely to be bright enough for FLOYDS\n",
    "bulge_targets.calc_floyds_time()"
   ]
  },
  {
   "cell_type": "code",
   "execution_count": 55,
   "id": "0942ea32",
   "metadata": {},
   "outputs": [
    {
     "name": "stdout",
     "output_type": "stream",
     "text": [
      "Time on 2m/imagers for 3 stellar events in year 2023: 36.0\n",
      "Time on 2m/imagers for 1 planetary events in year 2023: 12.0\n",
      "Total time on 2m/imagers in RR mode in year 2023: 48.0\n",
      "Time on 2m/imagers for 3 stellar events in year 2024: 36.0\n",
      "Time on 2m/imagers for 1 planetary events in year 2024: 12.0\n",
      "Total time on 2m/imagers in RR mode in year 2024: 48.0\n",
      "Time on 2m/imagers for 3 stellar events in year 2025: 36.0\n",
      "Time on 2m/imagers for 1 planetary events in year 2025: 12.0\n",
      "Total time on 2m/imagers in RR mode in year 2025: 48.0\n"
     ]
    }
   ],
   "source": [
    "# Estimate of time required in hours on the FTS 2m/Spectral or MusCAT to \n",
    "# observe caustic crossings for planetary and stellar binary events in RAPID RESPONSE MODE\n",
    "bulge_targets.vis_fraction = 0.42\n",
    "bulge_targets.calc_2m_imagers_time()\n"
   ]
  },
  {
   "cell_type": "code",
   "execution_count": 56,
   "id": "849ffbea",
   "metadata": {},
   "outputs": [
    {
     "name": "stdout",
     "output_type": "stream",
     "text": [
      "Rapid response time on 1m/imagers for 4 stellar events in year 2023: 48.0\n",
      "Rapid response time on 1m/imagers for 1 planetary events in year 2023: 12.0\n",
      "Total time on 1m/imagers in RR mode in year 2023: 60.0\n",
      "Rapid response time on 1m/imagers for 4 stellar events in year 2024: 48.0\n",
      "Rapid response time on 1m/imagers for 1 planetary events in year 2024: 12.0\n",
      "Total time on 1m/imagers in RR mode in year 2024: 60.0\n",
      "Rapid response time on 1m/imagers for 4 stellar events in year 2025: 48.0\n",
      "Rapid response time on 1m/imagers for 1 planetary events in year 2025: 12.0\n",
      "Total time on 1m/imagers in RR mode in year 2025: 60.0\n"
     ]
    }
   ],
   "source": [
    "# Estimate the remaining Rapid Response time required from the 1m network\n",
    "bulge_targets.calc_1m_rr_time()"
   ]
  },
  {
   "cell_type": "markdown",
   "id": "e6f236c0",
   "metadata": {},
   "source": [
    "## Maximal targets observed\n",
    "\n",
    "If all planned observations execute completely, we should characterize the following target set over the whole project lifetime.  \n",
    "\n",
    "Note that stellar remnant events are sufficiently long in timescale that Gaia and ZTF may both detect the same candidates.  For that reason, I've avoided double-counting them, though potentially this may be an under-estimate.  \n"
   ]
  },
  {
   "cell_type": "code",
   "execution_count": 57,
   "id": "f65e5c63",
   "metadata": {},
   "outputs": [
    {
     "name": "stdout",
     "output_type": "stream",
     "text": [
      "25.02 planetary events\n",
      "229 stellar binary events\n",
      "18 stellar remnant event candidates\n"
     ]
    }
   ],
   "source": [
    "total_planets = gaia_targets.n_planet_events + ztf_targets.n_planet_events + bulge_targets.n_planet_events\n",
    "total_stars = gaia_targets.n_stellar_events + ztf_targets.n_stellar_events + bulge_targets.n_stellar_events\n",
    "total_bh = max(gaia_targets.n_bh_events, ztf_targets.n_bh_events)\n",
    "total_bh = max(total_bh, bulge_targets.n_bh_events)\n",
    "\n",
    "print(str(total_planets)+' planetary events')\n",
    "print(str(total_stars)+' stellar binary events')\n",
    "print(str(total_bh)+' stellar remnant event candidates')\n"
   ]
  },
  {
   "cell_type": "markdown",
   "id": "cf5bd038",
   "metadata": {},
   "source": [
    "## Total Observing Time Required\n",
    "\n",
    "Various alternative strategies are considered here, as the total is determined by the full range of the targets we expect to study.   "
   ]
  },
  {
   "cell_type": "code",
   "execution_count": 58,
   "id": "ecc825e5",
   "metadata": {},
   "outputs": [
    {
     "name": "stdout",
     "output_type": "stream",
     "text": [
      "Year 2023 Sinistro total 596.9\n",
      " -> Sinistro queue mode 524.9\n",
      " -> Sinistro RR mode 72.0\n",
      "Year 2024 Sinistro total 596.9\n",
      " -> Sinistro queue mode 524.9\n",
      " -> Sinistro RR mode 72.0\n",
      "Year 2023 Sinistro total 100.8\n",
      " -> Sinistro queue mode 100.8\n",
      " -> Sinistro RR mode 0.0\n",
      "Year 2024 Sinistro total 100.8\n",
      " -> Sinistro queue mode 100.8\n",
      " -> Sinistro RR mode 0.0\n",
      "Year 2025 Sinistro total 100.8\n",
      " -> Sinistro queue mode 100.8\n",
      " -> Sinistro RR mode 0.0\n",
      "Year 2023 Sinistro total 270.0\n",
      " -> Sinistro queue mode 210.0\n",
      " -> Sinistro RR mode 60.0\n",
      "Year 2024 Sinistro total 270.0\n",
      " -> Sinistro queue mode 210.0\n",
      " -> Sinistro RR mode 60.0\n",
      "Year 2025 Sinistro total 270.0\n",
      " -> Sinistro queue mode 210.0\n",
      " -> Sinistro RR mode 60.0\n"
     ]
    }
   ],
   "source": [
    "# Calculate the time required in total for each instrument class for each TargetSet\n",
    "gaia_targets.calc_time_totals()\n",
    "ztf_targets.calc_time_totals()\n",
    "bulge_targets.calc_time_totals()"
   ]
  },
  {
   "cell_type": "markdown",
   "id": "936fd38c",
   "metadata": {},
   "source": [
    "### Maximal Strategy\n",
    "\n",
    "Queue-mode photometry and spectroscopy of all observable stellar and stellar remnant lenses from Gaia, ZTF and the Bulge as well as planetary events from the extended survey region in the Bulge (outside the KMTNet high cadence zone).\n",
    "\n",
    "Rapid response observations on the 2m imagers including MusCAT for planetary anomalies and stellar caustic crossings."
   ]
  },
  {
   "cell_type": "code",
   "execution_count": 59,
   "id": "854d52c0",
   "metadata": {},
   "outputs": [
    {
     "name": "stdout",
     "output_type": "stream",
     "text": [
      "Time per instrument class per year:\n",
      "Year 2023 1m/Sinistro time = 967.6999999999999hrs\n",
      "-> Queue time = 835.6999999999999hrs\n",
      "-> Rapid response time = 132.0hrs\n",
      "Year 2023 2m/FLOYDS time = 127.0hrs\n",
      "Year 2023 2m/imagers time (RR mode) = 84.0hrs\n",
      "\n",
      "\n",
      "Year 2024 1m/Sinistro time = 967.6999999999999hrs\n",
      "-> Queue time = 835.6999999999999hrs\n",
      "-> Rapid response time = 132.0hrs\n",
      "Year 2024 2m/FLOYDS time = 127.0hrs\n",
      "Year 2024 2m/imagers time (RR mode) = 84.0hrs\n",
      "\n",
      "\n",
      "Year 2025 1m/Sinistro time = 370.8hrs\n",
      "-> Queue time = 310.8hrs\n",
      "-> Rapid response time = 60.0hrs\n",
      "Year 2025 2m/FLOYDS time = 66.0hrs\n",
      "Year 2025 2m/imagers time (RR mode) = 48.0hrs\n",
      "\n",
      "\n",
      "Time per instrument over project lifetime:\n",
      "1m/Sinistro: 2306.2hrs\n",
      "-> Queue mode: 1982.1999999999998hrs\n",
      "-> Rapid response mode: 324.0hrs\n",
      "2m/FLOYDS: 320.0hrs\n",
      "2m/imagers: 216.0hrs (Rapid Response mode)\n",
      "\n",
      "Overall project request = 2842.2hrs\n"
     ]
    }
   ],
   "source": [
    "print('Time per instrument class per year:')\n",
    "sinistro_time = np.zeros(3)\n",
    "sinistro_queue = np.zeros(3)\n",
    "sinistro_rr = np.zeros(3)\n",
    "floyds_time = np.zeros(3)\n",
    "ft_imagers_time = np.zeros(3)\n",
    "for i,year in enumerate([2023,2024,2025]):\n",
    "    for targets in [gaia_targets, ztf_targets, bulge_targets]:\n",
    "        if year in targets.survey_years:\n",
    "            sinistro_time[i] += targets.sinistro_time[i]\n",
    "            sinistro_queue[i] += targets.sinistro_1m_queue[i]\n",
    "            sinistro_rr[i] += targets.time_rr_1m_imagers[i]\n",
    "            floyds_time[i] += targets.floyds_time[i]\n",
    "            ft_imagers_time[i] += targets.time_2m_imagers[i]\n",
    "            \n",
    "    print('Year '+str(year)+' 1m/Sinistro time = '+str(sinistro_time[i])+'hrs')\n",
    "    print('-> Queue time = '+str(sinistro_queue[i])+'hrs')\n",
    "    print('-> Rapid response time = '+str(sinistro_rr[i])+'hrs')\n",
    "    print('Year '+str(year)+' 2m/FLOYDS time = '+str(floyds_time[i])+'hrs')\n",
    "    print('Year '+str(year)+' 2m/imagers time (RR mode) = '+str(ft_imagers_time[i])+'hrs')\n",
    "    print('\\n')\n",
    "    \n",
    "print('Time per instrument over project lifetime:')\n",
    "sinistro_total = np.array(sinistro_time).sum()\n",
    "sinistro_queue_total = sinistro_queue.sum()\n",
    "sinistro_rr_total = sinistro_rr.sum()\n",
    "floyds_total = np.array(floyds_time).sum()\n",
    "ft_imagers_total = np.array(ft_imagers_time).sum()\n",
    "project_total = sinistro_total + floyds_total + ft_imagers_total\n",
    "\n",
    "print('1m/Sinistro: '+str(sinistro_total)+'hrs')\n",
    "print('-> Queue mode: '+str(sinistro_queue_total)+'hrs')\n",
    "print('-> Rapid response mode: '+str(sinistro_rr_total)+'hrs')\n",
    "print('2m/FLOYDS: '+str(floyds_total)+'hrs')\n",
    "print('2m/imagers: '+str(ft_imagers_total)+'hrs (Rapid Response mode)\\n')\n",
    "\n",
    "print('Overall project request = '+str(project_total)+'hrs')"
   ]
  },
  {
   "cell_type": "code",
   "execution_count": null,
   "id": "2306138f",
   "metadata": {},
   "outputs": [],
   "source": []
  },
  {
   "cell_type": "code",
   "execution_count": null,
   "id": "19873be0",
   "metadata": {},
   "outputs": [],
   "source": []
  },
  {
   "cell_type": "code",
   "execution_count": null,
   "id": "7bdf7083",
   "metadata": {},
   "outputs": [],
   "source": []
  }
 ],
 "metadata": {
  "kernelspec": {
   "display_name": "Python 3 (ipykernel)",
   "language": "python",
   "name": "python3"
  },
  "language_info": {
   "codemirror_mode": {
    "name": "ipython",
    "version": 3
   },
   "file_extension": ".py",
   "mimetype": "text/x-python",
   "name": "python",
   "nbconvert_exporter": "python",
   "pygments_lexer": "ipython3",
   "version": "3.9.5"
  }
 },
 "nbformat": 4,
 "nbformat_minor": 5
}
