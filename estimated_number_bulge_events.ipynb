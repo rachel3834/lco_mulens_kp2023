{
 "cells": [
  {
   "cell_type": "markdown",
   "id": "179ca624",
   "metadata": {},
   "source": [
    "# Bulge Events and Observations\n",
    "\n",
    "The goal of this notebook is to explore the number of Bulge events to be selected in the Key Project, and to estimate the observing time required. \n",
    "\n",
    "This estimate is based on the catalog of events alerted by OGLE & MOA from the Bulge extended survey region. "
   ]
  },
  {
   "cell_type": "code",
   "execution_count": 205,
   "id": "ef9756d8",
   "metadata": {},
   "outputs": [],
   "source": [
    "from os import path\n",
    "import csv\n",
    "from astropy.coordinates import SkyCoord\n",
    "from astropy import units as u\n",
    "from astropy.table import Table, Column\n",
    "from astropy.io import fits\n",
    "import numpy as np\n",
    "import h5py\n",
    "from sys import path as pythonpath\n",
    "pythonpath.append('../')\n",
    "import healpixel_functions\n",
    "import matplotlib.pyplot as plt"
   ]
  },
  {
   "cell_type": "code",
   "execution_count": 183,
   "id": "07030e68",
   "metadata": {},
   "outputs": [],
   "source": [
    "def read_ogle_catalog(file_path):\n",
    "    data = []\n",
    "    with open(file_path, 'r', newline='') as csvfile:\n",
    "        reader = csv.reader(csvfile, delimiter=',', quotechar='|')\n",
    "        for row in reader:\n",
    "            s = SkyCoord(row[1], row[2], frame='icrs', unit=(u.hourangle, u.deg))\n",
    "            mag = float(row[3])\n",
    "            f_bl = float(row[4])\n",
    "            if 'nan' in row[5]:\n",
    "                te = np.NaN\n",
    "            else:\n",
    "                te = float(row[5])\n",
    "            data.append([row[0], row[1], row[2], mag, f_bl, te, s])\n",
    "    data = np.array(data)\n",
    "\n",
    "    event_table = Table(\n",
    "                        [Column(data=data[:,0], name='Event'),\n",
    "                        Column(data=data[:,1], name='RA'),\n",
    "                        Column(data=data[:,2], name='Dec'),\n",
    "                        Column(data=data[:,3], name='Mag'),\n",
    "                        Column(data=data[:,4], name='Blending'),\n",
    "                        Column(data=data[:,5], name='tE'),\n",
    "                        Column(data=data[:,6], name='Coordinate')]\n",
    "                        )\n",
    "\n",
    "    return event_table"
   ]
  },
  {
   "cell_type": "markdown",
   "id": "ea403caa",
   "metadata": {},
   "source": [
    "OGLE and MOA survey overlapping regions of the sky and thereby tend to detect overlapping sets of events.  While MOA do detect some events that OGLE don't and vice versa, the OGLE catalog is more extensive, and more easily queried programmatically, so we use that as a representative sample for the basis of this estimate. "
   ]
  },
  {
   "cell_type": "code",
   "execution_count": 184,
   "id": "3b9b5fca",
   "metadata": {},
   "outputs": [
    {
     "data": {
      "text/html": [
       "<div><i>Table length=20637</i>\n",
       "<table id=\"table140606192672144\" class=\"table-striped table-bordered table-condensed\">\n",
       "<thead><tr><th>Event</th><th>RA</th><th>Dec</th><th>Mag</th><th>Blending</th><th>tE</th><th>Coordinate</th></tr></thead>\n",
       "<thead><tr><th>object</th><th>object</th><th>object</th><th>object</th><th>object</th><th>object</th><th>object</th></tr></thead>\n",
       "<tr><td>OGLE-2002-BLG-001</td><td>17:51:16.16</td><td>-30:12:31.4</td><td>16.638</td><td>0.422</td><td>64.771</td><td>&lt;SkyCoord (ICRS): (ra, dec) in deg\\n    (267.81733333, -30.20872222)&gt;</td></tr>\n",
       "<tr><td>OGLE-2002-BLG-002</td><td>17:50:45.43</td><td>-30:04:13.9</td><td>17.692</td><td>1.0</td><td>49.107</td><td>&lt;SkyCoord (ICRS): (ra, dec) in deg\\n    (267.68929167, -30.07052778)&gt;</td></tr>\n",
       "<tr><td>OGLE-2002-BLG-003</td><td>17:54:25.85</td><td>-29:54:27.5</td><td>18.812</td><td>1.0</td><td>74.898</td><td>&lt;SkyCoord (ICRS): (ra, dec) in deg\\n    (268.60770833, -29.90763889)&gt;</td></tr>\n",
       "<tr><td>OGLE-2002-BLG-004</td><td>17:53:55.77</td><td>-29:53:32.0</td><td>17.424</td><td>0.267</td><td>102.431</td><td>&lt;SkyCoord (ICRS): (ra, dec) in deg\\n    (268.482375, -29.89222222)&gt;</td></tr>\n",
       "<tr><td>OGLE-2002-BLG-005</td><td>17:57:10.20</td><td>-29:43:41.8</td><td>18.576</td><td>1.0</td><td>30.081</td><td>&lt;SkyCoord (ICRS): (ra, dec) in deg\\n    (269.2925, -29.72827778)&gt;</td></tr>\n",
       "<tr><td>OGLE-2002-BLG-006</td><td>17:56:29.86</td><td>-29:26:27.5</td><td>18.542</td><td>1.0</td><td>51.621</td><td>&lt;SkyCoord (ICRS): (ra, dec) in deg\\n    (269.12441667, -29.44097222)&gt;</td></tr>\n",
       "<tr><td>...</td><td>...</td><td>...</td><td>...</td><td>...</td><td>...</td><td>...</td></tr>\n",
       "<tr><td>OGLE-2019-BLG-1520</td><td>17:55:27.65</td><td>-29:03:54.8</td><td>19.67</td><td>1.0</td><td>27.725</td><td>&lt;SkyCoord (ICRS): (ra, dec) in deg\\n    (268.86520833, -29.06522222)&gt;</td></tr>\n",
       "<tr><td>OGLE-2019-BLG-1521</td><td>17:56:27.91</td><td>-30:31:37.9</td><td>16.633</td><td>1.0</td><td>10.138</td><td>&lt;SkyCoord (ICRS): (ra, dec) in deg\\n    (269.11629167, -30.52719444)&gt;</td></tr>\n",
       "<tr><td>OGLE-2019-BLG-1522</td><td>17:59:50.86</td><td>-30:10:56.8</td><td>19.269</td><td>1.0</td><td>42.337</td><td>&lt;SkyCoord (ICRS): (ra, dec) in deg\\n    (269.96191667, -30.18244444)&gt;</td></tr>\n",
       "<tr><td>OGLE-2019-BLG-1523</td><td>18:00:17.04</td><td>-28:32:48.2</td><td>17.959</td><td>1.0</td><td>33.469</td><td>&lt;SkyCoord (ICRS): (ra, dec) in deg\\n    (270.071, -28.54672222)&gt;</td></tr>\n",
       "<tr><td>OGLE-2019-BLG-1524</td><td>18:05:06.06</td><td>-28:02:39.7</td><td>17.245</td><td>1.0</td><td>34.793</td><td>&lt;SkyCoord (ICRS): (ra, dec) in deg\\n    (271.27525, -28.04436111)&gt;</td></tr>\n",
       "<tr><td>OGLE-2019-BLG-1525</td><td>17:53:02.74</td><td>-31:17:01.2</td><td>17.536</td><td>1.0</td><td>31.415</td><td>&lt;SkyCoord (ICRS): (ra, dec) in deg\\n    (268.26141667, -31.28366667)&gt;</td></tr>\n",
       "<tr><td>OGLE-2019-BLG-1526</td><td>17:42:59.90</td><td>-27:53:51.5</td><td>18.915</td><td>1.0</td><td>9.51</td><td>&lt;SkyCoord (ICRS): (ra, dec) in deg\\n    (265.74958333, -27.89763889)&gt;</td></tr>\n",
       "</table></div>"
      ],
      "text/plain": [
       "<Table length=20637>\n",
       "      Event        ...\n",
       "      object       ...\n",
       "------------------ ...\n",
       " OGLE-2002-BLG-001 ...\n",
       " OGLE-2002-BLG-002 ...\n",
       " OGLE-2002-BLG-003 ...\n",
       " OGLE-2002-BLG-004 ...\n",
       " OGLE-2002-BLG-005 ...\n",
       " OGLE-2002-BLG-006 ...\n",
       "               ... ...\n",
       "OGLE-2019-BLG-1520 ...\n",
       "OGLE-2019-BLG-1521 ...\n",
       "OGLE-2019-BLG-1522 ...\n",
       "OGLE-2019-BLG-1523 ...\n",
       "OGLE-2019-BLG-1524 ...\n",
       "OGLE-2019-BLG-1525 ...\n",
       "OGLE-2019-BLG-1526 ..."
      ]
     },
     "execution_count": 184,
     "metadata": {},
     "output_type": "execute_result"
    }
   ],
   "source": [
    "event_file_path = 'ogle_event_data.csv'\n",
    "bulge_events = read_ogle_catalog(event_file_path)\n",
    "bulge_events"
   ]
  },
  {
   "cell_type": "markdown",
   "id": "ae54b8a8",
   "metadata": {},
   "source": [
    "However, we want to exclude events from the central Bulge region covered by KMTNet, so we read in the Bulge survey zone map, and filter the bulge_events list to include only those events from the region outside the central high cadence zone. "
   ]
  },
  {
   "cell_type": "code",
   "execution_count": 185,
   "id": "f42d4ea8",
   "metadata": {},
   "outputs": [],
   "source": [
    "NSIDE = 64"
   ]
  },
  {
   "cell_type": "code",
   "execution_count": 186,
   "id": "a14d8eea",
   "metadata": {},
   "outputs": [
    {
     "data": {
      "text/html": [
       "<div><i>Table length=49152</i>\n",
       "<table id=\"table140605863215696\" class=\"table-striped table-bordered table-condensed\">\n",
       "<thead><tr><th>HP</th><th>RA</th><th>Dec</th><th>field_centre</th><th>Gamma</th></tr></thead>\n",
       "<thead><tr><th>int64</th><th>str12</th><th>str12</th><th>object</th><th>float64</th></tr></thead>\n",
       "<tr><td>1</td><td>03:00:00</td><td>+89:16:08.50</td><td>&lt;SkyCoord (ICRS): (ra, dec) in deg\\n    (45., 89.26902778)&gt;</td><td>0.0</td></tr>\n",
       "<tr><td>2</td><td>09:00:00</td><td>+89:16:08.50</td><td>&lt;SkyCoord (ICRS): (ra, dec) in deg\\n    (135., 89.26902778)&gt;</td><td>0.0</td></tr>\n",
       "<tr><td>3</td><td>15:00:00</td><td>+89:16:08.50</td><td>&lt;SkyCoord (ICRS): (ra, dec) in deg\\n    (225., 89.26902778)&gt;</td><td>0.0</td></tr>\n",
       "<tr><td>4</td><td>21:00:00</td><td>+89:16:08.50</td><td>&lt;SkyCoord (ICRS): (ra, dec) in deg\\n    (315., 89.26902778)&gt;</td><td>0.0</td></tr>\n",
       "<tr><td>5</td><td>01:30:00</td><td>+88:32:16.90</td><td>&lt;SkyCoord (ICRS): (ra, dec) in deg\\n    (22.5, 88.53802778)&gt;</td><td>0.0</td></tr>\n",
       "<tr><td>6</td><td>04:30:00</td><td>+88:32:16.90</td><td>&lt;SkyCoord (ICRS): (ra, dec) in deg\\n    (67.5, 88.53802778)&gt;</td><td>0.0</td></tr>\n",
       "<tr><td>...</td><td>...</td><td>...</td><td>...</td><td>...</td></tr>\n",
       "<tr><td>49146</td><td>16:30:00</td><td>-88:32:16.90</td><td>&lt;SkyCoord (ICRS): (ra, dec) in deg\\n    (247.5, -88.53802778)&gt;</td><td>0.0</td></tr>\n",
       "<tr><td>49147</td><td>19:30:00</td><td>-88:32:16.90</td><td>&lt;SkyCoord (ICRS): (ra, dec) in deg\\n    (292.5, -88.53802778)&gt;</td><td>0.0</td></tr>\n",
       "<tr><td>49148</td><td>22:30:00</td><td>-88:32:16.90</td><td>&lt;SkyCoord (ICRS): (ra, dec) in deg\\n    (337.5, -88.53802778)&gt;</td><td>0.0</td></tr>\n",
       "<tr><td>49149</td><td>03:00:00</td><td>-89:16:08.50</td><td>&lt;SkyCoord (ICRS): (ra, dec) in deg\\n    (45., -89.26902778)&gt;</td><td>0.0</td></tr>\n",
       "<tr><td>49150</td><td>09:00:00</td><td>-89:16:08.50</td><td>&lt;SkyCoord (ICRS): (ra, dec) in deg\\n    (135., -89.26902778)&gt;</td><td>0.0</td></tr>\n",
       "<tr><td>49151</td><td>15:00:00</td><td>-89:16:08.50</td><td>&lt;SkyCoord (ICRS): (ra, dec) in deg\\n    (225., -89.26902778)&gt;</td><td>0.0</td></tr>\n",
       "<tr><td>0</td><td>21:00:00</td><td>-89:16:08.50</td><td>&lt;SkyCoord (ICRS): (ra, dec) in deg\\n    (315., -89.26902778)&gt;</td><td>0.0</td></tr>\n",
       "</table></div>"
      ],
      "text/plain": [
       "<Table length=49152>\n",
       "  HP     RA    ...  Gamma \n",
       "int64  str12   ... float64\n",
       "----- -------- ... -------\n",
       "    1 03:00:00 ...     0.0\n",
       "    2 09:00:00 ...     0.0\n",
       "    3 15:00:00 ...     0.0\n",
       "    4 21:00:00 ...     0.0\n",
       "    5 01:30:00 ...     0.0\n",
       "    6 04:30:00 ...     0.0\n",
       "  ...      ... ...     ...\n",
       "49146 16:30:00 ...     0.0\n",
       "49147 19:30:00 ...     0.0\n",
       "49148 22:30:00 ...     0.0\n",
       "49149 03:00:00 ...     0.0\n",
       "49150 09:00:00 ...     0.0\n",
       "49151 15:00:00 ...     0.0\n",
       "    0 21:00:00 ...     0.0"
      ]
     },
     "execution_count": 186,
     "metadata": {},
     "output_type": "execute_result"
    }
   ],
   "source": [
    "map_file_path = '../bulge_extended_zone_map.fits'\n",
    "with fits.open(map_file_path) as hdul:\n",
    "    data_table = hdul[1].data\n",
    "\n",
    "coords = SkyCoord(data_table['RA'], data_table['Dec'], frame='icrs', unit=(u.hourangle, u.deg))\n",
    "\n",
    "survey_region_map = Table([\n",
    "                            Column(name=\"HP\", data=data_table['hp_index'], dtype='int'),\n",
    "                            Column(name=\"RA\", data=data_table['RA'], dtype='str'),\n",
    "                            Column(name=\"Dec\", data=data_table['Dec'], dtype='str'),\n",
    "                            Column(name=\"field_centre\", data=coords),\n",
    "                            Column(name=\"Gamma\", data=data_table['gamma'], dtype='float'),\n",
    "                            ])\n",
    "survey_region_map"
   ]
  },
  {
   "cell_type": "code",
   "execution_count": 187,
   "id": "55470129",
   "metadata": {},
   "outputs": [
    {
     "data": {
      "text/html": [
       "<div><i>Table length=8375</i>\n",
       "<table id=\"table140603218877696\" class=\"table-striped table-bordered table-condensed\">\n",
       "<thead><tr><th>Event</th><th>RA</th><th>Dec</th><th>Mag</th><th>Blending</th><th>tE</th><th>Coordinate</th></tr></thead>\n",
       "<thead><tr><th>object</th><th>object</th><th>object</th><th>object</th><th>object</th><th>object</th><th>object</th></tr></thead>\n",
       "<tr><td>OGLE-2002-BLG-002</td><td>17:50:45.43</td><td>-30:04:13.9</td><td>17.692</td><td>1.0</td><td>49.107</td><td>&lt;SkyCoord (ICRS): (ra, dec) in deg\\n    (267.68929167, -30.07052778)&gt;</td></tr>\n",
       "<tr><td>OGLE-2002-BLG-010</td><td>17:49:10.73</td><td>-35:20:54.6</td><td>18.817</td><td>1.0</td><td>30.495</td><td>&lt;SkyCoord (ICRS): (ra, dec) in deg\\n    (267.29470833, -35.3485)&gt;</td></tr>\n",
       "<tr><td>OGLE-2002-BLG-011</td><td>17:55:30.87</td><td>-35:25:09.1</td><td>18.193</td><td>1.0</td><td>34.56</td><td>&lt;SkyCoord (ICRS): (ra, dec) in deg\\n    (268.878625, -35.41919444)&gt;</td></tr>\n",
       "<tr><td>OGLE-2002-BLG-017</td><td>17:58:08.62</td><td>-34:18:21.7</td><td>19.123</td><td>1.0</td><td>14.975</td><td>&lt;SkyCoord (ICRS): (ra, dec) in deg\\n    (269.53591667, -34.30602778)&gt;</td></tr>\n",
       "<tr><td>OGLE-2002-BLG-018</td><td>18:01:08.82</td><td>-33:59:24.1</td><td>18.043</td><td>1.0</td><td>26.127</td><td>&lt;SkyCoord (ICRS): (ra, dec) in deg\\n    (270.28675, -33.99002778)&gt;</td></tr>\n",
       "<tr><td>OGLE-2002-BLG-024</td><td>18:02:51.62</td><td>-33:39:59.7</td><td>19.129</td><td>1.0</td><td>27.585</td><td>&lt;SkyCoord (ICRS): (ra, dec) in deg\\n    (270.71508333, -33.66658333)&gt;</td></tr>\n",
       "<tr><td>...</td><td>...</td><td>...</td><td>...</td><td>...</td><td>...</td><td>...</td></tr>\n",
       "<tr><td>OGLE-2019-BLG-1479</td><td>17:51:56.31</td><td>-31:02:38.6</td><td>19.195</td><td>1.0</td><td>90.884</td><td>&lt;SkyCoord (ICRS): (ra, dec) in deg\\n    (267.984625, -31.04405556)&gt;</td></tr>\n",
       "<tr><td>OGLE-2019-BLG-1481</td><td>17:41:49.08</td><td>-35:01:10.8</td><td>20.223</td><td>0.512</td><td>31.6</td><td>&lt;SkyCoord (ICRS): (ra, dec) in deg\\n    (265.4545, -35.01966667)&gt;</td></tr>\n",
       "<tr><td>OGLE-2019-BLG-1485</td><td>17:30:24.29</td><td>-28:10:28.4</td><td>20.273</td><td>0.167</td><td>52.901</td><td>&lt;SkyCoord (ICRS): (ra, dec) in deg\\n    (262.60120833, -28.17455556)&gt;</td></tr>\n",
       "<tr><td>OGLE-2019-BLG-1496</td><td>17:38:45.27</td><td>-24:26:23.1</td><td>19.795</td><td>1.0</td><td>37.948</td><td>&lt;SkyCoord (ICRS): (ra, dec) in deg\\n    (264.688625, -24.43975)&gt;</td></tr>\n",
       "<tr><td>OGLE-2019-BLG-1498</td><td>17:51:32.30</td><td>-28:22:21.0</td><td>19.872</td><td>1.0</td><td>3.532</td><td>&lt;SkyCoord (ICRS): (ra, dec) in deg\\n    (267.88458333, -28.3725)&gt;</td></tr>\n",
       "<tr><td>OGLE-2019-BLG-1515</td><td>17:48:58.26</td><td>-29:44:40.2</td><td>18.344</td><td>1.0</td><td>9.719</td><td>&lt;SkyCoord (ICRS): (ra, dec) in deg\\n    (267.24275, -29.7445)&gt;</td></tr>\n",
       "<tr><td>OGLE-2019-BLG-1517</td><td>17:59:08.93</td><td>-27:45:00.7</td><td>16.391</td><td>1.0</td><td>6.733</td><td>&lt;SkyCoord (ICRS): (ra, dec) in deg\\n    (269.78720833, -27.75019444)&gt;</td></tr>\n",
       "</table></div>"
      ],
      "text/plain": [
       "<Table length=8375>\n",
       "      Event        ...\n",
       "      object       ...\n",
       "------------------ ...\n",
       " OGLE-2002-BLG-002 ...\n",
       " OGLE-2002-BLG-010 ...\n",
       " OGLE-2002-BLG-011 ...\n",
       " OGLE-2002-BLG-017 ...\n",
       " OGLE-2002-BLG-018 ...\n",
       " OGLE-2002-BLG-024 ...\n",
       "               ... ...\n",
       "OGLE-2019-BLG-1479 ...\n",
       "OGLE-2019-BLG-1481 ...\n",
       "OGLE-2019-BLG-1485 ...\n",
       "OGLE-2019-BLG-1496 ...\n",
       "OGLE-2019-BLG-1498 ...\n",
       "OGLE-2019-BLG-1515 ...\n",
       "OGLE-2019-BLG-1517 ..."
      ]
     },
     "execution_count": 187,
     "metadata": {},
     "output_type": "execute_result"
    }
   ],
   "source": [
    "events_index = []\n",
    "for ievent,event in enumerate(bulge_events):\n",
    "    hpindex = healpixel_functions.skycoord_to_HPindex(event['Coordinate'], NSIDE)[0]\n",
    "    if survey_region_map[hpindex]['Gamma'] > 0.0:\n",
    "        events_index.append(ievent)\n",
    "\n",
    "ext_zone_events = bulge_events[events_index]\n",
    "ext_zone_events"
   ]
  },
  {
   "cell_type": "code",
   "execution_count": 188,
   "id": "85c58f5a",
   "metadata": {},
   "outputs": [],
   "source": [
    "def count_events_per_year(event_set):\n",
    "    events_per_year = {}\n",
    "    for ievent,event in enumerate(event_set):\n",
    "        name = str(event['Event'])\n",
    "        year = name.split('-')[1]\n",
    "        if year not in events_per_year.keys():\n",
    "            events_per_year[year] = [ievent]\n",
    "        else:\n",
    "            events_per_year[year].append(ievent)\n",
    "\n",
    "    for key, event_list in events_per_year.items():\n",
    "        print(str(key)+': '+str(len(event_list))+' events')\n",
    "    return events_per_year\n"
   ]
  },
  {
   "cell_type": "markdown",
   "id": "32196705",
   "metadata": {},
   "source": [
    "How many events within the Bulge extended survey zone were detected each year?  It should be noted that OGLE is changing its observing strategy from 2023 and the OGLE team estimate that they will detected ~3000 events (OGLE, priv. comm.)"
   ]
  },
  {
   "cell_type": "code",
   "execution_count": 189,
   "id": "5bd48cdc",
   "metadata": {},
   "outputs": [
    {
     "name": "stdout",
     "output_type": "stream",
     "text": [
      "Events per year discovered in DR 14 data:\n",
      "2002: 180 events\n",
      "2003: 212 events\n",
      "2004: 221 events\n",
      "2005: 197 events\n",
      "2006: 150 events\n",
      "2007: 163 events\n",
      "2008: 171 events\n",
      "2009: 37 events\n",
      "2011: 598 events\n",
      "2012: 701 events\n",
      "2013: 873 events\n",
      "2014: 896 events\n",
      "2015: 946 events\n",
      "2016: 894 events\n",
      "2017: 739 events\n",
      "2018: 729 events\n",
      "2019: 668 events\n"
     ]
    }
   ],
   "source": [
    "print('Events per year discovered in DR 14 data:')\n",
    "events_per_year = count_events_per_year(ext_zone_events)"
   ]
  },
  {
   "cell_type": "code",
   "execution_count": 190,
   "id": "5cb46ccf",
   "metadata": {},
   "outputs": [
    {
     "name": "stdout",
     "output_type": "stream",
     "text": [
      "Long timescale events within the extended Bulge survey region per year:\n",
      "2002: 8 events, 4.44%\n",
      "2003: 6 events, 2.83%\n",
      "2004: 13 events, 5.88%\n",
      "2005: 6 events, 3.05%\n",
      "2006: 7 events, 4.67%\n",
      "2007: 1 events, 0.61%\n",
      "2008: 3 events, 1.75%\n",
      "2009: 0 events, 0.0%\n",
      "2011: 24 events, 4.01%\n",
      "2012: 38 events, 5.42%\n",
      "2013: 36 events, 4.12%\n",
      "2014: 55 events, 6.14%\n",
      "2015: 29 events, 3.07%\n",
      "2016: 62 events, 6.94%\n",
      "2017: 22 events, 2.98%\n",
      "2018: 54 events, 7.41%\n",
      "2019: 27 events, 4.04%\n"
     ]
    }
   ],
   "source": [
    "print('Long timescale events within the extended Bulge survey region per year:')\n",
    "long_events = np.where(bulge_events['tE'] > 100.0)[0]\n",
    "for year, event_list in events_per_year.items():\n",
    "    long_event_year = list(set(long_events).intersection(set(event_list)))\n",
    "    frac_long = float(len(long_event_year))/float(len(event_list))\n",
    "    print(str(year)+': '+str(len(long_event_year))+' events, '+str(round(frac_long*100.0,2))+'%')\n",
    "        "
   ]
  },
  {
   "cell_type": "markdown",
   "id": "ad745e79",
   "metadata": {},
   "source": [
    "Based on previous analysis of Bulge events by the RTmodel system for the 2019 season (the most recent season of survey operations undisrupted by the pandemic, https://www.fisica.unisa.it/GravitationAstrophysics/RTModel/2019/RTModel.htm), 8 planetary lens events were discovered from a total of 1526 (over the whole Bulge region), plus 40 stellar binary events.  This implies that 2.6% of events are binary, and 0.5% include planetary companions. Similar percentages are seen for other years.  \n",
    "\n",
    "From the assessment above, we can also conservatively expect ~ 20 stellar remnant candidate events per year within the Bulge extended survey region, or ~ 2% of the events. \n",
    "\n",
    "**We therefore conservatively expect ~ 700 Bulge events to be detected in the extended Bulge region covered at low (~1-2 visits per day) survey cadence.  This implies that we can expect ~ 18 binary events plus 3-4 planetary events plus 20 long-timescale candidates per year in the extended survey zone.** "
   ]
  },
  {
   "cell_type": "code",
   "execution_count": 191,
   "id": "4d0a7bf9",
   "metadata": {},
   "outputs": [
    {
     "name": "stdout",
     "output_type": "stream",
     "text": [
      "Expect Bulge surveys to detect the following numbers of events per year in the Extended Survey Zone:\n",
      "N stellar binaries = 18\n",
      "N planet binaries = 4\n",
      "N BH = 14\n"
     ]
    }
   ],
   "source": [
    "n_extn_zone_events = 700 # per year\n",
    "binary_frac = 2.6/100.0\n",
    "planet_frac = 0.5/100.0\n",
    "bh_frac = 2/100.0\n",
    "\n",
    "n_binary_per_year = int(round((n_extn_zone_events * binary_frac),0))\n",
    "n_planet_per_year = int(round((n_extn_zone_events * planet_frac),0))\n",
    "n_bh_per_year = int(round((n_extn_zone_events * bh_frac),0))\n",
    "\n",
    "print('Expect Bulge surveys to detect the following numbers of events per year in the Extended Survey Zone:')\n",
    "print('N stellar binaries = '+str(n_binary_per_year))\n",
    "print('N planet binaries = '+str(n_planet_per_year))\n",
    "print('N BH = '+str(n_bh_per_year))\n"
   ]
  },
  {
   "cell_type": "markdown",
   "id": "5de335cf",
   "metadata": {},
   "source": [
    "Based on the kp_simulator simulation, LCO would be able to contribute follow-up observations for 42% of events discovered in the Bulge (largely limited by apparent magnitude for events, which suffer higher extinction than elsewhere in the sky). \n"
   ]
  },
  {
   "cell_type": "code",
   "execution_count": 192,
   "id": "c3ec2eba",
   "metadata": {},
   "outputs": [
    {
     "name": "stdout",
     "output_type": "stream",
     "text": [
      "Expect LCO to be able to observe the following numbers of events in the Extended Survey Zone:\n",
      "N stellar binaries = 7 per year, and 21 in total\n",
      "N planetary binaries = 2 per year, and 6 in total\n",
      "N stellar remnants = 6 per year, and 18 in total\n"
     ]
    }
   ],
   "source": [
    "obs_frac = 0.4\n",
    "n_years = 3\n",
    "\n",
    "n_binary_obs_per_year = int(round((obs_frac * n_binary_per_year),0))\n",
    "n_binary = n_binary_obs_per_year * n_years\n",
    "n_planet_obs_per_year = int(round((obs_frac * n_planet_per_year),0))\n",
    "n_planet = n_planet_obs_per_year * n_years\n",
    "n_bh_obs_per_year = int(round((obs_frac * n_bh_per_year),0))\n",
    "n_bh = n_bh_obs_per_year * n_years\n",
    "\n",
    "print('Expect LCO to be able to observe the following numbers of events in the Extended Survey Zone:')\n",
    "print('N stellar binaries = '+str(n_binary_obs_per_year)+' per year, and '+str(n_binary)+' in total')\n",
    "print('N planetary binaries = '+str(n_planet_obs_per_year)+' per year, and '+str(n_planet)+' in total')\n",
    "print('N stellar remnants = '+str(n_bh_obs_per_year)+' per year, and '+str(n_bh)+' in total')\n"
   ]
  },
  {
   "cell_type": "markdown",
   "id": "68fca154",
   "metadata": {},
   "source": [
    "## Observing Time Required for Bulge Event Follow-up"
   ]
  },
  {
   "cell_type": "markdown",
   "id": "bab551da",
   "metadata": {},
   "source": [
    "We can use the simulated data products of the Key Project observing strategy to estimate the total time required to observe Bulge events. "
   ]
  },
  {
   "cell_type": "code",
   "execution_count": 193,
   "id": "a3fc1215",
   "metadata": {},
   "outputs": [],
   "source": [
    "def read_sim_event_table(file_path):\n",
    "    hdul = fits.open(file_path)\n",
    "    cols = hdul[1].columns\n",
    "    data = hdul[1].data\n",
    "    column_list = []\n",
    "    for col in cols:\n",
    "        if col.name == 'EventID':\n",
    "            dtype = 'str'\n",
    "        elif col.name in ['HEALpixel', 'nvisits']:\n",
    "            dtype = 'int'\n",
    "        else:\n",
    "            dtype = 'float'\n",
    "        column_list.append(Column(name=col.name, data=data[col.name], dtype=dtype))\n",
    "    \n",
    "    return Table(column_list)"
   ]
  },
  {
   "cell_type": "code",
   "execution_count": 194,
   "id": "e371210b",
   "metadata": {},
   "outputs": [],
   "source": [
    "def read_lco_sim_data(file_path, n_events):\n",
    "    f = h5py.File(file_path, \"r\")\n",
    "    dataset = {}\n",
    "    for eventid in f.keys():\n",
    "        dataset[eventid] = f[eventid][:]\n",
    "    \n",
    "    return dataset"
   ]
  },
  {
   "cell_type": "code",
   "execution_count": 195,
   "id": "184fe6fe",
   "metadata": {},
   "outputs": [],
   "source": [
    "sim_lco_lc_file = '../simulated_lco_lightcurves_bulge_events.hdf5'\n",
    "dataset = read_lco_sim_data(sim_lco_lc_file, 1000)"
   ]
  },
  {
   "cell_type": "code",
   "execution_count": 196,
   "id": "fe2ab01a",
   "metadata": {},
   "outputs": [],
   "source": [
    "sim_data_file = '../sim_bulge_events_table.fits'\n",
    "events_table = read_sim_event_table(sim_data_file)"
   ]
  },
  {
   "cell_type": "code",
   "execution_count": 197,
   "id": "df4f0aa1",
   "metadata": {},
   "outputs": [
    {
     "data": {
      "text/html": [
       "<div><i>Table length=1000</i>\n",
       "<table id=\"table140606189190784\" class=\"table-striped table-bordered table-condensed\">\n",
       "<thead><tr><th>EventID</th><th>HEALpixel</th><th>RA_deg</th><th>Dec_deg</th><th>baseline_mag</th><th>blend_ratio</th><th>t0</th><th>u0</th><th>tE</th><th>rho</th><th>piEN</th><th>piEE</th><th>nvisits</th><th>binary_lens</th></tr></thead>\n",
       "<thead><tr><th>str14</th><th>int64</th><th>float64</th><th>float64</th><th>float64</th><th>float64</th><th>float64</th><th>float64</th><th>float64</th><th>float64</th><th>float64</th><th>float64</th><th>int64</th><th>float64</th></tr></thead>\n",
       "<tr><td>BulgeSim00001</td><td>39232</td><td>270.0</td><td>-36.4235725402832</td><td>17.908000946044922</td><td>0.7799999713897705</td><td>2460348.0</td><td>-0.07430554926395416</td><td>16.68768310546875</td><td>0.01901441067457199</td><td>0.6830319762229919</td><td>0.24638403952121735</td><td>1846</td><td>0.0</td></tr>\n",
       "<tr><td>BulgeSim00002</td><td>37187</td><td>274.21875</td><td>-30.691585540771484</td><td>17.408000946044922</td><td>0.029999999329447746</td><td>2460936.5</td><td>0.11208660155534744</td><td>24.460752487182617</td><td>0.0033516644034534693</td><td>0.8797856569290161</td><td>-0.2112245410680771</td><td>1846</td><td>0.0</td></tr>\n",
       "<tr><td>BulgeSim00003</td><td>34116</td><td>275.625</td><td>-22.66960906982422</td><td>19.908000946044922</td><td>0.029999999329447746</td><td>2461045.75</td><td>0.6554144024848938</td><td>17.110116958618164</td><td>0.011044623330235481</td><td>-0.7181605100631714</td><td>0.04251528158783913</td><td>1846</td><td>0.0</td></tr>\n",
       "<tr><td>BulgeSim00004</td><td>37185</td><td>271.40625</td><td>-30.691585540771484</td><td>19.658000946044922</td><td>0.7799999713897705</td><td>2460445.5</td><td>0.6014909148216248</td><td>10.126562118530273</td><td>0.0006753820343874395</td><td>-0.3732929825782776</td><td>-0.5256137251853943</td><td>1846</td><td>0.0</td></tr>\n",
       "<tr><td>BulgeSim00005</td><td>38211</td><td>274.21875</td><td>-33.51005554199219</td><td>19.908000946044922</td><td>0.029999999329447746</td><td>2461179.25</td><td>0.16531983017921448</td><td>90.64039611816406</td><td>0.003346493234857917</td><td>1.572751522064209</td><td>-0.24887365102767944</td><td>1846</td><td>0.0</td></tr>\n",
       "<tr><td>BulgeSim00006</td><td>34365</td><td>266.484375</td><td>-23.317955017089844</td><td>19.408000946044922</td><td>0.7799999713897705</td><td>2460166.25</td><td>-0.23179543018341064</td><td>7.954485893249512</td><td>0.025362001731991768</td><td>-0.19389182329177856</td><td>-0.03340071812272072</td><td>1846</td><td>0.0</td></tr>\n",
       "<tr><td>...</td><td>...</td><td>...</td><td>...</td><td>...</td><td>...</td><td>...</td><td>...</td><td>...</td><td>...</td><td>...</td><td>...</td><td>...</td><td>...</td></tr>\n",
       "<tr><td>BulgeSim00994</td><td>38974</td><td>267.890625</td><td>-35.685333251953125</td><td>20.408000946044922</td><td>0.7799999713897705</td><td>2460549.25</td><td>0.1489478051662445</td><td>54.63604736328125</td><td>0.0031426141504198313</td><td>0.843697190284729</td><td>0.009371805936098099</td><td>1846</td><td>0.0</td></tr>\n",
       "<tr><td>BulgeSim00995</td><td>33087</td><td>268.59375</td><td>-20.10550880432129</td><td>19.908000946044922</td><td>0.029999999329447746</td><td>2460483.0</td><td>0.6646540760993958</td><td>29.92071533203125</td><td>0.0008718562312424183</td><td>-0.2620587944984436</td><td>0.13978320360183716</td><td>1846</td><td>0.0</td></tr>\n",
       "<tr><td>BulgeSim00996</td><td>37187</td><td>274.21875</td><td>-30.691585540771484</td><td>18.658000946044922</td><td>0.7799999713897705</td><td>2460900.5</td><td>0.07339838147163391</td><td>11.46316909790039</td><td>0.009362943470478058</td><td>1.2947731018066406</td><td>-0.19357533752918243</td><td>1846</td><td>0.0</td></tr>\n",
       "<tr><td>BulgeSim00997</td><td>37440</td><td>270.703125</td><td>-31.388164520263672</td><td>17.408000946044922</td><td>0.2800000011920929</td><td>2460343.0</td><td>0.16652506589889526</td><td>9.625110626220703</td><td>0.008860449306666851</td><td>0.03132149204611778</td><td>0.03497982770204544</td><td>1846</td><td>0.0</td></tr>\n",
       "<tr><td>BulgeSim00998</td><td>35898</td><td>262.265625</td><td>-27.279611587524414</td><td>21.408000946044922</td><td>0.7799999713897705</td><td>2460242.25</td><td>0.7028511166572571</td><td>17.5517520904541</td><td>0.014097312465310097</td><td>0.3938514292240143</td><td>-0.19322986900806427</td><td>1846</td><td>0.0</td></tr>\n",
       "<tr><td>BulgeSim00999</td><td>38976</td><td>270.703125</td><td>-35.685333251953125</td><td>16.658000946044922</td><td>0.7799999713897705</td><td>2460482.0</td><td>-0.29426079988479614</td><td>9.653400421142578</td><td>0.0069732037372887135</td><td>1.6432549953460693</td><td>0.4601826071739197</td><td>1846</td><td>0.0</td></tr>\n",
       "<tr><td>BulgeSim01000</td><td>35394</td><td>273.515625</td><td>-25.944477081298828</td><td>20.908000946044922</td><td>0.7799999713897705</td><td>2461006.25</td><td>0.037438247352838516</td><td>69.58031463623047</td><td>0.0038754213601350784</td><td>0.04420163109898567</td><td>0.2101404070854187</td><td>1846</td><td>0.0</td></tr>\n",
       "</table></div>"
      ],
      "text/plain": [
       "<Table length=1000>\n",
       "   EventID    HEALpixel   RA_deg   ...         piEE         nvisits binary_lens\n",
       "    str14       int64    float64   ...       float64         int64    float64  \n",
       "------------- --------- ---------- ... -------------------- ------- -----------\n",
       "BulgeSim00001     39232      270.0 ...  0.24638403952121735    1846         0.0\n",
       "BulgeSim00002     37187  274.21875 ...  -0.2112245410680771    1846         0.0\n",
       "BulgeSim00003     34116    275.625 ...  0.04251528158783913    1846         0.0\n",
       "BulgeSim00004     37185  271.40625 ...  -0.5256137251853943    1846         0.0\n",
       "BulgeSim00005     38211  274.21875 ... -0.24887365102767944    1846         0.0\n",
       "BulgeSim00006     34365 266.484375 ... -0.03340071812272072    1846         0.0\n",
       "          ...       ...        ... ...                  ...     ...         ...\n",
       "BulgeSim00994     38974 267.890625 ... 0.009371805936098099    1846         0.0\n",
       "BulgeSim00995     33087  268.59375 ...  0.13978320360183716    1846         0.0\n",
       "BulgeSim00996     37187  274.21875 ... -0.19357533752918243    1846         0.0\n",
       "BulgeSim00997     37440 270.703125 ...  0.03497982770204544    1846         0.0\n",
       "BulgeSim00998     35898 262.265625 ... -0.19322986900806427    1846         0.0\n",
       "BulgeSim00999     38976 270.703125 ...   0.4601826071739197    1846         0.0\n",
       "BulgeSim01000     35394 273.515625 ...   0.2101404070854187    1846         0.0"
      ]
     },
     "execution_count": 197,
     "metadata": {},
     "output_type": "execute_result"
    }
   ],
   "source": [
    "events_table"
   ]
  },
  {
   "cell_type": "markdown",
   "id": "49e3da0c",
   "metadata": {},
   "source": [
    "We can use the simulated LCO lightcurves produced by the Key Project observing strategy, to estimate the typical number of visits to target that we can expect.  We can also use the same data to estimate the total exposure time per target, since the simulation includes target brightness as a function of time.  In order to estimate realistic exposure times on LCO 1m telescopes for targets at these magnitudes, we use the following empirical function, which was derived from previous LCO 1m photometry. "
   ]
  },
  {
   "cell_type": "code",
   "execution_count": 198,
   "id": "14a816c2",
   "metadata": {},
   "outputs": [],
   "source": [
    "def ETC(magin):\n",
    "    \"\"\"\n",
    "    This function calculates the required exposure time\n",
    "    for a given iband magnitude (e.g. OGLE I which also\n",
    "    roughly matches SDSS i) based on a fit to the empiric\n",
    "    LCO photometry.  Adapted from code by Markus Hundertmark.\n",
    "    \"\"\"\n",
    "    \n",
    "    mag = np.zeros(len(magin))\n",
    "    mag[:] = magin\n",
    "    \n",
    "    # Cap the exposures at the bright end to minimise scintillation noise (min 5s)\n",
    "    idx = np.where(magin < 14.7)\n",
    "    mag[idx] = 14.7\n",
    "\n",
    "    lrms = 0.14075464 * mag * mag - 4.00137342 * mag + 24.17513298\n",
    "    snr = 1.0 / np.exp(lrms)\n",
    "\n",
    "    # target 4% -> snr 25\n",
    "    exptime = np.round((25. / snr)**2 * 300.,1)\n",
    "    \n",
    "    #Avoid exposures longer than 5min:\n",
    "    idx = np.where(exptime > 300.0)\n",
    "    exptime[idx] = 300.0\n",
    "\n",
    "    return  exptime"
   ]
  },
  {
   "cell_type": "markdown",
   "id": "d1beef04",
   "metadata": {},
   "source": [
    "In addition to the open-shutter time required during each visit to target, we need to account for telescope slew, instrument readout etc.  Based on the LCO instrumentation website (https://lco.global/observatory/instruments/), the overheads per frame for the LCO 1m Sinistro cameras is 28s.  So we add this to each exposure. "
   ]
  },
  {
   "cell_type": "code",
   "execution_count": 207,
   "id": "7e4762ee",
   "metadata": {},
   "outputs": [],
   "source": [
    "def estimate_obs_time(event_set, events_table, dataset, nobs_cut=False):\n",
    "    \n",
    "    lco_obs_time = []\n",
    "    lco_nvisits = []\n",
    "    \n",
    "    for ievent in event_set:\n",
    "        event_name = events_table[ievent]['EventID']\n",
    "        lco_lc = dataset[event_name]\n",
    "        \n",
    "        # Include only events that have been well studied\n",
    "        accept = True\n",
    "        if nobs_cut: \n",
    "            accept = False\n",
    "            if len(lco_lc) > 100:\n",
    "                accept = True\n",
    "        \n",
    "        if accept:\n",
    "            lco_nvisits.append(len(lco_lc))\n",
    "\n",
    "            # Calculate the exposure time per visit based on the target magnitude at the time, then \n",
    "            # add the instrumental overheads\n",
    "            if len(lco_lc) > 0:\n",
    "                lco_exposures = ETC(lco_lc[:,1])\n",
    "                lco_exposures += 28.0\n",
    "            else:\n",
    "                lco_exposures = np.zeros(1)\n",
    "\n",
    "            lco_obs_time.append(lco_exposures.sum())\n",
    "        \n",
    "    lco_nvisits = np.array(lco_nvisits)\n",
    "    lco_obs_time = np.array(lco_obs_time)/3600.0\n",
    "\n",
    "    return lco_nvisits, lco_obs_time\n"
   ]
  },
  {
   "cell_type": "code",
   "execution_count": 208,
   "id": "e7921419",
   "metadata": {},
   "outputs": [],
   "source": [
    "# Get the table indices of events in different categories. \n",
    "bh_events = np.where(events_table['tE'] > 100.0)[0]\n",
    "stellar_events = np.where(events_table['tE'] < 100.0)[0]"
   ]
  },
  {
   "cell_type": "code",
   "execution_count": 209,
   "id": "c0bd534e",
   "metadata": {},
   "outputs": [],
   "source": [
    "# Get indices of the events where observations were possible\n",
    "lco_data_count = []\n",
    "for ievent in range(0,len(events_table),1):\n",
    "    event_name = events_table[ievent]['EventID']\n",
    "    lco_lc = dataset[event_name]\n",
    "    lco_data_count.append(len(lco_lc))\n",
    "lco_data_count = np.array(lco_data_count)\n",
    "observed_events = np.where(lco_data_count > 10)[0]"
   ]
  },
  {
   "cell_type": "code",
   "execution_count": 210,
   "id": "c2874ad2",
   "metadata": {},
   "outputs": [],
   "source": [
    "# Get indices of observed events in different categories\n",
    "bh_events = list(set(bh_events).intersection(set(observed_events)))\n",
    "stellar_events = list(set(stellar_events).intersection(set(observed_events)))"
   ]
  },
  {
   "cell_type": "code",
   "execution_count": 214,
   "id": "88ef9ebe",
   "metadata": {},
   "outputs": [
    {
     "name": "stdout",
     "output_type": "stream",
     "text": [
      "Median number of LCO visits per event: 492.5 for 828 events\n",
      "Median total LCO exposure time per event: 23.728833333333334hrs\n",
      "Mean number of LCO visits per event: 3705.735294117647 for 828 events\n",
      "Mean total LCO exposure time per event: 196.31221793300654hrs\n"
     ]
    },
    {
     "data": {
      "image/png": "[encoded data removed]",
      "text/plain": [
       "<Figure size 640x480 with 2 Axes>"
      ]
     },
     "metadata": {},
     "output_type": "display_data"
    }
   ],
   "source": [
    "# Get the table indices of stellar events\n",
    "#stellar_events = np.where(events_table['tE'] < 100.0)[0]\n",
    "stellar_lenses = np.where(events_table['tE'] < 100.0)[0]\n",
    "single_lenses = np.where(events_table['binary_lens'] == 0)[0]\n",
    "single_stellar_lenses = list(set(stellar_lenses).intersection(set(single_lenses)))\n",
    "\n",
    "\n",
    "# Estimate the number of visits per target and observing time required:\n",
    "(lco_nvisits, lco_obs_time) = estimate_obs_time(single_stellar_lenses, events_table, dataset, nobs_cut=True)\n",
    "\n",
    "fig, axs = plt.subplots(1, 2)\n",
    "axs[0].hist(lco_nvisits, bins=np.arange(0, 1000 ,20))\n",
    "axs[0].set_title('N LCO visits per target')\n",
    "axs[0].set_xlabel('N visits')\n",
    "axs[0].set_ylabel('Count')\n",
    "#axs[0].set_xlim([0,1000])\n",
    "axs[1].hist(lco_obs_time, bins=np.arange(0, lco_obs_time.max(),1))\n",
    "axs[1].set_title('N LCO obs time')\n",
    "axs[1].set_xlabel('Time [hrs]')\n",
    "axs[1].set_ylabel('Count')\n",
    "axs[1].set_xlim([0,250])\n",
    "\n",
    "time_per_single_lens = np.median(lco_obs_time)\n",
    "avg_time_per_single_lens = lco_obs_time.mean()\n",
    "visits_per_single_lens = np.median(lco_nvisits)\n",
    "avg_visits_per_single_lens = lco_nvisits.mean()\n",
    "\n",
    "axs[0].plot([visits_per_single_lens,visits_per_single_lens],\n",
    "            [0,20], 'g-')\n",
    "axs[0].plot([avg_visits_per_single_lens,avg_visits_per_single_lens],\n",
    "            [0,20], 'r-')\n",
    "axs[1].plot([time_per_single_lens,time_per_single_lens],\n",
    "            [0,20], 'g-')\n",
    "axs[1].plot([avg_time_per_single_lens,avg_time_per_single_lens],\n",
    "            [0,20], 'r-')\n",
    "\n",
    "print('Median number of LCO visits per event: '+str(np.median(lco_nvisits))+' for '+str(len(single_stellar_lenses))+' events')\n",
    "print('Median total LCO exposure time per event: '+str(time_per_single_lens)+'hrs')\n",
    "\n",
    "print('Mean number of LCO visits per event: '+str(avg_visits_per_single_lens)+' for '+str(len(single_stellar_lenses))+' events')\n",
    "print('Mean total LCO exposure time per event: '+str(avg_time_per_single_lens)+'hrs')\n",
    "\n"
   ]
  },
  {
   "cell_type": "code",
   "execution_count": 216,
   "id": "82f9b240",
   "metadata": {},
   "outputs": [
    {
     "name": "stdout",
     "output_type": "stream",
     "text": [
      "Median number of LCO visits per event: 496.0 for 85 events\n",
      "Median total LCO exposure time per event: 26.810833333333335hrs\n",
      "Mean number of LCO visits per event: 471.35714285714283 for 85 events\n",
      "Mean total LCO exposure time per event: 26.445060515873017hrs\n"
     ]
    },
    {
     "data": {
      "image/png": "[encoded data removed]",
      "text/plain": [
       "<Figure size 640x480 with 2 Axes>"
      ]
     },
     "metadata": {},
     "output_type": "display_data"
    }
   ],
   "source": [
    "# Get the table indices of long-duration events\n",
    "bh_events = np.where(events_table['tE'] > 100.0)[0]\n",
    "\n",
    "# Estimate the number of visits per target and observing time required:\n",
    "(lco_nvisits_bh, lco_obs_time_bh) = estimate_obs_time(bh_events, events_table, dataset, nobs_cut=True)\n",
    "\n",
    "fig, axs = plt.subplots(1, 2)\n",
    "axs[0].hist(lco_nvisits_bh)\n",
    "axs[0].set_title('N LCO visits per target')\n",
    "axs[0].set_xlabel('N visits')\n",
    "axs[0].set_ylabel('Count')\n",
    "#axs[0].set_xlim([0,1000])\n",
    "axs[1].hist(lco_obs_time_bh)\n",
    "axs[1].set_title('N LCO obs time')\n",
    "axs[1].set_xlabel('Time [hrs]')\n",
    "axs[1].set_ylabel('Count')\n",
    "\n",
    "time_per_bh_lens = np.median(lco_obs_time_bh)\n",
    "avg_time_per_bh_lens = lco_obs_time_bh.mean()\n",
    "visits_per_bh_lens = np.median(lco_nvisits_bh)\n",
    "avg_visits_per_bh_lens = lco_nvisits_bh.mean()\n",
    "\n",
    "axs[0].plot([visits_per_bh_lens,visits_per_bh_lens],\n",
    "            [0,25], 'g-')\n",
    "axs[0].plot([avg_visits_per_bh_lens,avg_visits_per_bh_lens],\n",
    "            [0,25], 'r-')\n",
    "axs[1].plot([time_per_bh_lens,time_per_bh_lens],\n",
    "            [0,25], 'g-')\n",
    "axs[1].plot([avg_time_per_bh_lens,avg_time_per_bh_lens],\n",
    "            [0,25], 'r-')\n",
    "\n",
    "print('Median number of LCO visits per event: '+str(visits_per_bh_lens)+' for '+str(len(bh_events))+' events')\n",
    "print('Median total LCO exposure time per event: '+str(time_per_bh_lens)+'hrs')\n",
    "\n",
    "print('Mean number of LCO visits per event: '+str(avg_visits_per_bh_lens)+' for '+str(len(bh_events))+' events')\n",
    "print('Mean total LCO exposure time per event: '+str(avg_time_per_bh_lens)+'hrs')\n",
    "\n"
   ]
  },
  {
   "cell_type": "code",
   "execution_count": 221,
   "id": "d05bea2b",
   "metadata": {},
   "outputs": [
    {
     "name": "stdout",
     "output_type": "stream",
     "text": [
      "Median number of LCO visits per event: 289.0 for 87 events\n",
      "Median total LCO exposure time per event: 21.078944444444442hrs\n",
      "Mean number of LCO visits per event: 1635.8484848484848 for 87 events\n",
      "Mean total LCO exposure time per event: 125.05659932659933hrs\n"
     ]
    },
    {
     "data": {
      "image/png": "[encoded data removed]",
      "text/plain": [
       "<Figure size 640x480 with 2 Axes>"
      ]
     },
     "metadata": {},
     "output_type": "display_data"
    }
   ],
   "source": [
    "# Get the table indices of binary-lens stellar events\n",
    "stellar_lenses = np.where(events_table['tE'] < 100.0)[0]\n",
    "binary_lenses = np.where(events_table['binary_lens'] == 1)[0]\n",
    "binary_stellar_lenses = list(set(stellar_lenses).intersection(set(binary_lenses)))\n",
    "\n",
    "# Estimate the number of visits per target and observing time required:\n",
    "(lco_nvisits_binary, lco_obs_time_binary) = estimate_obs_time(binary_stellar_lenses, events_table, dataset, nobs_cut=True)\n",
    "\n",
    "fig, axs = plt.subplots(1, 2)\n",
    "axs[0].hist(lco_nvisits_binary, bins=np.arange(0, 2000 ,20))\n",
    "axs[0].set_title('N LCO visits per target')\n",
    "axs[0].set_xlabel('N visits')\n",
    "axs[0].set_ylabel('Count')\n",
    "#axs[0].set_xlim([0,2000])\n",
    "axs[1].hist(lco_obs_time_binary, bins=np.arange(0, lco_obs_time_binary.max(),1))\n",
    "axs[1].set_title('N LCO obs time')\n",
    "axs[1].set_xlabel('Time [hrs]')\n",
    "axs[1].set_ylabel('Count')\n",
    "axs[1].set_xlim([0,250])\n",
    "\n",
    "time_per_binary_lens = np.median(lco_obs_time_binary)\n",
    "avg_time_per_binary_lens = lco_obs_time_binary.mean()\n",
    "visits_per_binary_lens = np.median(lco_nvisits_binary)\n",
    "avg_visits_per_binary_lens = lco_nvisits_binary.mean()\n",
    "\n",
    "axs[0].plot([visits_per_binary_lens,visits_per_binary_lens],\n",
    "            [0,20], 'g-')\n",
    "axs[0].plot([avg_visits_per_binary_lens,avg_visits_per_binary_lens],\n",
    "            [0,20], 'r-')\n",
    "axs[1].plot([time_per_binary_lens,time_per_binary_lens],\n",
    "            [0,20], 'g-')\n",
    "axs[1].plot([avg_time_per_binary_lens,avg_time_per_binary_lens],\n",
    "            [0,20], 'r-')\n",
    "\n",
    "print('Median number of LCO visits per event: '+str(visits_per_binary_lens)+' for '+str(len(binary_stellar_lenses))+' events')\n",
    "print('Median total LCO exposure time per event: '+str(time_per_binary_lens)+'hrs')\n",
    "\n",
    "print('Mean number of LCO visits per event: '+str(avg_visits_per_binary_lens)+' for '+str(len(binary_stellar_lenses))+' events')\n",
    "print('Mean total LCO exposure time per event: '+str(avg_time_per_binary_lens)+'hrs')\n",
    "\n"
   ]
  },
  {
   "cell_type": "code",
   "execution_count": 173,
   "id": "ae3dfe2e",
   "metadata": {},
   "outputs": [
    {
     "name": "stdout",
     "output_type": "stream",
     "text": [
      "The expected sample of 18 long-duration events is therefore estimated to required a total of 328.0hrs\n",
      "The expected sample of 21 stellar events is therefore estimated to required a total of 379.0hrs\n",
      "The expected sample of 6 planetary events is therefore estimated to required a total of 108.0hrs\n"
     ]
    }
   ],
   "source": [
    "total_time_bh_events = n_bh * time_per_bh_event\n",
    "print('The expected sample of '+str(n_bh)+' long-duration events is therefore estimated to required a total of '+str(round(total_time_bh_events,0))+'hrs')\n",
    "\n",
    "total_time_stellar_events = n_binary * time_per_stellar_event\n",
    "print('The expected sample of '+str(n_binary)+' stellar events is therefore estimated to required a total of '+str(round(total_time_stellar_events,0))+'hrs')\n",
    "\n",
    "total_time_planet_events = n_planet * time_per_stellar_event\n",
    "print('The expected sample of '+str(n_planet)+' planetary events is therefore estimated to required a total of '+str(round(total_time_planet_events,0))+'hrs')\n",
    "\n"
   ]
  },
  {
   "cell_type": "markdown",
   "id": "da2f873b",
   "metadata": {},
   "source": [
    "All stellar and planetary binary lens events are allocated an additional 12hrs of high-cadence (every 15min) observations on top of the regular monitoring."
   ]
  },
  {
   "cell_type": "code",
   "execution_count": 174,
   "id": "1ef17eed",
   "metadata": {},
   "outputs": [
    {
     "name": "stdout",
     "output_type": "stream",
     "text": [
      "The 27 binary events are estimated to require an additional 324.0hrs\n"
     ]
    }
   ],
   "source": [
    "add_time_binary_events = (n_binary + n_planet) * 12.0\n",
    "print('The '+str(n_binary + n_planet)+' binary events are estimated to require an additional '+str(round(add_time_binary_events,0))+'hrs')\n",
    "\n"
   ]
  },
  {
   "cell_type": "code",
   "execution_count": 175,
   "id": "51968f83",
   "metadata": {},
   "outputs": [
    {
     "name": "stdout",
     "output_type": "stream",
     "text": [
      "In total, LCO observations of all Bulge targets would be expected to require: 1138.7735000000002hrs\n",
      "Total time required for stellar remnant and planetary candidates only 435.8261666666667hrs\n"
     ]
    }
   ],
   "source": [
    "total_time = total_time_bh_events + total_time_stellar_events + total_time_planet_events + add_time_binary_events\n",
    "time_bh_planet = total_time_bh_events + total_time_planet_events\n",
    "print('In total, LCO observations of all Bulge targets would be expected to require: '+str(total_time)+'hrs')\n",
    "print('Total time required for stellar remnant and planetary candidates only '+str(time_bh_planet)+'hrs')"
   ]
  },
  {
   "cell_type": "markdown",
   "id": "3b8432af",
   "metadata": {},
   "source": [
    "## Observations from the 2m Network and Rapid Response Observations\n",
    "\n",
    "The 2m network offers the MusCAT multi-channel imagers and the FLOYDS spectrographs.  \n",
    "\n",
    "While only a few targets will be accessible to FLOYDS (r<15mag), the spectra are extremely useful to constrain the source star parameters for all categories of microlensing event.  In order to distinguish the source star spectrum from neighboring objects, spectra at multiple epochs with different lensing magnifications are required, though not at the high cadence required for photometry.  We propose to obtain 3 spectra of selected targets that reach magnitudes brighter than 15mag (where FLOYDS can deliver S/N=100 in 1hr of exposure).  \n",
    "\n",
    "We can estimate the potential number of FLOYDS targets using the simulated LCO lightcurve dataset, and identifing the fraction of targets likely to exceed 15mag.  "
   ]
  },
  {
   "cell_type": "code",
   "execution_count": 176,
   "id": "55e66e14",
   "metadata": {},
   "outputs": [],
   "source": [
    "sim_survey_lc_file = '../simulated_bulge_lightcurves.hdf5'\n",
    "survey_dataset = read_lco_sim_data(sim_survey_lc_file, 1000)"
   ]
  },
  {
   "cell_type": "code",
   "execution_count": 178,
   "id": "3435574b",
   "metadata": {},
   "outputs": [
    {
     "name": "stdout",
     "output_type": "stream",
     "text": [
      "Fraction of events accessible to FLOYDS = 0.121\n",
      "Number of full survey lightcurve 411\n"
     ]
    }
   ],
   "source": [
    "bright_events = []\n",
    "n_survey_lc = 0\n",
    "for ievent in range(0,len(survey_dataset),1):\n",
    "    event_name = events_table[ievent]['EventID']\n",
    "    \n",
    "    survey_lc = dataset[event_name]\n",
    "    if len(survey_lc) > 0:\n",
    "        n_survey_lc += 1\n",
    "        idx = np.where(survey_lc[:,1] < 15.0)[0]\n",
    "        if len(idx) > 0:\n",
    "            bright_events.append(ievent)\n",
    "\n",
    "frac_bright_events = float(len(bright_events))/float(len(events_table))\n",
    "print('Fraction of events accessible to FLOYDS = '+str(frac_bright_events))\n",
    "print('Number of full survey lightcurve '+str(n_survey_lc))"
   ]
  },
  {
   "cell_type": "markdown",
   "id": "c4491d3e",
   "metadata": {},
   "source": [
    "Since there is a FLOYDS spectrograph in both hemispheres, the 2m network can observe any target while it is visible to our target surveys.  Of the (8 stellar + 2 planetary + 8 BH) = 18 Bulge targets we expect per year we expect to be able to observe ~ 2 with FLOYDS.  \n",
    "\n",
    "Each FLOYDS observation will consist of a 1hr science exposure plus the LCO-recommended set of calibration exposures: 2x60s arc frames with the HgAr and Zn lamps for wavelength calibration and 2x70s flat field exposures with the Tungsten-Halogen + Xenon lamp, since we will use the 1.2\" slit due to the crowding in this field.  Calibration frames will be requested both before and after each science spectrum.  \n",
    "\n",
    "Following the overhead calculation recommended on the FLOYDS website for a 1hr science spectrum:\n",
    "Initial setup and telescope slew is 120 s. \n",
    "Target acquisition is 90 s. \n",
    "Lamp flat exposures include an overhead of 60 s.\n",
    "Arc lamp exposures include an overhead of 100 s. \n",
    "All configuration changes (from flat to arc to science spectrum) require a 16 s software setup overhead. \n",
    "Readout time is 26 s. "
   ]
  },
  {
   "cell_type": "code",
   "execution_count": 179,
   "id": "171901f3",
   "metadata": {},
   "outputs": [],
   "source": [
    "# All times in s\n",
    "tel_slew = 120.0\n",
    "target_acquisition = 90.0\n",
    "lamp_exp_overhead = 60.0\n",
    "lamp_exp = 70.0\n",
    "arc_exp_overhead = 100.0\n",
    "arc_exp = 60.0\n",
    "software = 16.0\n",
    "readout = 26.0\n",
    "science_exp = 3600.0"
   ]
  },
  {
   "cell_type": "code",
   "execution_count": 180,
   "id": "4b7e366b",
   "metadata": {},
   "outputs": [
    {
     "name": "stdout",
     "output_type": "stream",
     "text": [
      "Time required per FLOYDS visit to 1 target = 76.66666666666667min\n"
     ]
    }
   ],
   "source": [
    "time_per_FLOYDS_visit = tel_slew + target_acquisition \\\n",
    "                    + lamp_exp_overhead + software + lamp_exp + readout \\\n",
    "                    + arc_exp_overhead + software + arc_exp + readout \\\n",
    "                    + software + science_exp + readout \\\n",
    "                    + lamp_exp_overhead + software + lamp_exp + readout \\\n",
    "                    + arc_exp_overhead + software + arc_exp + readout\n",
    "time_per_FLOYDS_visit /= 60.0\n",
    "\n",
    "print('Time required per FLOYDS visit to 1 target = '+str(time_per_FLOYDS_visit)+'min')"
   ]
  },
  {
   "cell_type": "markdown",
   "id": "575e2752",
   "metadata": {},
   "source": [
    "Taking 3 visits per FLOYDS target therefore requires a total request of (split 50:50 North/South):"
   ]
  },
  {
   "cell_type": "code",
   "execution_count": 181,
   "id": "30da0da1",
   "metadata": {},
   "outputs": [
    {
     "name": "stdout",
     "output_type": "stream",
     "text": [
      "Total time required on FLOYDS per year = 7.666666666666667hrs\n",
      "Total time = 23.0hrs\n"
     ]
    }
   ],
   "source": [
    "n_FLOYDS_targets = 2\n",
    "time_FLOYDS_year = n_FLOYDS_targets * time_per_FLOYDS_visit * 3.0\n",
    "total_FLOYDS_time = 3*time_FLOYDS_year\n",
    "time_FLOYDS_year /= 60.0\n",
    "total_FLOYDS_time /= 60.0\n",
    "\n",
    "print('Total time required on FLOYDS per year = '+str(time_FLOYDS_year)+'hrs')\n",
    "print('Total time = '+str(total_FLOYDS_time)+'hrs')"
   ]
  },
  {
   "cell_type": "markdown",
   "id": "624c92d1",
   "metadata": {},
   "source": [
    "The MuSCAT four-channel imagers are particularly important for binary lens events, as they can deliver high-cadence multi-color observations of caustic crossings and planetary anomalies, short-lived, sharp discontinuities in the lightcurves.  Planetary anomalies typically last a few hours.  The sharp discontinuities that mark the entrance and exits of caustic crossings are of similar timescale.  In both cases, it is extremely important to monitor their photometry continuously for that period in order to constrain the morphology of the lightcurve, which in turn constrains the models of the caustic structure and lens-source relative trajectory.  \n",
    "\n",
    "While almost all of the observations from this program can be made in queue-scheduled mode, the short timescale and transient nature of these features require rapid response time to ensure that we can observe as soon as they are detected by our real-time modeling system.  They also justify observing from every site in the network to ensure as continuous coverage as possible.  For this reason, we request the following time on MuSCAT and some 1m time is allocated in Rapid Response mode.\n",
    "\n",
    "Anomalies and caustic crossings are only seen in the stellar and planetary binary events we expect from the Bulge survey.  Adopting an average duration of 4hrs for a planetary anomaly and 6hrs per caustic entrance and exit (i.e. 12hrs per target), we request in Rapid Response mode:\n",
    "\n",
    "2 planetary candidates/year * 4hrs = 8hrs per year\n",
    "2x6hrs * 8 binary candidates/year = 96hrs per year\n",
    "Total = 104hrs per year \n",
    "\n",
    "For Bulge targets, FTS can observe up to 8hrs per night (UTC ~ 8-16hrs) while FTN can observe for up to ~ 4hrs (between UTC 6-10hrs).  Since these ranges overlap, their combined maximal visibility period is up to ~ 10hrs out of 24hr or a fraction of 0.42.  \n",
    "\n",
    "We therefore request 0.42x104hrs/yr on the 2m network = 43hrs/yr on the 2m MusCAT imagers, and the remainder (61hrs/yr) on the 1m network. "
   ]
  },
  {
   "cell_type": "code",
   "execution_count": 134,
   "id": "fd616894",
   "metadata": {},
   "outputs": [
    {
     "name": "stdout",
     "output_type": "stream",
     "text": [
      "MuSCAT time required for planetary targets per year = 3.36hrs\n",
      "Total MuSCAT time required for planetary targets = 10.08hrs\n"
     ]
    }
   ],
   "source": [
    "# Planetary candidates\n",
    "n_planet_targets = 2\n",
    "hrs_obs = 4.0\n",
    "vis_frac = 0.42\n",
    "muscat_hrs_per_year_planets = n_planet_targets * hrs_obs * vis_frac\n",
    "muscat_total_hrs_planets = 3.0 * muscat_hrs_per_year_planets\n",
    "print('MuSCAT time required for planetary targets per year = '+str(muscat_hrs_per_year_planets)+'hrs')\n",
    "print('Total MuSCAT time required for planetary targets = '+str(muscat_total_hrs_planets)+'hrs')"
   ]
  },
  {
   "cell_type": "code",
   "execution_count": 135,
   "id": "180dcc17",
   "metadata": {},
   "outputs": [
    {
     "name": "stdout",
     "output_type": "stream",
     "text": [
      "MuSCAT time required for stellar binary targets per year = 40.32hrs\n",
      "Total MuSCAT time required for stellar binary targets = 120.96000000000001hrs\n"
     ]
    }
   ],
   "source": [
    "# Stellar binary candidates\n",
    "n_stellar_targets = 8\n",
    "hrs_obs = 2*6.0\n",
    "vis_frac = 0.42\n",
    "muscat_hrs_per_year_stellar = n_stellar_targets * hrs_obs * vis_frac\n",
    "muscat_total_hrs_stellar = 3.0 * muscat_hrs_per_year_stellar\n",
    "print('MuSCAT time required for stellar binary targets per year = '+str(muscat_hrs_per_year_stellar)+'hrs')\n",
    "print('Total MuSCAT time required for stellar binary targets = '+str(muscat_total_hrs_stellar)+'hrs')"
   ]
  },
  {
   "cell_type": "code",
   "execution_count": null,
   "id": "9f62599d",
   "metadata": {},
   "outputs": [],
   "source": []
  }
 ],
 "metadata": {
  "kernelspec": {
   "display_name": "Python 3 (ipykernel)",
   "language": "python",
   "name": "python3"
  },
  "language_info": {
   "codemirror_mode": {
    "name": "ipython",
    "version": 3
   },
   "file_extension": ".py",
   "mimetype": "text/x-python",
   "name": "python",
   "nbconvert_exporter": "python",
   "pygments_lexer": "ipython3",
   "version": "3.9.5"
  }
 },
 "nbformat": 4,
 "nbformat_minor": 5
}
