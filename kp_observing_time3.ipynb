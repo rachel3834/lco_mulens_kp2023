{
 "cells": [
  {
   "cell_type": "markdown",
   "id": "b993eec4",
   "metadata": {},
   "source": [
    "# Estimate Time Request for Key Project Proposal\n",
    "\n",
    "This notebook summarizes the results of simulating the proposed follow-up strategy for targets from the different surveys, and computes the overal total observing time requested on LCO facilities. \n",
    "\n",
    "For details of the calculations of total numbers of targets selected from each survey, and the corresponding observing time calculations, please see notebooks:\n",
    "* ./gaia/estimated_number_gaia_events2.ipynb\n",
    "* ./ztf/estimated_number_ztf_events2.ipynb\n",
    "* ./ogle/estimated_number_bulge_events2.ipynb"
   ]
  },
  {
   "cell_type": "markdown",
   "id": "5e7c44a8",
   "metadata": {},
   "source": [
    "## Summary of time for each element of observations\n",
    "\n",
    "Here we summarize the findings of the above notebooks, in terms of the expected numbers of targets and the observing time required to complete the proposed strategy on each instrument class, as required by the proposal.  \n",
    "\n",
    "Note that there may be slight differences in the total time estimated, as the previous notebooks allowed decimal numbers of targets whereas here we require integers. "
   ]
  },
  {
   "cell_type": "code",
   "execution_count": 1,
   "id": "11f16374",
   "metadata": {},
   "outputs": [],
   "source": [
    "import numpy as np"
   ]
  },
  {
   "cell_type": "code",
   "execution_count": 223,
   "id": "fdc7379a",
   "metadata": {},
   "outputs": [],
   "source": [
    "class TargetSet:\n",
    "    def __init__(self):\n",
    "        self.survey = None\n",
    "        self.survey_years = []\n",
    "        self.survey_semesters = {2023: ['B'], \n",
    "                                 2024: ['A', 'B'],\n",
    "                                 2025: ['A', 'B'],\n",
    "                                 2026: ['A']}\n",
    "        self.semester_fraction = []\n",
    "        self.n_planet_events_per_year = 0\n",
    "        self.n_stellar_events_per_year = 0\n",
    "        self.n_bh_events_per_year = 0\n",
    "        \n",
    "        self.sinistro_time_per_planet = 0\n",
    "        self.sinistro_time_per_star = 0\n",
    "        self.sinistro_time_per_bh = 0\n",
    "        \n",
    "        self.floyds_frac = 0.0\n",
    "        self.floyds_time_per_target = 3.83 # hrs\n",
    "        \n",
    "        self.time_per_caustic = 6.0*2.0 # hrs, with two caustic crossings per event\n",
    "        self.time_per_anomaly = 4.0 # hrs\n",
    "        self.vis_fraction = 0.0\n",
    "    \n",
    "    def calc_total_n_events(self):\n",
    "        \"\"\"Calculate the total number of events over the lifetime of the survey operations\"\"\"\n",
    "        self.n_planet_events = 0\n",
    "        self.n_stellar_events = 0\n",
    "        self.n_bh_events = 0 \n",
    "        \n",
    "        for i,year in enumerate(self.survey_semesters.keys()):\n",
    "            if len(self.survey_semesters[year]) == 2:\n",
    "                self.n_planet_events += self.n_planet_events_per_year\n",
    "                self.n_stellar_events += self.n_stellar_events_per_year\n",
    "                self.n_bh_events += self.n_bh_events_per_year\n",
    "                \n",
    "            elif len(self.survey_semesters[year]) == 1:\n",
    "                if self.survey_semesters[year][0] == 'A':\n",
    "                    self.n_planet_events += self.n_planet_events_per_year * self.semester_fraction[1]\n",
    "                    self.n_stellar_events += self.n_stellar_events_per_year * self.semester_fraction[1]\n",
    "                    self.n_bh_events += self.n_bh_events_per_year * self.semester_fraction[1]\n",
    "                else:\n",
    "                    self.n_planet_events += self.n_planet_events_per_year * self.semester_fraction[0]\n",
    "                    self.n_stellar_events += self.n_stellar_events_per_year * self.semester_fraction[0]\n",
    "                    self.n_bh_events += self.n_bh_events_per_year * self.semester_fraction[0]\n",
    "                \n",
    "        print('Expect ~'+str(self.n_planet_events_per_year)+' planetary events per year, and '+str(self.n_planet_events)+' over the remaining survey lifetime')\n",
    "        print('Expect ~'+str(self.n_stellar_events_per_year)+' stellar events per year, and '+str(self.n_stellar_events)+' over the remaining survey lifetime')\n",
    "        print('Expect ~'+str(self.n_bh_events_per_year)+' stellar remnant events per year, and '+str(self.n_bh_events)+' over the remaining survey lifetime')\n",
    "      \n",
    "    def calc_sinistro_time(self):\n",
    "        \"\"\"Calculate the time required on the 1m/Sinistro network for different categories of events\"\"\"\n",
    "        \n",
    "        self.sinistro_time_planet_per_year = self.sinistro_time_per_planet * self.n_planet_events_per_year\n",
    "        self.sinistro_time_stellar_per_year = self.sinistro_time_per_star * self.n_stellar_events_per_year\n",
    "        self.sinistro_time_bh_per_year = self.sinistro_time_per_bh * self.n_bh_events_per_year\n",
    "        print('Time on 1m/Sinistro network required for planetary events per year = '+str(self.sinistro_time_planet_per_year)+'hrs')\n",
    "        print('Time on 1m/Sinistro network required for stellar events per year = '+str(self.sinistro_time_stellar_per_year)+'hrs')\n",
    "        print('Time on 1m/Sinistro network required for stellar remnant events per year = '+str(self.sinistro_time_bh_per_year)+'hrs')\n",
    "        \n",
    "        self.sinistro_time_planet = []\n",
    "        self.sinistro_time_stellar = []\n",
    "        self.sinistro_time_bh = []\n",
    "        self.sinistro_time = []\n",
    "        for i,year in enumerate(self.survey_years):\n",
    "            #self.sinistro_time_planet.append(self.sinistro_time_planet_per_year)\n",
    "            #self.sinistro_time_stellar.append(self.sinistro_time_stellar_per_year)\n",
    "            #self.sinistro_time_bh.append(self.sinistro_time_bh_per_year)\n",
    "            \n",
    "            time_year = self.sinistro_time_planet_per_year \\\n",
    "                        + self.sinistro_time_stellar_per_year \\\n",
    "                        + self.sinistro_time_bh_per_year\n",
    "            print('Total time on 1m/Sinistro in year '+str(year)+': '+str(time_year))\n",
    "            self.sinistro_time.append(time_year)\n",
    "        \n",
    "        (time_planet,time_stellar,time_bh,time_total) = self.calc_instrument_time_per_semester('1m/Sinistro',\n",
    "                                                                                    self.sinistro_time_planet_per_year, \n",
    "                                                                                    self.sinistro_time_stellar_per_year, \n",
    "                                                                                    self.sinistro_time_bh_per_year)\n",
    "        self.sinistro_time_planet = time_planet\n",
    "        self.sinistro_time_stellar = time_stellar\n",
    "        self.sinistro_time_bh = time_bh\n",
    "        self.sinistro_time = time_total\n",
    "        \n",
    "    def calc_instrument_time_per_semester(self,inst_name,inst_time_planet_per_year, \n",
    "                                          inst_time_stellar_per_year, inst_time_bh_per_year,\n",
    "                                          planets=True, stellar=True):\n",
    "        \n",
    "        inst_time_planet = []\n",
    "        inst_time_stellar = []\n",
    "        inst_time_bh = []\n",
    "        inst_time_total = []\n",
    "        for i,year in enumerate(self.survey_semesters.keys()):\n",
    "            for s in self.survey_semesters[year]:\n",
    "                if s == 'A':\n",
    "                    if planets:\n",
    "                        inst_time_planet.append(inst_time_planet_per_year*self.semester_fraction[1])\n",
    "                    else:\n",
    "                        inst_time_planet.append(0.0)\n",
    "                    if stellar:\n",
    "                        inst_time_stellar.append(inst_time_stellar_per_year*self.semester_fraction[1])\n",
    "                    else:\n",
    "                        inst_time_stellar.append(0.0)\n",
    "                    inst_time_bh.append(inst_time_bh_per_year*self.semester_fraction[1])\n",
    "                else:\n",
    "                    if planets:\n",
    "                        inst_time_planet.append(inst_time_planet_per_year*self.semester_fraction[0])\n",
    "                    else:\n",
    "                        inst_time_planet.append(0.0)\n",
    "                    if stellar:\n",
    "                        inst_time_stellar.append(inst_time_stellar_per_year*self.semester_fraction[0])\n",
    "                    else:\n",
    "                        inst_time_stellar.append(0.0)\n",
    "                    inst_time_bh.append(inst_time_bh_per_year*self.semester_fraction[0])\n",
    "                \n",
    "                time_semester = inst_time_planet[-1]+inst_time_stellar[-1]+inst_time_bh[-1]\n",
    "                inst_time_total.append(time_semester)\n",
    "                print('Time on '+inst_name+' in semester '+str(year)+s+': '+str(time_semester))\n",
    "\n",
    " #           if len(self.survey_semesters[year]) == 2:\n",
    " #               if planets:\n",
    " #                   inst_time_planet.append(inst_time_planet_per_year)\n",
    " #                   inst_time_planet.append(inst_time_planet_per_year)\n",
    " #               else:\n",
    " ##                   inst_time_planet.append(0.0)\n",
    "  #                  inst_time_planet.append(0.0)\n",
    "  #              if stellar:\n",
    "  #                  inst_time_stellar.append(inst_time_stellar_per_year)\n",
    "  #                  inst_time_stellar.append(inst_time_stellar_per_year)\n",
    "  #              else:\n",
    "  #                  inst_time_stellar.append(0.0)\n",
    "  #                  inst_time_stellar.append(0.0)\n",
    "  #              inst_time_bh.append(inst_time_bh_per_year)\n",
    "  #              inst_time_bh.append(inst_time_bh_per_year)\n",
    "                \n",
    "  #              time_semester = inst_time_planet[-1]+inst_time_stellar[-1]+inst_time_bh[-1]\n",
    "  #              inst_time_total.append(time_semester)\n",
    "  #              print('Time on '+inst_name+' in semesters '+str(year)+'A+B: '+str(time_semester))\n",
    "            \n",
    "   #         elif len(self.survey_semesters[year]) == 1:\n",
    "   #             if self.survey_semesters[year][0] == 'A':\n",
    "   #                 if planets:\n",
    "   #                     inst_time_planet.append(inst_time_planet_per_year*self.semester_fraction[1])\n",
    "   #                 else:\n",
    "   #                     inst_time_planet.append(0.0)\n",
    "   #                 if stellar:\n",
    "   #                     inst_time_stellar.append(inst_time_stellar_per_year*self.semester_fraction[1])\n",
    "   #                 else:\n",
    "   #                     inst_time_stellar.append(0.0)\n",
    "    #                inst_time_bh.append(inst_time_bh_per_year*self.semester_fraction[1])\n",
    "    #            else:\n",
    "    #                if planets:\n",
    "   #                     inst_time_planet.append(inst_time_planet_per_year*self.semester_fraction[0])\n",
    "   #                 else:\n",
    "   #                     inst_time_planet.append(0.0)\n",
    "   #                 if stellar:\n",
    "   #                     inst_time_stellar.append(inst_time_stellar_per_year*self.semester_fraction[0])\n",
    "   #                 else:\n",
    "   #                     inst_time_stellar.append(0.0)\n",
    "   #                 inst_time_bh.append(inst_time_bh_per_year*self.semester_fraction[0])\n",
    "                \n",
    "   #             time_semester = inst_time_planet[-1]+inst_time_stellar[-1]+inst_time_bh[-1]\n",
    "   #             inst_time_total.append(time_semester)\n",
    "   #             print('Time on '+inst_name+' in semester '+str(year)+self.survey_semesters[year][0]+': '+str(time_semester))\n",
    "\n",
    "        return inst_time_planet, inst_time_stellar, inst_time_bh, inst_time_total\n",
    "                \n",
    "    def calc_floyds_time(self, planets=True, stellar=True):\n",
    "        \"\"\"Calculate the time required for 2m/FLOYDS spectroscopy\"\"\"\n",
    "        \n",
    "        self.floyds_bh_events_per_year = int(round(self.floyds_frac*self.n_bh_events_per_year,0))\n",
    "        print('Number of stellar remnant events bright enough for FLOYDS per year = '+str(self.floyds_bh_events_per_year))\n",
    "        self.floyds_time_bh_per_year = int(round((self.floyds_bh_events_per_year * self.floyds_time_per_target),0))\n",
    "        print('Time on 2m/FLOYDS network required for stellar remnant events per year = '+str(self.floyds_time_bh_per_year)+'hrs')\n",
    "\n",
    "        if planets:\n",
    "            self.floyds_planet_events_per_year = int(round(self.floyds_frac*self.n_planet_events_per_year,0))\n",
    "            print('Number of planetary events bright enough for FLOYDS per year = '+str(self.floyds_planet_events_per_year))\n",
    "            \n",
    "            self.floyds_time_planet_per_year = int(round((self.floyds_planet_events_per_year * self.floyds_time_per_target),0))\n",
    "            print('Time on 2m/FLOYDS network required for planetary events per year = '+str(self.floyds_time_planet_per_year)+'hrs')\n",
    "        else:\n",
    "            self.floyds_time_planet_per_year = 0\n",
    "            \n",
    "        if stellar:\n",
    "            self.floyds_stellar_events_per_year = int(round(self.floyds_frac*self.n_stellar_events_per_year,0))\n",
    "            print('Number of stellar events bright enough for FLOYDS per year = '+str(self.floyds_stellar_events_per_year))\n",
    "        \n",
    "            self.floyds_time_stellar_per_year = int(round((self.floyds_stellar_events_per_year * self.floyds_time_per_target),0))\n",
    "            print('Time on 2m/FLOYDS network required for stellar events per year = '+str(self.floyds_time_stellar_per_year)+'hrs')\n",
    "        else:\n",
    "            self.floyds_time_stellar_per_year = 0\n",
    "            \n",
    "        self.floyds_time_planet = []\n",
    "        self.floyds_time_stellar = []\n",
    "        self.floyds_time_bh = []\n",
    "        self.floyds_time = []\n",
    "        for i,year in enumerate(self.survey_years):\n",
    "#            if planets:\n",
    "#                self.floyds_time_planet.append(self.floyds_time_planet_per_year)\n",
    "#            else:\n",
    "#                self.floyds_time_planet.append(0.0)\n",
    "            \n",
    "#            if stellar:\n",
    "#                self.floyds_time_stellar.append(self.floyds_time_stellar_per_year)\n",
    "#            else:\n",
    "#                self.floyds_time_stellar.append(0.0)\n",
    "                                                \n",
    "#            self.floyds_time_bh.append(self.floyds_time_bh_per_year)\n",
    "            \n",
    "            time_year = self.floyds_time_bh_per_year\n",
    "            if planets:\n",
    "                time_year += self.floyds_time_planet_per_year\n",
    "            if stellar:\n",
    "                time_year += self.floyds_time_stellar_per_year\n",
    "                \n",
    "            self.floyds_time.append(time_year)\n",
    "            print('Total time on 2m/FLOYDS in year '+str(year)+': '+str(time_year))\n",
    "\n",
    "        (time_planet,time_stellar,time_bh,time_total) = self.calc_instrument_time_per_semester('2m/FLOYDS',\n",
    "                                                                                    self.floyds_time_planet_per_year, \n",
    "                                                                                    self.floyds_time_stellar_per_year, \n",
    "                                                                                    self.floyds_time_bh_per_year,\n",
    "                                                                                    planets=planets,\n",
    "                                                                                    stellar=stellar)\n",
    "        self.floyds_time_planet = time_planet\n",
    "        self.floyds_time_stellar = time_stellar\n",
    "        self.floyds_time_bh = time_bh\n",
    "        self.floyds_time = time_total\n",
    "\n",
    "    def calc_2m_imagers_time(self, planets=True, stellar=True):\n",
    "        \"\"\"Estimate of time required in hours on the 2m/MusCAT or 2m/Spectral network to \n",
    "        observe caustic crossings for stellar & planetary binary events in RAPID RESPONSE MODE\"\"\"\n",
    "\n",
    "        self.time_rr_stellar_events = []\n",
    "        self.time_rr_planet_events = []\n",
    "        self.time_2m_imagers = []\n",
    "        for i,year in enumerate(self.survey_years):\n",
    "            time_year = 0.0\n",
    "            if stellar:\n",
    "                n_stellar_per_year = int(round((self.n_stellar_events_per_year * self.vis_fraction),0))\n",
    "                time_stellar_year = n_stellar_per_year * self.time_per_caustic\n",
    "                self.time_rr_stellar_events.append(time_stellar_year)\n",
    "                time_year += time_stellar_year\n",
    "                print('Time on 2m/imagers for '+str(n_stellar_per_year)+' stellar events in year '+str(year)+': '+str(time_stellar_year))\n",
    "            else:\n",
    "                self.time_rr_stellar_events.append(0.0)\n",
    "            \n",
    "            if planets:\n",
    "                n_planet_per_year = int(round((self.n_planet_events_per_year * self.vis_fraction),0))\n",
    "                time_planet_year = n_planet_per_year * self.time_per_caustic\n",
    "                self.time_rr_planet_events.append(time_planet_year)\n",
    "                time_year += time_planet_year\n",
    "                print('Time on 2m/imagers for '+str(n_planet_per_year)+' planetary events in year '+str(year)+': '+str(time_planet_year))\n",
    "            else:\n",
    "                self.time_rr_planet_events.append(0.0)\n",
    "                \n",
    "            self.time_2m_imagers.append(time_year)\n",
    "            print('Total time on 2m/imagers in RR mode in year '+str(year)+': '+str(time_year))\n",
    "    \n",
    "        n_planet_per_year = int(round((self.n_planet_events_per_year * self.vis_fraction),0))\n",
    "        time_planet_year = n_planet_per_year * self.time_per_caustic\n",
    "        n_stellar_per_year = int(round((self.n_stellar_events_per_year * self.vis_fraction),0))\n",
    "        time_stellar_year = n_stellar_per_year * self.time_per_caustic\n",
    "        (time_planet,time_stellar,time_bh,time_total) = self.calc_instrument_time_per_semester('2m/imagers',\n",
    "                                                                                    time_planet_year, \n",
    "                                                                                    time_stellar_year, \n",
    "                                                                                    0,\n",
    "                                                                                    planets=planets,\n",
    "                                                                                    stellar=stellar)\n",
    "        self.time_rr_planet_events = time_planet\n",
    "        self.time_rr_stellar_events = time_stellar\n",
    "        self.time_2m_imagers = time_total\n",
    "    \n",
    "    def calc_1m_rr_time(self, planets=True, stellar=True):\n",
    "        \"\"\"Time required in Rapid Reponse mode from the 1m network is equivalent to the fraction of the time \n",
    "        dedicated to observing anomalies and caustic crossings that isn't already covered by the 2m. \n",
    "        \n",
    "        It is only calculated for the planetary and stellar binary events to be followed from each survey. \n",
    "        \n",
    "        \"\"\"\n",
    "        \n",
    "        # The fraction of the Rapid Response time from the 1m network\n",
    "        rr_fraction = 1.0 - self.vis_fraction\n",
    "        \n",
    "        self.time_rr_stellar_events_1m = []\n",
    "        self.time_rr_planet_events_1m = []\n",
    "        self.time_rr_1m_imagers = []\n",
    "        for i,year in enumerate(self.survey_years):\n",
    "            time_year = 0.0\n",
    "            if stellar:\n",
    "                n_stellar_per_year = int(round((self.n_stellar_events_per_year * rr_fraction),0))\n",
    "                time_stellar_year = n_stellar_per_year * self.time_per_caustic\n",
    "                self.time_rr_stellar_events_1m.append(time_stellar_year)\n",
    "                time_year += time_stellar_year\n",
    "                print('Rapid response time on 1m/imagers for '+str(n_stellar_per_year)+' stellar events in year '+str(year)+': '+str(time_stellar_year))\n",
    "            else:\n",
    "                self.time_rr_stellar_events_1m.append(0.0)\n",
    "            \n",
    "            if planets:\n",
    "                n_planet_per_year = int(round((self.n_planet_events_per_year * rr_fraction),0))\n",
    "                time_planet_year = n_planet_per_year * self.time_per_caustic\n",
    "                self.time_rr_planet_events_1m.append(time_planet_year)\n",
    "                time_year += time_planet_year\n",
    "                print('Rapid response time on 1m/imagers for '+str(n_planet_per_year)+' planetary events in year '+str(year)+': '+str(time_planet_year))\n",
    "            else:\n",
    "                self.time_rr_planet_events_1m.append(0.0)\n",
    "                \n",
    "            self.time_rr_1m_imagers.append(time_year)\n",
    "            print('Total time on 1m/imagers in RR mode in year '+str(year)+': '+str(time_year))\n",
    "        \n",
    "        \n",
    "        if stellar:\n",
    "            n_stellar_per_year = int(round((self.n_stellar_events_per_year * rr_fraction),0))\n",
    "            time_stellar_year = n_stellar_per_year * self.time_per_caustic\n",
    "        else:\n",
    "            time_stellar_year = 0.0\n",
    "        \n",
    "        if planets:\n",
    "            n_planet_per_year = int(round((self.n_planet_events_per_year * rr_fraction),0))\n",
    "            time_planet_year = n_planet_per_year * self.time_per_caustic\n",
    "        else:\n",
    "            time_planet_year = 0.0\n",
    "            \n",
    "        (time_planet,time_stellar,time_bh,time_total) = self.calc_instrument_time_per_semester('1m/imagers RR',\n",
    "                                                                                    time_planet_year, \n",
    "                                                                                    time_stellar_year, \n",
    "                                                                                    0,\n",
    "                                                                                    planets=planets,\n",
    "                                                                                    stellar=stellar)\n",
    "        self.time_rr_stellar_events_1m = time_planet\n",
    "        self.time_rr_planet_events_1m = time_stellar\n",
    "        self.time_rr_1m_imagers = time_total\n",
    "        \n",
    "    def calc_time_totals(self):\n",
    "        # Calculate time required over all survey semesters\n",
    "        self.sinistro_time_total = np.array(self.sinistro_time).sum()\n",
    "        self.floyds_time_total = np.array(self.floyds_time).sum()\n",
    "        self.time_2m_imagers_total = np.array(self.time_2m_imagers).sum()\n",
    "        \n",
    "        self.sinistro_1m_queue = np.zeros(len(self.sinistro_time))\n",
    "        s = -1\n",
    "        for i,year in enumerate(self.survey_semesters.keys()):\n",
    "            annual_semesters = self.survey_semesters[year]\n",
    "            \n",
    "            for sem in annual_semesters:\n",
    "                s += 1\n",
    "                self.sinistro_1m_queue[s] = self.sinistro_time[s] - self.time_rr_1m_imagers[s]\n",
    "                print('Semester '+str(year)+sem+' Sinistro total '+str(self.sinistro_time[i]))\n",
    "                print(' -> Sinistro queue mode '+str(self.sinistro_1m_queue[s]))\n",
    "                print(' -> Sinistro RR mode '+str(self.time_rr_1m_imagers[s]))\n",
    "        \n",
    "        # Calculate time required per semester in each survey year\n",
    "        # LCO Semesters run A: Feb 1 - July 31 and B: Aug 1 - Jan 31\n",
    "        # semester_fraction refers to the ratio of the annual target count that \n",
    "        # expected to be found in the [B, A] semesters. \n",
    "        # The Key Project proposals run from 2023B - 2026A inclusive\n",
    "        \n",
    "        print('\\n')\n",
    "        print('Sinistro time total over project: '+str(self.sinistro_time_total)+'hrs')\n",
    "        print('FLOYDS time total over project: '+str(self.floyds_time_total)+'hrs')\n",
    "        print('2m imagers time total over project: '+str(self.time_2m_imagers_total)+'hrs')\n",
    "        \n",
    "    def calc_time_per_semester(self, annual_time):\n",
    "        \n",
    "        key_project_semesters = {}\n",
    "        \n",
    "        for i,year in enumerate(self.survey_semesters.keys()):\n",
    "            annual_semesters = self.survey_semesters[year]\n",
    "            \n",
    "            Atime = annual_time[i] * self.semester_fraction[1]\n",
    "            Btime = annual_time[i] * self.semester_fraction[0]\n",
    "            \n",
    "            semester_time = {}\n",
    "            for s in annual_semesters:\n",
    "                if s == 'A':\n",
    "                    semester_time[s] = Atime\n",
    "                else:\n",
    "                    semester_time[s] = Btime\n",
    "                    \n",
    "            key_project_semesters[year] = semester_time\n",
    "            print('Year '+str(year)+': '+repr(key_project_semesters[year]))\n",
    "        \n",
    "        return key_project_semesters\n",
    "        "
   ]
  },
  {
   "cell_type": "markdown",
   "id": "a0518b75",
   "metadata": {},
   "source": [
    "### Gaia Targets\n",
    "\n",
    "The simulation considers LCO observations of stellar remnant and stellar (most likely single-lens) events detected by Gaia over its last two years of operation (2023-2025). \n",
    "\n",
    "Note that this does not preclude observing a stellar or planetary binary of interest if one is discovered, but for the purpose of the proposal I have aimed to be conservative. "
   ]
  },
  {
   "cell_type": "code",
   "execution_count": 224,
   "id": "818a4edd",
   "metadata": {},
   "outputs": [],
   "source": [
    "gaia_targets = TargetSet()"
   ]
  },
  {
   "cell_type": "code",
   "execution_count": 225,
   "id": "fc126213",
   "metadata": {},
   "outputs": [
    {
     "name": "stdout",
     "output_type": "stream",
     "text": [
      "Expect ~9 planetary events per year, and 18.0 over the remaining survey lifetime\n",
      "Expect ~83 stellar events per year, and 166.0 over the remaining survey lifetime\n",
      "Expect ~7 stellar remnant events per year, and 14.0 over the remaining survey lifetime\n"
     ]
    }
   ],
   "source": [
    "# Note the 'planets' category here is used to refer to any binary event, since Gaia binaries are likely to be outside\n",
    "# the Bulge and therefore high priority, while the stellar category here refers to single-lens stellar mass lenses. \n",
    "# The 'planet' events per year are subtracted from the overall total number of events expected per year to avoid \n",
    "# double counting\n",
    "# The semester fraction refers to the division of targets per year into the A and B semesters, which for Gaia is 50:50\n",
    "gaia_targets.survey_years = [2023, 2024]\n",
    "gaia_targets.survey_semesters = {2023: ['B'], \n",
    "                                 2024: ['A', 'B'],\n",
    "                                 2025: ['A']}\n",
    "gaia_targets.semester_fraction = [0.5, 0.5]\n",
    "gaia_targets.n_planet_events_per_year = 9\n",
    "gaia_targets.n_stellar_events_per_year = 92 - gaia_targets.n_planet_events_per_year\n",
    "gaia_targets.n_bh_events_per_year = 7\n",
    "gaia_targets.calc_total_n_events()      \n"
   ]
  },
  {
   "cell_type": "code",
   "execution_count": 226,
   "id": "6648ce21",
   "metadata": {},
   "outputs": [
    {
     "name": "stdout",
     "output_type": "stream",
     "text": [
      "Time on 1m/Sinistro network required for planetary events per year = 180hrs\n",
      "Time on 1m/Sinistro network required for stellar events per year = 373.5hrs\n",
      "Time on 1m/Sinistro network required for stellar remnant events per year = 43.4hrs\n",
      "Total time on 1m/Sinistro in year 2023: 596.9\n",
      "Total time on 1m/Sinistro in year 2024: 596.9\n",
      "Time on 1m/Sinistro in semester 2023B: 298.45\n",
      "Time on 1m/Sinistro in semester 2024A: 298.45\n",
      "Time on 1m/Sinistro in semester 2024B: 298.45\n",
      "Time on 1m/Sinistro in semester 2025A: 298.45\n"
     ]
    }
   ],
   "source": [
    "# Estimates of time required in hours on the 1m/Sinistro network to observe the different categories of events\n",
    "gaia_targets.sinistro_time_per_planet = 8+12\n",
    "gaia_targets.sinistro_time_per_star = 4.5\n",
    "gaia_targets.sinistro_time_per_bh = 6.2\n",
    "gaia_targets.calc_sinistro_time()\n"
   ]
  },
  {
   "cell_type": "code",
   "execution_count": 227,
   "id": "ea8ff838",
   "metadata": {},
   "outputs": [
    {
     "name": "stdout",
     "output_type": "stream",
     "text": [
      "Number of stellar remnant events bright enough for FLOYDS per year = 7\n",
      "Time on 2m/FLOYDS network required for stellar remnant events per year = 27hrs\n",
      "Number of planetary events bright enough for FLOYDS per year = 9\n",
      "Time on 2m/FLOYDS network required for planetary events per year = 34hrs\n",
      "Total time on 2m/FLOYDS in year 2023: 61\n",
      "Total time on 2m/FLOYDS in year 2024: 61\n",
      "Time on 2m/FLOYDS in semester 2023B: 30.5\n",
      "Time on 2m/FLOYDS in semester 2024A: 30.5\n",
      "Time on 2m/FLOYDS in semester 2024B: 30.5\n",
      "Time on 2m/FLOYDS in semester 2025A: 30.5\n"
     ]
    }
   ],
   "source": [
    "# Estimates of time required in hours on the 2m/FLOYDS network to observe the different categories of events\n",
    "gaia_targets.floyds_frac = 0.994 # Fraction of events likely to be bright enough for FLOYDS\n",
    "gaia_targets.calc_floyds_time(stellar=False)\n"
   ]
  },
  {
   "cell_type": "code",
   "execution_count": 228,
   "id": "add864f9",
   "metadata": {},
   "outputs": [
    {
     "name": "stdout",
     "output_type": "stream",
     "text": [
      "Time on 2m/imagers for 3 planetary events in year 2023: 36.0\n",
      "Total time on 2m/imagers in RR mode in year 2023: 36.0\n",
      "Time on 2m/imagers for 3 planetary events in year 2024: 36.0\n",
      "Total time on 2m/imagers in RR mode in year 2024: 36.0\n",
      "Time on 2m/imagers in semester 2023B: 18.0\n",
      "Time on 2m/imagers in semester 2024A: 18.0\n",
      "Time on 2m/imagers in semester 2024B: 18.0\n",
      "Time on 2m/imagers in semester 2025A: 18.0\n"
     ]
    }
   ],
   "source": [
    "# Estimate of time required in hours on the 2m/MusCAT or 2m/Spectral network to \n",
    "# observe caustic crossings for stellar binary events in RAPID RESPONSE MODE\n",
    "# Note 'stellar' for this function refers to all single stellar events\n",
    "gaia_targets.vis_fraction = 8.0 / 24.0\n",
    "gaia_targets.calc_2m_imagers_time(stellar=False)\n",
    "\n"
   ]
  },
  {
   "cell_type": "code",
   "execution_count": 229,
   "id": "f9ebe31e",
   "metadata": {
    "scrolled": true
   },
   "outputs": [
    {
     "name": "stdout",
     "output_type": "stream",
     "text": [
      "Rapid response time on 1m/imagers for 6 planetary events in year 2023: 72.0\n",
      "Total time on 1m/imagers in RR mode in year 2023: 72.0\n",
      "Rapid response time on 1m/imagers for 6 planetary events in year 2024: 72.0\n",
      "Total time on 1m/imagers in RR mode in year 2024: 72.0\n",
      "Time on 1m/imagers RR in semester 2023B: 36.0\n",
      "Time on 1m/imagers RR in semester 2024A: 36.0\n",
      "Time on 1m/imagers RR in semester 2024B: 36.0\n",
      "Time on 1m/imagers RR in semester 2025A: 36.0\n"
     ]
    }
   ],
   "source": [
    "# Estimate the remaining Rapid Response time required from the 1m network\n",
    "gaia_targets.calc_1m_rr_time(stellar=False)"
   ]
  },
  {
   "cell_type": "code",
   "execution_count": 230,
   "id": "653234a6",
   "metadata": {},
   "outputs": [
    {
     "name": "stdout",
     "output_type": "stream",
     "text": [
      "Semester 2023B Sinistro total 298.45\n",
      " -> Sinistro queue mode 262.45\n",
      " -> Sinistro RR mode 36.0\n",
      "Semester 2024A Sinistro total 298.45\n",
      " -> Sinistro queue mode 262.45\n",
      " -> Sinistro RR mode 36.0\n",
      "Semester 2024B Sinistro total 298.45\n",
      " -> Sinistro queue mode 262.45\n",
      " -> Sinistro RR mode 36.0\n",
      "Semester 2025A Sinistro total 298.45\n",
      " -> Sinistro queue mode 262.45\n",
      " -> Sinistro RR mode 36.0\n",
      "\n",
      "\n",
      "Sinistro time total over project: 1193.8hrs\n",
      "FLOYDS time total over project: 122.0hrs\n",
      "2m imagers time total over project: 72.0hrs\n"
     ]
    }
   ],
   "source": [
    "gaia_targets.calc_time_totals()"
   ]
  },
  {
   "cell_type": "markdown",
   "id": "5a3871d4",
   "metadata": {},
   "source": [
    "### ZTF Targets\n",
    "\n",
    "Similarly to Gaia events, the simulation assumes that ZTF is most likely to detect stellar remnant and single-lens stellar events.  "
   ]
  },
  {
   "cell_type": "code",
   "execution_count": 231,
   "id": "e358dbd9",
   "metadata": {},
   "outputs": [],
   "source": [
    "ztf_targets = TargetSet()"
   ]
  },
  {
   "cell_type": "code",
   "execution_count": 233,
   "id": "1d71b443",
   "metadata": {},
   "outputs": [
    {
     "name": "stdout",
     "output_type": "stream",
     "text": [
      "Expect ~0.34 planetary events per year, and 1.02 over the remaining survey lifetime\n",
      "Expect ~14 stellar events per year, and 42.0 over the remaining survey lifetime\n",
      "Expect ~1 stellar remnant events per year, and 3.0 over the remaining survey lifetime\n"
     ]
    }
   ],
   "source": [
    "ztf_targets.survey_years = [2023, 2024, 2025]\n",
    "ztf_targets.survey_semesters = {2023: ['B'], \n",
    "                                 2024: ['A', 'B'],\n",
    "                                 2025: ['A', 'B'],\n",
    "                                 2026: ['A']}\n",
    "ztf_targets.semester_fraction = [0.5, 0.5]\n",
    "ztf_targets.n_planet_events_per_year = 0.34\n",
    "ztf_targets.n_stellar_events_per_year = 14\n",
    "ztf_targets.n_bh_events_per_year = 1\n",
    "ztf_targets.calc_total_n_events()"
   ]
  },
  {
   "cell_type": "code",
   "execution_count": 234,
   "id": "5b7ebbb7",
   "metadata": {},
   "outputs": [
    {
     "name": "stdout",
     "output_type": "stream",
     "text": [
      "Time on 1m/Sinistro network required for planetary events per year = 6.12hrs\n",
      "Time on 1m/Sinistro network required for stellar events per year = 58.800000000000004hrs\n",
      "Time on 1m/Sinistro network required for stellar remnant events per year = 9.2hrs\n",
      "Total time on 1m/Sinistro in year 2023: 74.12\n",
      "Total time on 1m/Sinistro in year 2024: 74.12\n",
      "Total time on 1m/Sinistro in year 2025: 74.12\n",
      "Time on 1m/Sinistro in semester 2023B: 37.06\n",
      "Time on 1m/Sinistro in semester 2024A: 37.06\n",
      "Time on 1m/Sinistro in semester 2024B: 37.06\n",
      "Time on 1m/Sinistro in semester 2025A: 37.06\n",
      "Time on 1m/Sinistro in semester 2025B: 37.06\n",
      "Time on 1m/Sinistro in semester 2026A: 37.06\n"
     ]
    }
   ],
   "source": [
    "# Estimates of time required in hours on the 1m/Sinistro network to observe the different categories of events\n",
    "ztf_targets.sinistro_time_per_planet = 6+12\n",
    "ztf_targets.sinistro_time_per_star = 4.2\n",
    "ztf_targets.sinistro_time_per_bh = 9.2\n",
    "ztf_targets.calc_sinistro_time()\n"
   ]
  },
  {
   "cell_type": "code",
   "execution_count": 235,
   "id": "2e29fed5",
   "metadata": {},
   "outputs": [
    {
     "name": "stdout",
     "output_type": "stream",
     "text": [
      "Number of stellar remnant events bright enough for FLOYDS per year = 1\n",
      "Time on 2m/FLOYDS network required for stellar remnant events per year = 4hrs\n",
      "Number of planetary events bright enough for FLOYDS per year = 0\n",
      "Time on 2m/FLOYDS network required for planetary events per year = 0hrs\n",
      "Number of stellar events bright enough for FLOYDS per year = 14\n",
      "Time on 2m/FLOYDS network required for stellar events per year = 54hrs\n",
      "Total time on 2m/FLOYDS in year 2023: 58\n",
      "Total time on 2m/FLOYDS in year 2024: 58\n",
      "Total time on 2m/FLOYDS in year 2025: 58\n",
      "Time on 2m/FLOYDS in semester 2023B: 29.0\n",
      "Time on 2m/FLOYDS in semester 2024A: 29.0\n",
      "Time on 2m/FLOYDS in semester 2024B: 29.0\n",
      "Time on 2m/FLOYDS in semester 2025A: 29.0\n",
      "Time on 2m/FLOYDS in semester 2025B: 29.0\n",
      "Time on 2m/FLOYDS in semester 2026A: 29.0\n"
     ]
    }
   ],
   "source": [
    "# Estimates of time required in hours on the 2m/FLOYDS network to observe the different categories of events\n",
    "ztf_targets.floyds_frac = 0.995 # Fraction of events likely to be bright enough for FLOYDS\n",
    "ztf_targets.calc_floyds_time()"
   ]
  },
  {
   "cell_type": "code",
   "execution_count": 236,
   "id": "8238b8cd",
   "metadata": {},
   "outputs": [
    {
     "name": "stdout",
     "output_type": "stream",
     "text": [
      "Time on 2m/imagers for 0 planetary events in year 2023: 0.0\n",
      "Total time on 2m/imagers in RR mode in year 2023: 0.0\n",
      "Time on 2m/imagers for 0 planetary events in year 2024: 0.0\n",
      "Total time on 2m/imagers in RR mode in year 2024: 0.0\n",
      "Time on 2m/imagers for 0 planetary events in year 2025: 0.0\n",
      "Total time on 2m/imagers in RR mode in year 2025: 0.0\n",
      "Time on 2m/imagers in semester 2023B: 0.0\n",
      "Time on 2m/imagers in semester 2024A: 0.0\n",
      "Time on 2m/imagers in semester 2024B: 0.0\n",
      "Time on 2m/imagers in semester 2025A: 0.0\n",
      "Time on 2m/imagers in semester 2025B: 0.0\n",
      "Time on 2m/imagers in semester 2026A: 0.0\n"
     ]
    }
   ],
   "source": [
    "# Estimate of time required in hours on the FTN 2m/MusCAT to \n",
    "# observe caustic crossings for stellar binary events in RAPID RESPONSE MODE\n",
    "ztf_targets.vis_fraction = 8.0 / 24.0\n",
    "ztf_targets.calc_2m_imagers_time(stellar=False)"
   ]
  },
  {
   "cell_type": "code",
   "execution_count": 237,
   "id": "7fc6e0f4",
   "metadata": {},
   "outputs": [
    {
     "name": "stdout",
     "output_type": "stream",
     "text": [
      "Rapid response time on 1m/imagers for 0 planetary events in year 2023: 0.0\n",
      "Total time on 1m/imagers in RR mode in year 2023: 0.0\n",
      "Rapid response time on 1m/imagers for 0 planetary events in year 2024: 0.0\n",
      "Total time on 1m/imagers in RR mode in year 2024: 0.0\n",
      "Rapid response time on 1m/imagers for 0 planetary events in year 2025: 0.0\n",
      "Total time on 1m/imagers in RR mode in year 2025: 0.0\n",
      "Time on 1m/imagers RR in semester 2023B: 0.0\n",
      "Time on 1m/imagers RR in semester 2024A: 0.0\n",
      "Time on 1m/imagers RR in semester 2024B: 0.0\n",
      "Time on 1m/imagers RR in semester 2025A: 0.0\n",
      "Time on 1m/imagers RR in semester 2025B: 0.0\n",
      "Time on 1m/imagers RR in semester 2026A: 0.0\n"
     ]
    }
   ],
   "source": [
    "# Estimate the remaining Rapid Response time required from the 1m network\n",
    "ztf_targets.calc_1m_rr_time(stellar=False)"
   ]
  },
  {
   "cell_type": "code",
   "execution_count": 238,
   "id": "0d159858",
   "metadata": {},
   "outputs": [
    {
     "name": "stdout",
     "output_type": "stream",
     "text": [
      "Semester 2023B Sinistro total 37.06\n",
      " -> Sinistro queue mode 37.06\n",
      " -> Sinistro RR mode 0.0\n",
      "Semester 2024A Sinistro total 37.06\n",
      " -> Sinistro queue mode 37.06\n",
      " -> Sinistro RR mode 0.0\n",
      "Semester 2024B Sinistro total 37.06\n",
      " -> Sinistro queue mode 37.06\n",
      " -> Sinistro RR mode 0.0\n",
      "Semester 2025A Sinistro total 37.06\n",
      " -> Sinistro queue mode 37.06\n",
      " -> Sinistro RR mode 0.0\n",
      "Semester 2025B Sinistro total 37.06\n",
      " -> Sinistro queue mode 37.06\n",
      " -> Sinistro RR mode 0.0\n",
      "Semester 2026A Sinistro total 37.06\n",
      " -> Sinistro queue mode 37.06\n",
      " -> Sinistro RR mode 0.0\n",
      "\n",
      "\n",
      "Sinistro time total over project: 222.36hrs\n",
      "FLOYDS time total over project: 174.0hrs\n",
      "2m imagers time total over project: 0.0hrs\n"
     ]
    }
   ],
   "source": [
    "ztf_targets.calc_time_totals()"
   ]
  },
  {
   "cell_type": "markdown",
   "id": "691066e5",
   "metadata": {},
   "source": [
    "### Bulge Targets from the extended survey region only\n",
    "\n",
    "The simulation considers only events from a rough annulus around the central Bulge, within the OGLE extended survey region but not including those fields covered by KMTNet at high cadence.  It is hard to justify time for follow-up observations within that high cadence zone. \n",
    "\n",
    "The Bulge simulation considers planetary and stellar binary events only and long-timescale (>100d) single-lens events. "
   ]
  },
  {
   "cell_type": "code",
   "execution_count": 240,
   "id": "f50424c2",
   "metadata": {},
   "outputs": [],
   "source": [
    "bulge_targets = TargetSet()"
   ]
  },
  {
   "cell_type": "code",
   "execution_count": 241,
   "id": "20469fa7",
   "metadata": {},
   "outputs": [
    {
     "name": "stdout",
     "output_type": "stream",
     "text": [
      "Expect ~9 planetary events per year, and 27.0 over the remaining survey lifetime\n",
      "Expect ~0 stellar events per year, and 0.0 over the remaining survey lifetime\n",
      "Expect ~6 stellar remnant events per year, and 18.0 over the remaining survey lifetime\n"
     ]
    }
   ],
   "source": [
    "bulge_targets.survey_years = [2023, 2024, 2025]\n",
    "bulge_targets.survey_semesters = {2023: ['B'], \n",
    "                                 2024: ['A', 'B'],\n",
    "                                 2025: ['A', 'B'],\n",
    "                                 2026: ['A']}\n",
    "# Bulge is observed 1 Feb to 30 Sept each year, so 6 out of 8 months are in the A semester\n",
    "bulge_targets.semester_fraction = [(2.0/8.0), (6.0/8.0)]\n",
    "bulge_targets.n_stellar_events_per_year = 0 # No single-lens stellar events will be followed\n",
    "bulge_targets.n_planet_events_per_year = 9 # Includes all binary events, planetary, BD, stellar companions\n",
    "bulge_targets.n_bh_events_per_year = 6\n",
    "bulge_targets.calc_total_n_events()\n"
   ]
  },
  {
   "cell_type": "code",
   "execution_count": 242,
   "id": "ad86c615",
   "metadata": {},
   "outputs": [
    {
     "name": "stdout",
     "output_type": "stream",
     "text": [
      "Time on 1m/Sinistro network required for planetary events per year = 189.9hrs\n",
      "Time on 1m/Sinistro network required for stellar events per year = 0hrs\n",
      "Time on 1m/Sinistro network required for stellar remnant events per year = 158.39999999999998hrs\n",
      "Total time on 1m/Sinistro in year 2023: 348.29999999999995\n",
      "Total time on 1m/Sinistro in year 2024: 348.29999999999995\n",
      "Total time on 1m/Sinistro in year 2025: 348.29999999999995\n",
      "Time on 1m/Sinistro in semester 2023B: 87.07499999999999\n",
      "Time on 1m/Sinistro in semester 2024A: 261.225\n",
      "Time on 1m/Sinistro in semester 2024B: 87.07499999999999\n",
      "Time on 1m/Sinistro in semester 2025A: 261.225\n",
      "Time on 1m/Sinistro in semester 2025B: 87.07499999999999\n",
      "Time on 1m/Sinistro in semester 2026A: 261.225\n"
     ]
    }
   ],
   "source": [
    "# Estimates of time required in hours on the 1m/Sinistro network to observe the different categories of events\n",
    "bulge_targets.sinistro_time_per_planet = 21.1\n",
    "#bulge_targets.sinistro_time_per_star = 18\n",
    "bulge_targets.sinistro_time_per_bh = 26.4\n",
    "bulge_targets.calc_sinistro_time()"
   ]
  },
  {
   "cell_type": "code",
   "execution_count": 243,
   "id": "d33b2206",
   "metadata": {},
   "outputs": [
    {
     "name": "stdout",
     "output_type": "stream",
     "text": [
      "Number of stellar remnant events bright enough for FLOYDS per year = 1\n",
      "Time on 2m/FLOYDS network required for stellar remnant events per year = 4hrs\n",
      "Number of planetary events bright enough for FLOYDS per year = 1\n",
      "Time on 2m/FLOYDS network required for planetary events per year = 4hrs\n",
      "Number of stellar events bright enough for FLOYDS per year = 0\n",
      "Time on 2m/FLOYDS network required for stellar events per year = 0hrs\n",
      "Total time on 2m/FLOYDS in year 2023: 8\n",
      "Total time on 2m/FLOYDS in year 2024: 8\n",
      "Total time on 2m/FLOYDS in year 2025: 8\n",
      "Time on 2m/FLOYDS in semester 2023B: 2.0\n",
      "Time on 2m/FLOYDS in semester 2024A: 6.0\n",
      "Time on 2m/FLOYDS in semester 2024B: 2.0\n",
      "Time on 2m/FLOYDS in semester 2025A: 6.0\n",
      "Time on 2m/FLOYDS in semester 2025B: 2.0\n",
      "Time on 2m/FLOYDS in semester 2026A: 6.0\n"
     ]
    }
   ],
   "source": [
    "# Estimates of time required in hours on the 2m/FLOYDS network to observe the different categories of events\n",
    "bulge_targets.floyds_frac = 0.121 # Fraction of events likely to be bright enough for FLOYDS\n",
    "bulge_targets.calc_floyds_time()"
   ]
  },
  {
   "cell_type": "code",
   "execution_count": 244,
   "id": "0942ea32",
   "metadata": {},
   "outputs": [
    {
     "name": "stdout",
     "output_type": "stream",
     "text": [
      "Time on 2m/imagers for 0 stellar events in year 2023: 0.0\n",
      "Time on 2m/imagers for 4 planetary events in year 2023: 48.0\n",
      "Total time on 2m/imagers in RR mode in year 2023: 48.0\n",
      "Time on 2m/imagers for 0 stellar events in year 2024: 0.0\n",
      "Time on 2m/imagers for 4 planetary events in year 2024: 48.0\n",
      "Total time on 2m/imagers in RR mode in year 2024: 48.0\n",
      "Time on 2m/imagers for 0 stellar events in year 2025: 0.0\n",
      "Time on 2m/imagers for 4 planetary events in year 2025: 48.0\n",
      "Total time on 2m/imagers in RR mode in year 2025: 48.0\n",
      "Time on 2m/imagers in semester 2023B: 12.0\n",
      "Time on 2m/imagers in semester 2024A: 36.0\n",
      "Time on 2m/imagers in semester 2024B: 12.0\n",
      "Time on 2m/imagers in semester 2025A: 36.0\n",
      "Time on 2m/imagers in semester 2025B: 12.0\n",
      "Time on 2m/imagers in semester 2026A: 36.0\n"
     ]
    }
   ],
   "source": [
    "# Estimate of time required in hours on the FTS 2m/Spectral or MusCAT to \n",
    "# observe caustic crossings for planetary and stellar binary events in RAPID RESPONSE MODE\n",
    "bulge_targets.vis_fraction = 0.42\n",
    "bulge_targets.calc_2m_imagers_time()\n"
   ]
  },
  {
   "cell_type": "code",
   "execution_count": 245,
   "id": "849ffbea",
   "metadata": {},
   "outputs": [
    {
     "name": "stdout",
     "output_type": "stream",
     "text": [
      "Rapid response time on 1m/imagers for 0 stellar events in year 2023: 0.0\n",
      "Rapid response time on 1m/imagers for 5 planetary events in year 2023: 60.0\n",
      "Total time on 1m/imagers in RR mode in year 2023: 60.0\n",
      "Rapid response time on 1m/imagers for 0 stellar events in year 2024: 0.0\n",
      "Rapid response time on 1m/imagers for 5 planetary events in year 2024: 60.0\n",
      "Total time on 1m/imagers in RR mode in year 2024: 60.0\n",
      "Rapid response time on 1m/imagers for 0 stellar events in year 2025: 0.0\n",
      "Rapid response time on 1m/imagers for 5 planetary events in year 2025: 60.0\n",
      "Total time on 1m/imagers in RR mode in year 2025: 60.0\n",
      "Time on 1m/imagers RR in semester 2023B: 15.0\n",
      "Time on 1m/imagers RR in semester 2024A: 45.0\n",
      "Time on 1m/imagers RR in semester 2024B: 15.0\n",
      "Time on 1m/imagers RR in semester 2025A: 45.0\n",
      "Time on 1m/imagers RR in semester 2025B: 15.0\n",
      "Time on 1m/imagers RR in semester 2026A: 45.0\n"
     ]
    }
   ],
   "source": [
    "# Estimate the remaining Rapid Response time required from the 1m network\n",
    "bulge_targets.calc_1m_rr_time()"
   ]
  },
  {
   "cell_type": "code",
   "execution_count": 246,
   "id": "6c882b76",
   "metadata": {},
   "outputs": [
    {
     "name": "stdout",
     "output_type": "stream",
     "text": [
      "Semester 2023B Sinistro total 87.07499999999999\n",
      " -> Sinistro queue mode 72.07499999999999\n",
      " -> Sinistro RR mode 15.0\n",
      "Semester 2024A Sinistro total 261.225\n",
      " -> Sinistro queue mode 216.22500000000002\n",
      " -> Sinistro RR mode 45.0\n",
      "Semester 2024B Sinistro total 261.225\n",
      " -> Sinistro queue mode 72.07499999999999\n",
      " -> Sinistro RR mode 15.0\n",
      "Semester 2025A Sinistro total 87.07499999999999\n",
      " -> Sinistro queue mode 216.22500000000002\n",
      " -> Sinistro RR mode 45.0\n",
      "Semester 2025B Sinistro total 87.07499999999999\n",
      " -> Sinistro queue mode 72.07499999999999\n",
      " -> Sinistro RR mode 15.0\n",
      "Semester 2026A Sinistro total 261.225\n",
      " -> Sinistro queue mode 216.22500000000002\n",
      " -> Sinistro RR mode 45.0\n",
      "\n",
      "\n",
      "Sinistro time total over project: 1044.9hrs\n",
      "FLOYDS time total over project: 24.0hrs\n",
      "2m imagers time total over project: 144.0hrs\n"
     ]
    }
   ],
   "source": [
    "bulge_targets.calc_time_totals()"
   ]
  },
  {
   "cell_type": "markdown",
   "id": "e6f236c0",
   "metadata": {},
   "source": [
    "## Maximal targets observed\n",
    "\n",
    "If all planned observations execute completely, we should characterize the following target set over the whole project lifetime.  \n",
    "\n",
    "Note that stellar remnant events are sufficiently long in timescale that Gaia and ZTF may both detect the same candidates.  For that reason, I've avoided double-counting them, though potentially this may be an under-estimate.  \n"
   ]
  },
  {
   "cell_type": "code",
   "execution_count": 247,
   "id": "f65e5c63",
   "metadata": {},
   "outputs": [
    {
     "name": "stdout",
     "output_type": "stream",
     "text": [
      "46.019999999999996 planetary events\n",
      "208.0 stellar binary events\n",
      "18.0 stellar remnant event candidates\n"
     ]
    }
   ],
   "source": [
    "total_planets = gaia_targets.n_planet_events + ztf_targets.n_planet_events + bulge_targets.n_planet_events\n",
    "total_stars = gaia_targets.n_stellar_events + ztf_targets.n_stellar_events + bulge_targets.n_stellar_events\n",
    "total_bh = max(gaia_targets.n_bh_events, ztf_targets.n_bh_events)\n",
    "total_bh = max(total_bh, bulge_targets.n_bh_events)\n",
    "\n",
    "print(str(total_planets)+' planetary events')\n",
    "print(str(total_stars)+' stellar binary events')\n",
    "print(str(total_bh)+' stellar remnant event candidates')\n"
   ]
  },
  {
   "cell_type": "markdown",
   "id": "cf5bd038",
   "metadata": {},
   "source": [
    "## Total Observing Time Required\n",
    "\n",
    "Various alternative strategies are considered here, as the total is determined by the full range of the targets we expect to study.   "
   ]
  },
  {
   "cell_type": "markdown",
   "id": "936fd38c",
   "metadata": {},
   "source": [
    "### Maximal Strategy\n",
    "\n",
    "Queue-mode photometry and spectroscopy of all observable stellar and stellar remnant lenses from Gaia, ZTF and the Bulge as well as planetary events from the extended survey region in the Bulge (outside the KMTNet high cadence zone).\n",
    "\n",
    "Rapid response observations on the 2m imagers including MusCAT for planetary anomalies and stellar caustic crossings."
   ]
  },
  {
   "cell_type": "code",
   "execution_count": 254,
   "id": "854d52c0",
   "metadata": {},
   "outputs": [
    {
     "name": "stdout",
     "output_type": "stream",
     "text": [
      "Time per instrument class per year:\n",
      "Semester 2023B 1m/Sinistro time = 423hrs\n",
      "-> Queue time = 372hrs\n",
      "-> Rapid response time = 51hrs\n",
      "-> 2m/FLOYDS time = 62hrs\n",
      "-> 2m/imagers time (RR mode) = 30hrs\n",
      "\n",
      "\n",
      "Semester 2024A 1m/Sinistro time = 597hrs\n",
      "-> Queue time = 516hrs\n",
      "-> Rapid response time = 81hrs\n",
      "-> 2m/FLOYDS time = 66hrs\n",
      "-> 2m/imagers time (RR mode) = 54hrs\n",
      "\n",
      "\n",
      "Semester 2024B 1m/Sinistro time = 423hrs\n",
      "-> Queue time = 372hrs\n",
      "-> Rapid response time = 51hrs\n",
      "-> 2m/FLOYDS time = 62hrs\n",
      "-> 2m/imagers time (RR mode) = 30hrs\n",
      "\n",
      "\n",
      "Semester 2025A 1m/Sinistro time = 597hrs\n",
      "-> Queue time = 516hrs\n",
      "-> Rapid response time = 81hrs\n",
      "-> 2m/FLOYDS time = 66hrs\n",
      "-> 2m/imagers time (RR mode) = 54hrs\n",
      "\n",
      "\n",
      "Semester 2025B 1m/Sinistro time = 124hrs\n",
      "-> Queue time = 109hrs\n",
      "-> Rapid response time = 15hrs\n",
      "-> 2m/FLOYDS time = 31hrs\n",
      "-> 2m/imagers time (RR mode) = 12hrs\n",
      "\n",
      "\n",
      "Semester 2026A 1m/Sinistro time = 298hrs\n",
      "-> Queue time = 253hrs\n",
      "-> Rapid response time = 45hrs\n",
      "-> 2m/FLOYDS time = 35hrs\n",
      "-> 2m/imagers time (RR mode) = 36hrs\n",
      "\n",
      "\n",
      "Time per instrument over project lifetime:\n",
      "1m/Sinistro: 2461hrs\n",
      "-> Queue mode: 2137hrs\n",
      "-> Rapid response mode: 324hrs\n",
      "2m/FLOYDS: 320hrs\n",
      "2m/imagers: 216hrs (Rapid Response mode)\n",
      "\n",
      "Overall project request = 2997hrs\n"
     ]
    }
   ],
   "source": [
    "print('Time per instrument class per year:')\n",
    "key_project_semesters = {2023: ['B'], \n",
    "                         2024: ['A', 'B'],\n",
    "                         2025: ['A', 'B'],\n",
    "                         2026: ['A']}\n",
    "\n",
    "sinistro_time = np.zeros(6)\n",
    "sinistro_queue = np.zeros(6)\n",
    "sinistro_rr = np.zeros(6)\n",
    "floyds_time = np.zeros(6)\n",
    "ft_imagers_time = np.zeros(6)\n",
    "\n",
    "s = -1\n",
    "for i,year in enumerate(key_project_semesters.keys()):\n",
    "    for semester in key_project_semesters[year]:\n",
    "        s += 1\n",
    "        for targets in [gaia_targets, ztf_targets, bulge_targets]:\n",
    "            #print(targets.survey_semesters)\n",
    "            if year in targets.survey_semesters.keys():\n",
    "                if semester in targets.survey_semesters[year]:\n",
    "                    sinistro_time[s] += targets.sinistro_time[s]\n",
    "                    sinistro_queue[s] += targets.sinistro_1m_queue[s]\n",
    "                    sinistro_rr[s] += targets.time_rr_1m_imagers[s]\n",
    "                    floyds_time[s] += targets.floyds_time[s]\n",
    "                    ft_imagers_time[s] += targets.time_2m_imagers[s]\n",
    "            \n",
    "        print('Semester '+str(year)+semester+' 1m/Sinistro time = '+str(int(round(sinistro_time[s],0)))+'hrs')\n",
    "        print('-> Queue time = '+str(int(round(sinistro_queue[s],0)))+'hrs')\n",
    "        print('-> Rapid response time = '+str(int(round(sinistro_rr[s],0)))+'hrs')\n",
    "        print('-> 2m/FLOYDS time = '+str(int(round(floyds_time[s],0)))+'hrs')\n",
    "        print('-> 2m/imagers time (RR mode) = '+str(int(round(ft_imagers_time[s],0)))+'hrs')\n",
    "        print('\\n')\n",
    "    \n",
    "print('Time per instrument over project lifetime:')\n",
    "sinistro_total = int(round(np.array(sinistro_time).sum(),0))\n",
    "sinistro_queue_total = int(round(sinistro_queue.sum(),0))\n",
    "sinistro_rr_total = int(round(sinistro_rr.sum(),0))\n",
    "floyds_total = int(round(np.array(floyds_time).sum(),0))\n",
    "ft_imagers_total = int(round(np.array(ft_imagers_time).sum(),0))\n",
    "project_total = sinistro_total + floyds_total + ft_imagers_total\n",
    "\n",
    "print('1m/Sinistro: '+str(sinistro_total)+'hrs')\n",
    "print('-> Queue mode: '+str(sinistro_queue_total)+'hrs')\n",
    "print('-> Rapid response mode: '+str(sinistro_rr_total)+'hrs')\n",
    "print('2m/FLOYDS: '+str(floyds_total)+'hrs')\n",
    "print('2m/imagers: '+str(ft_imagers_total)+'hrs (Rapid Response mode)\\n')\n",
    "\n",
    "print('Overall project request = '+str(project_total)+'hrs')"
   ]
  },
  {
   "cell_type": "markdown",
   "id": "0aaf294d",
   "metadata": {},
   "source": [
    "### Stellar remnant candidate observations only\n",
    "\n",
    "Queue-mode photometry of stellar remnant candidates from Gaia, ZTF and the Bulge using the 1m network, plus FLOYDS spectroscopy of those that reach bright enough peak magnitudes. \n",
    "\n",
    "No rapid response observations.  No 2m imaging observations. "
   ]
  },
  {
   "cell_type": "code",
   "execution_count": null,
   "id": "8bf5d556",
   "metadata": {},
   "outputs": [],
   "source": [
    "sinistro_time_per_year = gaia_targets.sinistro_time_bh_per_year \\\n",
    "                            + ztf_targets.sinistro_time_bh_per_year \\\n",
    "                            + bulge_targets.sinistro_time_bh_per_year\n",
    "sinistro_time_total = gaia_targets.sinistro_time_bh \\\n",
    "                            + ztf_targets.sinistro_time_bh \\\n",
    "                            + bulge_targets.sinistro_time_bh\n",
    "\n",
    "floyds_time_per_year = gaia_targets.floyds_time_bh_per_year \\\n",
    "                            + ztf_targets.floyds_time_bh_per_year \\\n",
    "                            + bulge_targets.floyds_time_bh_per_year\n",
    "floyds_time_total = gaia_targets.floyds_time_bh \\\n",
    "                            + ztf_targets.floyds_time_bh \\\n",
    "                            + bulge_targets.floyds_time_bh\n",
    "\n",
    "project_total = sinistro_time_total + floyds_time_total\n",
    "print('Time per instrument class per year:')\n",
    "print('1m/Sinistro: '+str(sinistro_time_per_year)+'hrs')\n",
    "print('2m/FLOYDS: '+str(floyds_time_per_year)+'hrs')\n",
    "\n",
    "print('Time per instrument over project lifetime:')\n",
    "print('1m/Sinistro: '+str(sinistro_time_total)+'hrs')\n",
    "print('2m/FLOYDS: '+str(floyds_time_total)+'hrs')\n",
    "\n",
    "print('Overall project request = '+str(project_total)+'hrs')"
   ]
  },
  {
   "cell_type": "markdown",
   "id": "32b88623",
   "metadata": {},
   "source": [
    "## Stellar remnant and planet candidate observations only\n",
    "\n",
    "Photometry of stellar remnant candidates from Gaia, ZTF and the Bulge using the 1m network. \n",
    "\n",
    "Photometry of planetary events in the Bulge extended survey region. \n",
    "\n",
    "FLOYDS spectroscopy of those that reach bright enough peak magnitudes.\n",
    "\n",
    "Rapid response imaging from 2m network for planetary anomalies. "
   ]
  },
  {
   "cell_type": "code",
   "execution_count": null,
   "id": "53917866",
   "metadata": {},
   "outputs": [],
   "source": [
    "sinistro_time_per_year = gaia_targets.sinistro_time_planet_per_year + gaia_targets.sinistro_time_bh_per_year\\\n",
    "                            + ztf_targets.sinistro_time_planet_per_year + ztf_targets.sinistro_time_bh_per_year \\\n",
    "                            + bulge_targets.sinistro_time_planet_per_year + bulge_targets.sinistro_time_bh_per_year\n",
    "sinistro_time_total = gaia_targets.sinistro_time_planet +  gaia_targets.sinistro_time_bh\\\n",
    "                            + ztf_targets.sinistro_time_planet + ztf_targets.sinistro_time_bh\\\n",
    "                            + bulge_targets.sinistro_time_planet + bulge_targets.sinistro_time_bh\n",
    "\n",
    "floyds_time_per_year = gaia_targets.floyds_time_bh_per_year + gaia_targets.floyds_time_planet_per_year\\\n",
    "                            + ztf_targets.floyds_time_bh_per_year + ztf_targets.floyds_time_planet_per_year\\\n",
    "                            + bulge_targets.floyds_time_bh_per_year + bulge_targets.floyds_time_planet_per_year\n",
    "floyds_time_total = gaia_targets.floyds_time_bh + gaia_targets.floyds_time_planet \\\n",
    "                            + ztf_targets.floyds_time_bh + ztf_targets.floyds_time_planet \\\n",
    "                            + bulge_targets.floyds_time_bh + bulge_targets.floyds_time_planet\n",
    "\n",
    "# 2m imagers are only used for planetary anomalies\n",
    "FT_imagers_time_per_year = gaia_targets.time_2m_imagers_planet_per_year \\\n",
    "                            + ztf_targets.time_2m_imagers_planet_per_year  \\\n",
    "                            + bulge_targets.time_2m_imagers_planet_per_year \n",
    "FT_imagers_time_total = gaia_targets.time_2m_imagers_planet  \\\n",
    "                            + ztf_targets.time_2m_imagers_planet \\\n",
    "                            + bulge_targets.time_2m_imagers_planet\n",
    "\n",
    "project_total = sinistro_time_total + floyds_time_total + FT_imagers_time_total\n",
    "print('Time per instrument class per year:')\n",
    "print('1m/Sinistro: '+str(sinistro_time_per_year)+'hrs')\n",
    "print('2m/FLOYDS: '+str(floyds_time_per_year)+'hrs')\n",
    "print('2m/imagers: '+str(FT_imagers_time_per_year)+'hrs\\n')\n",
    "\n",
    "print('Time per instrument over project lifetime:')\n",
    "print('1m/Sinistro: '+str(sinistro_time_total)+'hrs')\n",
    "print('2m/FLOYDS: '+str(floyds_time_total)+'hrs')\n",
    "print('2m/imagers: '+str(FT_imagers_time_total)+'hrs (Rapid Response mode)\\n')\n",
    "\n",
    "print('Overall project request = '+str(project_total)+'hrs')"
   ]
  },
  {
   "cell_type": "code",
   "execution_count": null,
   "id": "2306138f",
   "metadata": {},
   "outputs": [],
   "source": []
  },
  {
   "cell_type": "code",
   "execution_count": null,
   "id": "19873be0",
   "metadata": {},
   "outputs": [],
   "source": []
  },
  {
   "cell_type": "code",
   "execution_count": null,
   "id": "7bdf7083",
   "metadata": {},
   "outputs": [],
   "source": []
  }
 ],
 "metadata": {
  "kernelspec": {
   "display_name": "Python 3 (ipykernel)",
   "language": "python",
   "name": "python3"
  },
  "language_info": {
   "codemirror_mode": {
    "name": "ipython",
    "version": 3
   },
   "file_extension": ".py",
   "mimetype": "text/x-python",
   "name": "python",
   "nbconvert_exporter": "python",
   "pygments_lexer": "ipython3",
   "version": "3.9.5"
  }
 },
 "nbformat": 4,
 "nbformat_minor": 5
}
