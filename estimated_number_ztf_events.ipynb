{
 "cells": [
  {
   "cell_type": "markdown",
   "id": "179ca624",
   "metadata": {},
   "source": [
    "# ZTF Events and Observations\n",
    "\n",
    "The goal of this notebook is to estimate the number of microlensing events we can expect ZTF to discover during the lifetime of a Key Project. \n",
    "\n",
    "This estimate is based on the catalog of 60 events published by Rodriguez et al. 2022 2022ApJ...927..150R.  "
   ]
  },
  {
   "cell_type": "code",
   "execution_count": 31,
   "id": "ef9756d8",
   "metadata": {},
   "outputs": [],
   "source": [
    "from os import path\n",
    "import csv\n",
    "from astropy.coordinates import SkyCoord\n",
    "from astropy import units as u\n",
    "from astropy.table import Table, Column\n",
    "from astropy.io import fits\n",
    "import numpy as np\n",
    "import h5py"
   ]
  },
  {
   "cell_type": "code",
   "execution_count": 32,
   "id": "07030e68",
   "metadata": {},
   "outputs": [],
   "source": [
    "def read_event_list(event_file_path):\n",
    "    data = []\n",
    "    with open(event_file_path, 'r', newline='') as csvfile:\n",
    "        reader = csv.reader(csvfile, delimiter=',', quotechar='|')\n",
    "        for row in reader:\n",
    "            s = SkyCoord(row[1], row[2], frame='icrs', unit=(u.hourangle, u.deg))\n",
    "            data.append(row + [s])\n",
    "    data = np.array(data)\n",
    "\n",
    "    event_table = Table(\n",
    "                        [Column(data=data[:,0], name='Event'),\n",
    "                        Column(data=data[:,1], name='RA'),\n",
    "                        Column(data=data[:,2], name='Dec'),\n",
    "                        Column(data=data[:,3], name='Coordinate')]\n",
    "                        )\n",
    "\n",
    "    return event_table"
   ]
  },
  {
   "cell_type": "markdown",
   "id": "ea403caa",
   "metadata": {},
   "source": [
    "Reading in this list of events, we can calculate the number of lensing events detected each year."
   ]
  },
  {
   "cell_type": "code",
   "execution_count": 33,
   "id": "3b9b5fca",
   "metadata": {},
   "outputs": [],
   "source": [
    "event_file_path = 'ztf_event_list.csv'\n",
    "ztf_events = read_event_list(event_file_path)\n"
   ]
  },
  {
   "cell_type": "code",
   "execution_count": 34,
   "id": "85c58f5a",
   "metadata": {},
   "outputs": [],
   "source": [
    "def count_events_per_year(event_set):\n",
    "    events_per_year = {}\n",
    "    uid_events = 0\n",
    "    for event in event_set:\n",
    "        # ZTF events have been assigned names in a variety of formats, not all of which include the\n",
    "        # year they were discovered.  Sigh.  Going to parse as many of them as possible.\n",
    "        name = str(event['Event'])\n",
    "        if name[0:3] == 'ZTF' and name[3:4] in ['1', '2']:\n",
    "            year = '20' + name[3:5]\n",
    "        elif name[0:2] == 'AT' and name[2:3] in ['1', '2']:\n",
    "            year = name[2:6]\n",
    "        else:\n",
    "            uid_events += 1\n",
    "            year = '9999'\n",
    "        \n",
    "        if year != '9999':\n",
    "            if year not in events_per_year.keys():\n",
    "                events_per_year[year] = 1\n",
    "            else:\n",
    "                events_per_year[year] += 1\n",
    "\n",
    "    for key, value in events_per_year.items():\n",
    "        print(str(key)+': '+str(value)+' events')\n",
    "    print(str(uid_events)+' events with year unidentified')"
   ]
  },
  {
   "cell_type": "markdown",
   "id": "32196705",
   "metadata": {},
   "source": [
    "Now let's take a look at the expected rate of discoveries, bearing in mind that the survey and the alert system took a while to ramp up to the best rate of discoveries. "
   ]
  },
  {
   "cell_type": "code",
   "execution_count": 35,
   "id": "5bd48cdc",
   "metadata": {},
   "outputs": [
    {
     "name": "stdout",
     "output_type": "stream",
     "text": [
      "Events per year discovered in DR 14 data:\n",
      "2019: 25 events\n",
      "2020: 17 events\n",
      "2018: 11 events\n",
      "7 events with year unidentified\n"
     ]
    }
   ],
   "source": [
    "print('Events per year discovered in DR 14 data:')\n",
    "count_events_per_year(ztf_events)"
   ]
  },
  {
   "cell_type": "markdown",
   "id": "ad745e79",
   "metadata": {},
   "source": [
    "Rodriguez et al. noted 3 events showing parallax signatures, and no binaries. "
   ]
  },
  {
   "cell_type": "markdown",
   "id": "68fca154",
   "metadata": {},
   "source": [
    "## Expected number of events within a Key Project"
   ]
  },
  {
   "cell_type": "markdown",
   "id": "39e40043",
   "metadata": {},
   "source": [
    "From this it is clear that the rate of discovery is quite variable, but we can expect between 10-25 events per year.  **We adopt a conservative estimate of 10 events/year that would require full follow-up.**  "
   ]
  },
  {
   "cell_type": "markdown",
   "id": "29d26cbb",
   "metadata": {},
   "source": [
    "Based on the kp_simulator simulation, LCO would be able to observe 99% of all ZTF discovered events.  Rodriguez doesn't give an estimate of the expected fraction of stellar remnant events, so we use the figure of 7.9% of events derived from the Gaia catalog.  **This implies approximately 4-5 such lenses over the Key Project duration.**  "
   ]
  },
  {
   "cell_type": "markdown",
   "id": "bab551da",
   "metadata": {},
   "source": [
    "## Observing Time Required\n",
    "\n",
    "We can use the simulations of the Key Project observing strategy to estimate the total time required to observe ZTF events. The kp_simulator notebook generated a simulated set of 1000 events, and stored the simulated data products, which we read in here.  "
   ]
  },
  {
   "cell_type": "code",
   "execution_count": 36,
   "id": "a3fc1215",
   "metadata": {},
   "outputs": [],
   "source": [
    "def read_sim_event_table(file_path):\n",
    "    hdul = fits.open(file_path)\n",
    "    cols = hdul[1].columns\n",
    "    data = hdul[1].data\n",
    "    column_list = []\n",
    "    for col in cols:\n",
    "        if col.name == 'EventID':\n",
    "            dtype = 'str'\n",
    "        elif col.name in ['HEALpixel', 'nvisits']:\n",
    "            dtype = 'int'\n",
    "        else:\n",
    "            dtype = 'float'\n",
    "        column_list.append(Column(name=col.name, data=data[col.name], dtype=dtype))\n",
    "    \n",
    "    return Table(column_list)"
   ]
  },
  {
   "cell_type": "code",
   "execution_count": 37,
   "id": "e371210b",
   "metadata": {},
   "outputs": [],
   "source": [
    "def read_lco_sim_data(file_path, n_events):\n",
    "    f = h5py.File(file_path, \"r\")\n",
    "    dataset = {}\n",
    "    for eventid in f.keys():\n",
    "        dataset[eventid] = f[eventid][:]\n",
    "    \n",
    "    return dataset"
   ]
  },
  {
   "cell_type": "code",
   "execution_count": 38,
   "id": "184fe6fe",
   "metadata": {},
   "outputs": [],
   "source": [
    "sim_lco_lc_file = '../simulated_lco_lightcurves_ztf_events.hdf5'\n",
    "dataset = read_lco_sim_data(sim_lco_lc_file, 1000)"
   ]
  },
  {
   "cell_type": "code",
   "execution_count": 39,
   "id": "fe2ab01a",
   "metadata": {},
   "outputs": [],
   "source": [
    "sim_data_file = '../sim_ztf_events_table.fits'\n",
    "events_table = read_sim_event_table(sim_data_file)"
   ]
  },
  {
   "cell_type": "code",
   "execution_count": 40,
   "id": "df4f0aa1",
   "metadata": {},
   "outputs": [
    {
     "data": {
      "text/html": [
       "<div><i>Table length=1000</i>\n",
       "<table id=\"table140317963919120\" class=\"table-striped table-bordered table-condensed\">\n",
       "<thead><tr><th>EventID</th><th>HEALpixel</th><th>RA_deg</th><th>Dec_deg</th><th>baseline_mag</th><th>t0</th><th>u0</th><th>tE</th><th>rho</th><th>piEN</th><th>piEE</th><th>nvisits_g</th><th>nvisits_r</th><th>nvisits_i</th></tr></thead>\n",
       "<thead><tr><th>str14</th><th>int64</th><th>float64</th><th>float64</th><th>float64</th><th>float64</th><th>float64</th><th>float64</th><th>float64</th><th>float64</th><th>float64</th><th>float64</th><th>float64</th><th>float64</th></tr></thead>\n",
       "<tr><td>ZTFSim00001</td><td>16967</td><td>280.546875</td><td>18.2099552154541</td><td>22.21500015258789</td><td>2460852.75</td><td>-0.04362528771162033</td><td>30.735628128051758</td><td>0.006461730692535639</td><td>-0.6019977331161499</td><td>0.2210794985294342</td><td>236.0</td><td>551.0</td><td>16.0</td></tr>\n",
       "<tr><td>ZTFSim00002</td><td>28744</td><td>281.953125</td><td>-9.594066619873047</td><td>20.21500015258789</td><td>2460187.0</td><td>-0.04384046420454979</td><td>67.98983001708984</td><td>0.008356276899576187</td><td>0.805462658405304</td><td>0.28732314705848694</td><td>207.0</td><td>837.0</td><td>151.0</td></tr>\n",
       "<tr><td>ZTFSim00003</td><td>17485</td><td>288.984375</td><td>16.957761764526367</td><td>20.21500015258789</td><td>2460539.25</td><td>0.03157626837491989</td><td>19.419931411743164</td><td>0.011357011273503304</td><td>-0.03534340485930443</td><td>0.1564594954252243</td><td>443.0</td><td>760.0</td><td>115.0</td></tr>\n",
       "<tr><td>ZTFSim00004</td><td>24908</td><td>286.875</td><td>-0.5968416929244995</td><td>21.21500015258789</td><td>2460499.0</td><td>0.45690083503723145</td><td>56.87354278564453</td><td>0.024391474202275276</td><td>1.2989541292190552</td><td>-0.26660728454589844</td><td>224.0</td><td>675.0</td><td>126.0</td></tr>\n",
       "<tr><td>ZTFSim00005</td><td>8532</td><td>298.125</td><td>41.014495849609375</td><td>22.21500015258789</td><td>2460609.5</td><td>0.355535089969635</td><td>39.26779556274414</td><td>0.007727447431534529</td><td>-0.3777218163013458</td><td>-0.06324711441993713</td><td>356.0</td><td>685.0</td><td>11.0</td></tr>\n",
       "<tr><td>ZTFSim00006</td><td>9295</td><td>291.796875</td><td>38.682186126708984</td><td>21.21500015258789</td><td>2460314.75</td><td>0.11821319162845612</td><td>41.22639083862305</td><td>0.04102832451462746</td><td>-0.5792982578277588</td><td>0.05826864019036293</td><td>310.0</td><td>655.0</td><td>11.0</td></tr>\n",
       "<tr><td>...</td><td>...</td><td>...</td><td>...</td><td>...</td><td>...</td><td>...</td><td>...</td><td>...</td><td>...</td><td>...</td><td>...</td><td>...</td><td>...</td></tr>\n",
       "<tr><td>ZTFSim00994</td><td>24390</td><td>278.4375</td><td>0.5968416929244995</td><td>22.21500015258789</td><td>2460603.0</td><td>0.05363135412335396</td><td>10.408963203430176</td><td>0.001017299247905612</td><td>1.2644288539886475</td><td>0.2791380286216736</td><td>194.0</td><td>472.0</td><td>0.0</td></tr>\n",
       "<tr><td>ZTFSim00995</td><td>23371</td><td>285.46875</td><td>2.9855055809020996</td><td>20.21500015258789</td><td>2461193.75</td><td>0.0895630493760109</td><td>114.6817626953125</td><td>0.0034718255046755075</td><td>0.4291638433933258</td><td>-0.27817872166633606</td><td>558.0</td><td>1168.0</td><td>207.0</td></tr>\n",
       "<tr><td>ZTFSim00996</td><td>31799</td><td>258.046875</td><td>-16.957761764526367</td><td>20.21500015258789</td><td>2460160.25</td><td>0.8149979710578918</td><td>24.816226959228516</td><td>0.024127300828695297</td><td>-0.06451522558927536</td><td>-0.32916703820228577</td><td>105.0</td><td>432.0</td><td>0.0</td></tr>\n",
       "<tr><td>ZTFSim00997</td><td>20292</td><td>275.625</td><td>10.19991683959961</td><td>13.21500015258789</td><td>2460284.0</td><td>0.1293857991695404</td><td>36.837650299072266</td><td>0.004402610007673502</td><td>0.2749795615673065</td><td>0.08217128366231918</td><td>89.0</td><td>110.0</td><td>4.0</td></tr>\n",
       "<tr><td>ZTFSim00998</td><td>21574</td><td>279.140625</td><td>7.180755615234375</td><td>22.21500015258789</td><td>2460246.75</td><td>0.3692253828048706</td><td>28.29064178466797</td><td>0.004744044039398432</td><td>0.5367316603660583</td><td>-0.0847683772444725</td><td>395.0</td><td>943.0</td><td>2.0</td></tr>\n",
       "<tr><td>ZTFSim00999</td><td>25166</td><td>290.390625</td><td>-1.1937471628189087</td><td>22.21500015258789</td><td>2460316.5</td><td>0.2838594615459442</td><td>15.388416290283203</td><td>0.012430750764906406</td><td>0.9003813862800598</td><td>-0.20200680196285248</td><td>166.0</td><td>604.0</td><td>2.0</td></tr>\n",
       "<tr><td>ZTFSim01000</td><td>26685</td><td>266.484375</td><td>-4.780191898345947</td><td>21.21500015258789</td><td>2460265.75</td><td>0.04471493512392044</td><td>58.00618362426758</td><td>0.011890912428498268</td><td>0.9477788805961609</td><td>-0.06755219399929047</td><td>160.0</td><td>405.0</td><td>0.0</td></tr>\n",
       "</table></div>"
      ],
      "text/plain": [
       "<Table length=1000>\n",
       "  EventID   HEALpixel   RA_deg   ... nvisits_g nvisits_r nvisits_i\n",
       "   str14      int64    float64   ...  float64   float64   float64 \n",
       "----------- --------- ---------- ... --------- --------- ---------\n",
       "ZTFSim00001     16967 280.546875 ...     236.0     551.0      16.0\n",
       "ZTFSim00002     28744 281.953125 ...     207.0     837.0     151.0\n",
       "ZTFSim00003     17485 288.984375 ...     443.0     760.0     115.0\n",
       "ZTFSim00004     24908    286.875 ...     224.0     675.0     126.0\n",
       "ZTFSim00005      8532    298.125 ...     356.0     685.0      11.0\n",
       "ZTFSim00006      9295 291.796875 ...     310.0     655.0      11.0\n",
       "        ...       ...        ... ...       ...       ...       ...\n",
       "ZTFSim00994     24390   278.4375 ...     194.0     472.0       0.0\n",
       "ZTFSim00995     23371  285.46875 ...     558.0    1168.0     207.0\n",
       "ZTFSim00996     31799 258.046875 ...     105.0     432.0       0.0\n",
       "ZTFSim00997     20292    275.625 ...      89.0     110.0       4.0\n",
       "ZTFSim00998     21574 279.140625 ...     395.0     943.0       2.0\n",
       "ZTFSim00999     25166 290.390625 ...     166.0     604.0       2.0\n",
       "ZTFSim01000     26685 266.484375 ...     160.0     405.0       0.0"
      ]
     },
     "execution_count": 40,
     "metadata": {},
     "output_type": "execute_result"
    }
   ],
   "source": [
    "events_table"
   ]
  },
  {
   "cell_type": "markdown",
   "id": "49e3da0c",
   "metadata": {},
   "source": [
    "Selecting the long timescale events with tE > 100d, we can use the simulated LCO lightcurves produced by the Key Project observing strategy, to estimate the typical number of visits to target that we can expect.  We can also use the same data to estimate the total exposure time per target, since the simulation includes target brightness as a function of time.  In order to estimate realistic exposure times on LCO 1m telescopes for targets at these magnitudes, we use the following empirical function, which was derived from previous LCO 1m photometry. "
   ]
  },
  {
   "cell_type": "code",
   "execution_count": 41,
   "id": "14a816c2",
   "metadata": {},
   "outputs": [],
   "source": [
    "def ETC(magin):\n",
    "    \"\"\"\n",
    "    This function calculates the required exposure time\n",
    "    for a given iband magnitude (e.g. OGLE I which also\n",
    "    roughly matches SDSS i) based on a fit to the empiric\n",
    "    LCO photometry.  Adapted from code by Markus Hundertmark.\n",
    "    \"\"\"\n",
    "    \n",
    "    mag = np.zeros(len(magin))\n",
    "    mag[:] = magin\n",
    "    \n",
    "    # Cap the exposures at the bright end to minimise scintillation noise (min 5s)\n",
    "    idx = np.where(magin < 14.7)\n",
    "    mag[idx] = 14.7\n",
    "\n",
    "    lrms = 0.14075464 * mag * mag - 4.00137342 * mag + 24.17513298\n",
    "    snr = 1.0 / np.exp(lrms)\n",
    "\n",
    "    # target 4% -> snr 25\n",
    "    exptime = np.round((25. / snr)**2 * 300.,1)\n",
    "    \n",
    "    #Avoid exposures longer than 5min:\n",
    "    idx = np.where(exptime > 300.0)\n",
    "    exptime[idx] = 300.0\n",
    "\n",
    "    return  exptime"
   ]
  },
  {
   "cell_type": "markdown",
   "id": "d1beef04",
   "metadata": {},
   "source": [
    "In addition to the open-shutter time required during each visit to target, we need to account for telescope slew, instrument readout etc.  Based on the LCO instrumentation website (https://lco.global/observatory/instruments/), the overheads per frame for the LCO 1m Sinistro cameras is 28s.  So we add this to each exposure. "
   ]
  },
  {
   "cell_type": "code",
   "execution_count": 42,
   "id": "7e4762ee",
   "metadata": {},
   "outputs": [],
   "source": [
    "def estimate_obs_time(event_set, events_table, dataset):\n",
    "    \n",
    "    lco_obs_time = []\n",
    "    lco_nvisits = []\n",
    "    \n",
    "    for ievent in event_set:\n",
    "        event_name = events_table[ievent]['EventID']\n",
    "        lco_lc = dataset[event_name]\n",
    "        lco_nvisits.append(len(lco_lc))\n",
    "\n",
    "        # Calculate the exposure time per visit based on the target magnitude at the time, then \n",
    "        # add the instrumental overheads\n",
    "        if len(lco_lc) > 0:\n",
    "            lco_exposures = ETC(lco_lc[:,1])\n",
    "            lco_exposures += 28.0\n",
    "        else:\n",
    "            lco_exposures = np.zeros(1)\n",
    "        \n",
    "        lco_obs_time.append(lco_exposures.sum())\n",
    "        \n",
    "    lco_nvisits = np.array(lco_nvisits)\n",
    "    lco_obs_time = np.array(lco_obs_time)/3600.0\n",
    "\n",
    "    return lco_nvisits, lco_obs_time\n"
   ]
  },
  {
   "cell_type": "code",
   "execution_count": 63,
   "id": "82f9b240",
   "metadata": {},
   "outputs": [
    {
     "name": "stdout",
     "output_type": "stream",
     "text": [
      "Median number of LCO visits per event: 495.0\n",
      "Median total LCO exposure time per event: 9.322499999999998hrs\n"
     ]
    }
   ],
   "source": [
    "# Get the table indices of long-duration events\n",
    "bh_events = np.where(events_table['tE'] > 100.0)[0]\n",
    "\n",
    "# Estimate the number of visits per target and observing time required:\n",
    "(lco_nvisits, lco_obs_time) = estimate_obs_time(bh_events, events_table, dataset)\n",
    "\n",
    "time_per_bh_event = np.median(lco_obs_time)\n",
    "\n",
    "print('Median number of LCO visits per event: '+str(np.median(lco_nvisits)))\n",
    "print('Median total LCO exposure time per event: '+str(time_per_bh_event)+'hrs')"
   ]
  },
  {
   "cell_type": "code",
   "execution_count": 65,
   "id": "ae3dfe2e",
   "metadata": {},
   "outputs": [
    {
     "name": "stdout",
     "output_type": "stream",
     "text": [
      "The expected sample of 5 long-duration events is therefore estimated to required a total of 47.0hrs\n"
     ]
    }
   ],
   "source": [
    "n_bh_events = 5   # Over lifetime of project\n",
    "total_time_bh_events = n_bh_events * time_per_bh_event\n",
    "print('The expected sample of '+str(n_bh_events)+' long-duration events is therefore estimated to required a total of '+str(round(total_time_bh_events,0))+'hrs')\n",
    "       "
   ]
  },
  {
   "cell_type": "markdown",
   "id": "8411f0e4",
   "metadata": {},
   "source": [
    "To estimate the time required for stellar binary events, we adopt a similar approach, but select the correspondingly shorter timescale events from the simulated sample."
   ]
  },
  {
   "cell_type": "code",
   "execution_count": 45,
   "id": "f718d263",
   "metadata": {},
   "outputs": [
    {
     "name": "stdout",
     "output_type": "stream",
     "text": [
      "Median number of LCO visits per event: 182.0\n",
      "Median total LCO exposure time per event: 3.427666666666666hrs\n"
     ]
    }
   ],
   "source": [
    "# Get the table indices of stellar events\n",
    "stellar_events = np.where(events_table['tE'] < 100.0)[0]\n",
    "\n",
    "# Estimate the number of visits per target and observing time required:\n",
    "(lco_nvisits, lco_obs_time) = estimate_obs_time(stellar_events, events_table, dataset)\n",
    "\n",
    "time_per_event = np.median(lco_obs_time)\n",
    "\n",
    "print('Median number of LCO visits per event: '+str(np.median(lco_nvisits)))\n",
    "print('Median total LCO exposure time per event: '+str(time_per_event)+'hrs')"
   ]
  },
  {
   "cell_type": "code",
   "execution_count": 46,
   "id": "a43fb3a3",
   "metadata": {},
   "outputs": [
    {
     "name": "stdout",
     "output_type": "stream",
     "text": [
      "The expected sample of 25 stellar events is therefore estimated to required a total of 86.0hrs\n"
     ]
    }
   ],
   "source": [
    "n_stellar_events = 30 - n_bh_events # 10 per year, minus the longer events already accounted for\n",
    "total_time_stellar_events = n_stellar_events * time_per_event\n",
    "print('The expected sample of '+str(n_stellar_events)+' stellar events is therefore estimated to required a total of '+str(round(total_time_stellar_events,0))+'hrs')\n"
   ]
  },
  {
   "cell_type": "code",
   "execution_count": 47,
   "id": "51968f83",
   "metadata": {},
   "outputs": [
    {
     "name": "stdout",
     "output_type": "stream",
     "text": [
      "In total, LCO observations of ZTF targets would be expected to require: 188.52166666666665hrs\n"
     ]
    }
   ],
   "source": [
    "total_time = total_time_bh_events + total_time_stellar_events\n",
    "print('In total, LCO observations of ZTF targets would be expected to require: '+str(total_time)+'hrs')"
   ]
  },
  {
   "cell_type": "markdown",
   "id": "000a7457",
   "metadata": {},
   "source": [
    "## Observations from the 2m Network and Rapid Response Observations\n",
    "The 2m network offers the MusCAT multi-channel imagers and the FLOYDS spectrographs.  \n",
    "\n",
    "While only a few targets will be accessible to FLOYDS (r<15mag), the spectra are extremely useful to constrain the source star parameters for all categories of microlensing event.  In order to distinguish the source star spectrum from neighboring objects, spectra at multiple epochs with different lensing magnifications are required, though not at the high cadence required for photometry.  We propose to obtain 3 spectra of selected targets that reach magnitudes brighter than 15mag (where FLOYDS can deliver S/N=100 in 1hr of exposure).  \n",
    "\n",
    "We can estimate the potential number of FLOYDS targets using the simulated LCO lightcurve dataset, and identifing the fraction of targets likely to exceed 15mag.  "
   ]
  },
  {
   "cell_type": "code",
   "execution_count": 48,
   "id": "9de0d7d3",
   "metadata": {},
   "outputs": [],
   "source": [
    "sim_survey_lc_file = '../simulated_ztf_lightcurves.hdf5'\n",
    "survey_dataset = read_lco_sim_data(sim_survey_lc_file, 1000)"
   ]
  },
  {
   "cell_type": "code",
   "execution_count": 49,
   "id": "4ca28818",
   "metadata": {},
   "outputs": [
    {
     "name": "stdout",
     "output_type": "stream",
     "text": [
      "Fraction of events accessible to FLOYDS = 0.998\n",
      "Number of full survey lightcurve 998\n"
     ]
    }
   ],
   "source": [
    "bright_events = []\n",
    "n_survey_lc = 0\n",
    "for ievent in range(0,len(survey_dataset),1):\n",
    "    event_name = events_table[ievent]['EventID']\n",
    "    \n",
    "    survey_lc = dataset[event_name]\n",
    "    if len(survey_lc) > 0:\n",
    "        n_survey_lc += 1\n",
    "        idx = np.where(survey_lc[:,1] < 15.0)[0]\n",
    "        if len(idx) > 0:\n",
    "            bright_events.append(ievent)\n",
    "\n",
    "frac_bright_events = float(len(bright_events))/float(len(events_table))\n",
    "print('Fraction of events accessible to FLOYDS = '+str(frac_bright_events))\n",
    "print('Number of full survey lightcurve '+str(n_survey_lc))"
   ]
  },
  {
   "cell_type": "code",
   "execution_count": 52,
   "id": "199332d0",
   "metadata": {},
   "outputs": [
    {
     "name": "stdout",
     "output_type": "stream",
     "text": [
      "Number of ZTF targets likely to be accessible to FLOYDS = 30\n"
     ]
    }
   ],
   "source": [
    "n_targets = n_bh_events + n_stellar_events\n",
    "n_FLOYDS_targets = int(round(n_targets * frac_bright_events,0))\n",
    "print('Number of ZTF targets likely to be accessible to FLOYDS = '+str(n_FLOYDS_targets))"
   ]
  },
  {
   "cell_type": "markdown",
   "id": "ebec5bcf",
   "metadata": {},
   "source": [
    "Since there is a FLOYDS spectrograph in both hemispheres, the 2m network can observe any target while it is visible to our target surveys.  Of the stellar and BH targets we expect per year we expect to be able to observe ~ 2 with FLOYDS.  \n",
    "Each FLOYDS observation will consist of a 1hr science exposure plus the LCO-recommended set of calibration exposures: 2x60s arc frames with the HgAr and Zn lamps for wavelength calibration and 2x70s flat field exposures with the Tungsten-Halogen + Xenon lamp, since we will use the 1.2\" slit due to the crowding in this field.  Calibration frames will be requested both before and after each science spectrum.  \n",
    "\n",
    "Following the overhead calculation recommended on the FLOYDS website for a 1hr science spectrum:\n",
    "Initial setup and telescope slew is 120 s. \n",
    "Target acquisition is 90 s. \n",
    "Lamp flat exposures include an overhead of 60 s.\n",
    "Arc lamp exposures include an overhead of 100 s. \n",
    "All configuration changes (from flat to arc to science spectrum) require a 16 s software setup overhead. \n",
    "Readout time is 26 s. "
   ]
  },
  {
   "cell_type": "code",
   "execution_count": 54,
   "id": "9b0d1961",
   "metadata": {},
   "outputs": [],
   "source": [
    "# All times in s\n",
    "tel_slew = 120.0\n",
    "target_acquisition = 90.0\n",
    "lamp_exp_overhead = 60.0\n",
    "lamp_exp = 70.0\n",
    "arc_exp_overhead = 100.0\n",
    "arc_exp = 60.0\n",
    "software = 16.0\n",
    "readout = 26.0\n",
    "science_exp = 3600.0"
   ]
  },
  {
   "cell_type": "code",
   "execution_count": 55,
   "id": "9918d263",
   "metadata": {},
   "outputs": [
    {
     "name": "stdout",
     "output_type": "stream",
     "text": [
      "Time required per FLOYDS visit to 1 target = 76.66666666666667min\n"
     ]
    }
   ],
   "source": [
    "time_per_FLOYDS_visit = tel_slew + target_acquisition \\\n",
    "                    + lamp_exp_overhead + software + lamp_exp + readout \\\n",
    "                    + arc_exp_overhead + software + arc_exp + readout \\\n",
    "                    + software + science_exp + readout \\\n",
    "                    + lamp_exp_overhead + software + lamp_exp + readout \\\n",
    "                    + arc_exp_overhead + software + arc_exp + readout\n",
    "time_per_FLOYDS_visit /= 60.0\n",
    "\n",
    "print('Time required per FLOYDS visit to 1 target = '+str(time_per_FLOYDS_visit)+'min')"
   ]
  },
  {
   "cell_type": "markdown",
   "id": "947ef8cb",
   "metadata": {},
   "source": [
    "Taking 3 visits per FLOYDS target therefore requires a total request of (split 50:50 North/South):"
   ]
  },
  {
   "cell_type": "code",
   "execution_count": 61,
   "id": "a706c6da",
   "metadata": {},
   "outputs": [
    {
     "name": "stdout",
     "output_type": "stream",
     "text": [
      "Total time = 115.0hrs\n"
     ]
    }
   ],
   "source": [
    "total_FLOYDS_time = n_FLOYDS_targets * time_per_FLOYDS_visit * 3.0\n",
    "total_FLOYDS_time /= 60.0\n",
    "\n",
    "print('Total time = '+str(total_FLOYDS_time)+'hrs')"
   ]
  },
  {
   "cell_type": "markdown",
   "id": "9d721fd3",
   "metadata": {},
   "source": [
    "The MuSCAT four-channel imagers are particularly important for binary lens events, as they can deliver high-cadence multi-color observations of caustic crossings, short-lived, sharp discontinuities in the lightcurves that mark the entrance and exits of caustic crossings lasting ~ 6hrs.  It is extremely important to monitor their photometry continuously for that period in order to constrain the morphology of the lightcurve, which in turn constrains the models of the caustic structure and lens-source relative trajectory.  \n",
    "\n",
    "While almost all of the observations from this program can be made in queue-scheduled mode, the short timescale and transient nature of these features require rapid response time to ensure that we can observe as soon as they are detected by our real-time modeling system.  They also justify observing from every site in the network to ensure as continuous coverage as possible.  For this reason, we request the following time on MuSCAT and some 1m time is allocated in Rapid Response mode.\n",
    "\n",
    "Caustic crossings are only likely in the stellar binary events we expect from ZTF.  Adopting an average duration of 6hrs per caustic entrance and exit (i.e. 12hrs per target), we request in Rapid Response mode:"
   ]
  },
  {
   "cell_type": "code",
   "execution_count": 57,
   "id": "a2279888",
   "metadata": {},
   "outputs": [
    {
     "name": "stdout",
     "output_type": "stream",
     "text": [
      "Rapid Response Time requested for stellar binary caustic crossings = 300.0hrs\n"
     ]
    }
   ],
   "source": [
    "time_caustic = 6.0 # hrs, with two caustic crossings per event\n",
    "time_rr_stellar_events = n_stellar_events * 2.0 * time_caustic\n",
    "print('Rapid Response Time requested for stellar binary caustic crossings = '+str(time_rr_stellar_events)+'hrs')"
   ]
  },
  {
   "cell_type": "markdown",
   "id": "cb14eaca",
   "metadata": {},
   "source": [
    "ZTF targets are accessible to FTN/MusCAT for up to 8hrs per day, or a day fraction of:"
   ]
  },
  {
   "cell_type": "code",
   "execution_count": 58,
   "id": "22df2f61",
   "metadata": {},
   "outputs": [
    {
     "data": {
      "text/plain": [
       "0.3333333333333333"
      ]
     },
     "execution_count": 58,
     "metadata": {},
     "output_type": "execute_result"
    }
   ],
   "source": [
    "vis_fraction = 8.0 / 24.0\n",
    "vis_fraction"
   ]
  },
  {
   "cell_type": "markdown",
   "id": "be267f5b",
   "metadata": {},
   "source": [
    "We therefore request that this fraction of the require rapid response time from the FTN/MusCAT imagers, with the remaining rapid response time coming from the 1m/Sinistro network. "
   ]
  },
  {
   "cell_type": "code",
   "execution_count": 59,
   "id": "27046ac0",
   "metadata": {},
   "outputs": [
    {
     "name": "stdout",
     "output_type": "stream",
     "text": [
      "Time on 2m imagers in Rapid Response mode = 100.0\n"
     ]
    }
   ],
   "source": [
    "time_2m_imagers = time_rr_stellar_events * vis_fraction\n",
    "print('Time on 2m imagers in Rapid Response mode = '+str(time_2m_imagers))"
   ]
  },
  {
   "cell_type": "code",
   "execution_count": null,
   "id": "30b29e69",
   "metadata": {},
   "outputs": [],
   "source": []
  }
 ],
 "metadata": {
  "kernelspec": {
   "display_name": "Python 3 (ipykernel)",
   "language": "python",
   "name": "python3"
  },
  "language_info": {
   "codemirror_mode": {
    "name": "ipython",
    "version": 3
   },
   "file_extension": ".py",
   "mimetype": "text/x-python",
   "name": "python",
   "nbconvert_exporter": "python",
   "pygments_lexer": "ipython3",
   "version": "3.9.5"
  }
 },
 "nbformat": 4,
 "nbformat_minor": 5
}
